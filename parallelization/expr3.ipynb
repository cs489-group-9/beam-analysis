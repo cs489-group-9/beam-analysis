{
 "cells": [
  {
   "cell_type": "code",
   "execution_count": 1,
   "metadata": {},
   "outputs": [
    {
     "name": "stdout",
     "output_type": "stream",
     "text": [
      "INFO:__main__:Fetching and uploading push and schedule workflow runs...\n"
     ]
    },
    {
     "name": "stderr",
     "output_type": "stream",
     "text": [
      "  0%|          | 1/1000 [00:01<26:51,  1.61s/it]"
     ]
    },
    {
     "name": "stdout",
     "output_type": "stream",
     "text": [
      "https://api.github.com/repos/apache/beam/actions/runs/7117415845/jobs\n",
      "\n"
     ]
    },
    {
     "name": "stderr",
     "output_type": "stream",
     "text": [
      "  0%|          | 2/1000 [00:02<18:21,  1.10s/it]"
     ]
    },
    {
     "name": "stdout",
     "output_type": "stream",
     "text": [
      "https://api.github.com/repos/apache/beam/actions/runs/8023036513/jobs\n",
      "\n"
     ]
    },
    {
     "name": "stderr",
     "output_type": "stream",
     "text": [
      "  0%|          | 3/1000 [00:03<21:03,  1.27s/it]"
     ]
    },
    {
     "name": "stdout",
     "output_type": "stream",
     "text": [
      "https://api.github.com/repos/apache/beam/actions/runs/7119612852/jobs\n",
      "\n"
     ]
    },
    {
     "name": "stderr",
     "output_type": "stream",
     "text": [
      "  0%|          | 5/1000 [00:05<16:06,  1.03it/s]"
     ]
    },
    {
     "name": "stdout",
     "output_type": "stream",
     "text": [
      "https://api.github.com/repos/apache/beam/actions/runs/7630543901/jobs\n",
      "\n"
     ]
    },
    {
     "name": "stderr",
     "output_type": "stream",
     "text": [
      "  1%|          | 6/1000 [00:06<18:08,  1.10s/it]"
     ]
    },
    {
     "name": "stdout",
     "output_type": "stream",
     "text": [
      "https://api.github.com/repos/apache/beam/actions/runs/7352042128/jobs\n",
      "\n",
      "https://api.github.com/repos/apache/beam/actions/runs/7361469177/jobs\n",
      "\n"
     ]
    },
    {
     "name": "stderr",
     "output_type": "stream",
     "text": [
      "  1%|          | 7/1000 [00:07<17:42,  1.07s/it]"
     ]
    },
    {
     "name": "stdout",
     "output_type": "stream",
     "text": [
      "https://api.github.com/repos/apache/beam/actions/runs/7453405220/jobs\n",
      "\n"
     ]
    },
    {
     "name": "stderr",
     "output_type": "stream",
     "text": [
      "  1%|          | 8/1000 [00:08<17:51,  1.08s/it]"
     ]
    },
    {
     "name": "stdout",
     "output_type": "stream",
     "text": [
      "https://api.github.com/repos/apache/beam/actions/runs/8346553030/jobs\n",
      "\n"
     ]
    },
    {
     "name": "stderr",
     "output_type": "stream",
     "text": [
      "  1%|          | 9/1000 [00:09<18:16,  1.11s/it]"
     ]
    },
    {
     "name": "stdout",
     "output_type": "stream",
     "text": [
      "https://api.github.com/repos/apache/beam/actions/runs/7425734350/jobs\n",
      "\n"
     ]
    },
    {
     "name": "stderr",
     "output_type": "stream",
     "text": [
      "  1%|          | 10/1000 [00:11<21:11,  1.28s/it]"
     ]
    },
    {
     "name": "stdout",
     "output_type": "stream",
     "text": [
      "https://api.github.com/repos/apache/beam/actions/runs/7643379512/jobs\n",
      "\n"
     ]
    },
    {
     "name": "stderr",
     "output_type": "stream",
     "text": [
      "  1%|          | 11/1000 [00:13<22:01,  1.34s/it]"
     ]
    },
    {
     "name": "stdout",
     "output_type": "stream",
     "text": [
      "https://api.github.com/repos/apache/beam/actions/runs/7145921057/jobs\n",
      "\n"
     ]
    },
    {
     "name": "stderr",
     "output_type": "stream",
     "text": [
      "  1%|          | 12/1000 [00:13<19:21,  1.18s/it]"
     ]
    },
    {
     "name": "stdout",
     "output_type": "stream",
     "text": [
      "https://api.github.com/repos/apache/beam/actions/runs/7116528478/jobs\n",
      "\n"
     ]
    },
    {
     "name": "stderr",
     "output_type": "stream",
     "text": [
      "  1%|▏         | 13/1000 [00:15<21:35,  1.31s/it]"
     ]
    },
    {
     "name": "stdout",
     "output_type": "stream",
     "text": [
      "https://api.github.com/repos/apache/beam/actions/runs/7063102196/jobs\n",
      "\n"
     ]
    },
    {
     "name": "stderr",
     "output_type": "stream",
     "text": [
      "  2%|▏         | 15/1000 [00:16<14:58,  1.10it/s]"
     ]
    },
    {
     "name": "stdout",
     "output_type": "stream",
     "text": [
      "https://api.github.com/repos/apache/beam/actions/runs/7196564678/jobs\n",
      "\n"
     ]
    },
    {
     "name": "stderr",
     "output_type": "stream",
     "text": [
      "  2%|▏         | 16/1000 [00:18<18:37,  1.14s/it]"
     ]
    },
    {
     "name": "stdout",
     "output_type": "stream",
     "text": [
      "https://api.github.com/repos/apache/beam/actions/runs/7977480701/jobs\n",
      "\n"
     ]
    },
    {
     "name": "stderr",
     "output_type": "stream",
     "text": [
      "  2%|▏         | 17/1000 [00:18<16:22,  1.00it/s]"
     ]
    },
    {
     "name": "stdout",
     "output_type": "stream",
     "text": [
      "https://api.github.com/repos/apache/beam/actions/runs/7143486810/jobs\n",
      "\n"
     ]
    },
    {
     "name": "stderr",
     "output_type": "stream",
     "text": [
      "  2%|▏         | 18/1000 [00:20<17:30,  1.07s/it]"
     ]
    },
    {
     "name": "stdout",
     "output_type": "stream",
     "text": [
      "https://api.github.com/repos/apache/beam/actions/runs/7892464559/jobs\n",
      "\n"
     ]
    },
    {
     "name": "stderr",
     "output_type": "stream",
     "text": [
      "  2%|▏         | 20/1000 [00:21<16:32,  1.01s/it]"
     ]
    },
    {
     "name": "stdout",
     "output_type": "stream",
     "text": [
      "https://api.github.com/repos/apache/beam/actions/runs/6973656923/jobs\n",
      "\n"
     ]
    },
    {
     "name": "stderr",
     "output_type": "stream",
     "text": [
      "  2%|▏         | 21/1000 [00:23<18:08,  1.11s/it]"
     ]
    },
    {
     "name": "stdout",
     "output_type": "stream",
     "text": [
      "https://api.github.com/repos/apache/beam/actions/runs/7183966271/jobs\n",
      "\n"
     ]
    },
    {
     "name": "stderr",
     "output_type": "stream",
     "text": [
      "  2%|▏         | 22/1000 [00:24<18:34,  1.14s/it]"
     ]
    },
    {
     "name": "stdout",
     "output_type": "stream",
     "text": [
      "https://api.github.com/repos/apache/beam/actions/runs/7662373792/jobs\n",
      "\n"
     ]
    },
    {
     "name": "stderr",
     "output_type": "stream",
     "text": [
      "  2%|▏         | 23/1000 [00:25<16:54,  1.04s/it]"
     ]
    },
    {
     "name": "stdout",
     "output_type": "stream",
     "text": [
      "https://api.github.com/repos/apache/beam/actions/runs/7918710986/jobs\n",
      "\n"
     ]
    },
    {
     "name": "stderr",
     "output_type": "stream",
     "text": [
      "  2%|▏         | 24/1000 [00:26<17:08,  1.05s/it]"
     ]
    },
    {
     "name": "stdout",
     "output_type": "stream",
     "text": [
      "https://api.github.com/repos/apache/beam/actions/runs/7341665686/jobs\n",
      "\n"
     ]
    },
    {
     "name": "stderr",
     "output_type": "stream",
     "text": [
      "  2%|▎         | 25/1000 [00:27<17:59,  1.11s/it]"
     ]
    },
    {
     "name": "stdout",
     "output_type": "stream",
     "text": [
      "https://api.github.com/repos/apache/beam/actions/runs/7289593874/jobs\n",
      "\n"
     ]
    },
    {
     "name": "stderr",
     "output_type": "stream",
     "text": [
      "  3%|▎         | 26/1000 [00:28<15:52,  1.02it/s]"
     ]
    },
    {
     "name": "stdout",
     "output_type": "stream",
     "text": [
      "https://api.github.com/repos/apache/beam/actions/runs/7182215595/jobs\n",
      "\n"
     ]
    },
    {
     "name": "stderr",
     "output_type": "stream",
     "text": [
      "  3%|▎         | 27/1000 [00:29<18:56,  1.17s/it]"
     ]
    },
    {
     "name": "stdout",
     "output_type": "stream",
     "text": [
      "https://api.github.com/repos/apache/beam/actions/runs/7467361052/jobs\n",
      "\n"
     ]
    },
    {
     "name": "stderr",
     "output_type": "stream",
     "text": [
      "  3%|▎         | 28/1000 [00:31<20:23,  1.26s/it]"
     ]
    },
    {
     "name": "stdout",
     "output_type": "stream",
     "text": [
      "https://api.github.com/repos/apache/beam/actions/runs/7210830638/jobs\n",
      "\n"
     ]
    },
    {
     "name": "stderr",
     "output_type": "stream",
     "text": [
      "  3%|▎         | 29/1000 [00:32<21:58,  1.36s/it]"
     ]
    },
    {
     "name": "stdout",
     "output_type": "stream",
     "text": [
      "https://api.github.com/repos/apache/beam/actions/runs/7631348835/jobs\n",
      "\n"
     ]
    },
    {
     "name": "stderr",
     "output_type": "stream",
     "text": [
      "  3%|▎         | 30/1000 [00:34<21:34,  1.33s/it]"
     ]
    },
    {
     "name": "stdout",
     "output_type": "stream",
     "text": [
      "https://api.github.com/repos/apache/beam/actions/runs/7255249134/jobs\n",
      "\n"
     ]
    },
    {
     "name": "stderr",
     "output_type": "stream",
     "text": [
      "  3%|▎         | 31/1000 [00:35<21:31,  1.33s/it]"
     ]
    },
    {
     "name": "stdout",
     "output_type": "stream",
     "text": [
      "https://api.github.com/repos/apache/beam/actions/runs/7182282892/jobs\n",
      "\n"
     ]
    },
    {
     "name": "stderr",
     "output_type": "stream",
     "text": [
      "  3%|▎         | 32/1000 [00:35<17:38,  1.09s/it]"
     ]
    },
    {
     "name": "stdout",
     "output_type": "stream",
     "text": [
      "https://api.github.com/repos/apache/beam/actions/runs/7132601708/jobs\n",
      "\n"
     ]
    },
    {
     "name": "stderr",
     "output_type": "stream",
     "text": [
      "  3%|▎         | 33/1000 [00:37<19:43,  1.22s/it]"
     ]
    },
    {
     "name": "stdout",
     "output_type": "stream",
     "text": [
      "https://api.github.com/repos/apache/beam/actions/runs/8205853690/jobs\n",
      "\n"
     ]
    },
    {
     "name": "stderr",
     "output_type": "stream",
     "text": [
      "  3%|▎         | 34/1000 [00:38<19:32,  1.21s/it]"
     ]
    },
    {
     "name": "stdout",
     "output_type": "stream",
     "text": [
      "https://api.github.com/repos/apache/beam/actions/runs/6825816511/jobs\n",
      "\n"
     ]
    },
    {
     "name": "stderr",
     "output_type": "stream",
     "text": [
      "  4%|▎         | 36/1000 [00:39<13:01,  1.23it/s]"
     ]
    },
    {
     "name": "stdout",
     "output_type": "stream",
     "text": [
      "https://api.github.com/repos/apache/beam/actions/runs/6961521680/jobs\n",
      "\n"
     ]
    },
    {
     "name": "stderr",
     "output_type": "stream",
     "text": [
      "  4%|▎         | 37/1000 [00:40<16:00,  1.00it/s]"
     ]
    },
    {
     "name": "stdout",
     "output_type": "stream",
     "text": [
      "https://api.github.com/repos/apache/beam/actions/runs/8267504948/jobs\n",
      "\n"
     ]
    },
    {
     "name": "stderr",
     "output_type": "stream",
     "text": [
      "  4%|▍         | 38/1000 [00:42<17:11,  1.07s/it]"
     ]
    },
    {
     "name": "stdout",
     "output_type": "stream",
     "text": [
      "https://api.github.com/repos/apache/beam/actions/runs/7453051298/jobs\n",
      "\n"
     ]
    },
    {
     "name": "stderr",
     "output_type": "stream",
     "text": [
      "  4%|▍         | 39/1000 [00:43<18:26,  1.15s/it]"
     ]
    },
    {
     "name": "stdout",
     "output_type": "stream",
     "text": [
      "https://api.github.com/repos/apache/beam/actions/runs/7279115091/jobs\n",
      "\n"
     ]
    },
    {
     "name": "stderr",
     "output_type": "stream",
     "text": [
      "  4%|▍         | 40/1000 [00:45<21:17,  1.33s/it]"
     ]
    },
    {
     "name": "stdout",
     "output_type": "stream",
     "text": [
      "https://api.github.com/repos/apache/beam/actions/runs/8087949273/jobs\n",
      "\n"
     ]
    },
    {
     "name": "stderr",
     "output_type": "stream",
     "text": [
      "  4%|▍         | 41/1000 [00:46<22:07,  1.38s/it]"
     ]
    },
    {
     "name": "stdout",
     "output_type": "stream",
     "text": [
      "https://api.github.com/repos/apache/beam/actions/runs/6936307209/jobs\n",
      "\n"
     ]
    },
    {
     "name": "stderr",
     "output_type": "stream",
     "text": [
      "  4%|▍         | 42/1000 [00:48<21:54,  1.37s/it]"
     ]
    },
    {
     "name": "stdout",
     "output_type": "stream",
     "text": [
      "https://api.github.com/repos/apache/beam/actions/runs/7174596029/jobs\n",
      "\n"
     ]
    },
    {
     "name": "stderr",
     "output_type": "stream",
     "text": [
      "  4%|▍         | 43/1000 [00:49<20:41,  1.30s/it]"
     ]
    },
    {
     "name": "stdout",
     "output_type": "stream",
     "text": [
      "https://api.github.com/repos/apache/beam/actions/runs/7132736553/jobs\n",
      "\n"
     ]
    },
    {
     "name": "stderr",
     "output_type": "stream",
     "text": [
      "  4%|▍         | 44/1000 [00:50<21:33,  1.35s/it]"
     ]
    },
    {
     "name": "stdout",
     "output_type": "stream",
     "text": [
      "https://api.github.com/repos/apache/beam/actions/runs/7277931685/jobs\n",
      "\n"
     ]
    },
    {
     "name": "stderr",
     "output_type": "stream",
     "text": [
      "  4%|▍         | 45/1000 [00:52<23:15,  1.46s/it]"
     ]
    },
    {
     "name": "stdout",
     "output_type": "stream",
     "text": [
      "https://api.github.com/repos/apache/beam/actions/runs/6772814462/jobs\n",
      "\n"
     ]
    },
    {
     "name": "stderr",
     "output_type": "stream",
     "text": [
      "  5%|▍         | 48/1000 [00:55<19:20,  1.22s/it]"
     ]
    },
    {
     "name": "stdout",
     "output_type": "stream",
     "text": [
      "https://api.github.com/repos/apache/beam/actions/runs/7547728618/jobs\n",
      "\n"
     ]
    },
    {
     "name": "stderr",
     "output_type": "stream",
     "text": [
      "  5%|▍         | 49/1000 [00:56<20:04,  1.27s/it]"
     ]
    },
    {
     "name": "stdout",
     "output_type": "stream",
     "text": [
      "https://api.github.com/repos/apache/beam/actions/runs/6791397375/jobs\n",
      "\n"
     ]
    },
    {
     "name": "stderr",
     "output_type": "stream",
     "text": [
      "  5%|▌         | 50/1000 [00:57<17:37,  1.11s/it]"
     ]
    },
    {
     "name": "stdout",
     "output_type": "stream",
     "text": [
      "https://api.github.com/repos/apache/beam/actions/runs/7804351657/jobs\n",
      "\n"
     ]
    },
    {
     "name": "stderr",
     "output_type": "stream",
     "text": [
      "  5%|▌         | 51/1000 [00:59<19:58,  1.26s/it]"
     ]
    },
    {
     "name": "stdout",
     "output_type": "stream",
     "text": [
      "https://api.github.com/repos/apache/beam/actions/runs/7504048170/jobs\n",
      "\n"
     ]
    },
    {
     "name": "stderr",
     "output_type": "stream",
     "text": [
      "  5%|▌         | 53/1000 [01:00<17:58,  1.14s/it]"
     ]
    },
    {
     "name": "stdout",
     "output_type": "stream",
     "text": [
      "https://api.github.com/repos/apache/beam/actions/runs/8149866908/jobs\n",
      "\n"
     ]
    },
    {
     "name": "stderr",
     "output_type": "stream",
     "text": [
      "  6%|▌         | 55/1000 [01:01<12:51,  1.22it/s]"
     ]
    },
    {
     "name": "stdout",
     "output_type": "stream",
     "text": [
      "https://api.github.com/repos/apache/beam/actions/runs/6880996620/jobs\n",
      "\n"
     ]
    },
    {
     "name": "stderr",
     "output_type": "stream",
     "text": [
      "  6%|▌         | 56/1000 [01:02<13:17,  1.18it/s]"
     ]
    },
    {
     "name": "stdout",
     "output_type": "stream",
     "text": [
      "https://api.github.com/repos/apache/beam/actions/runs/6880755436/jobs\n",
      "\n"
     ]
    },
    {
     "name": "stderr",
     "output_type": "stream",
     "text": [
      "  6%|▌         | 57/1000 [01:03<14:47,  1.06it/s]"
     ]
    },
    {
     "name": "stdout",
     "output_type": "stream",
     "text": [
      "https://api.github.com/repos/apache/beam/actions/runs/8367308615/jobs\n",
      "\n"
     ]
    },
    {
     "name": "stderr",
     "output_type": "stream",
     "text": [
      "  6%|▌         | 58/1000 [01:04<12:56,  1.21it/s]"
     ]
    },
    {
     "name": "stdout",
     "output_type": "stream",
     "text": [
      "https://api.github.com/repos/apache/beam/actions/runs/7007899269/jobs\n",
      "\n"
     ]
    },
    {
     "name": "stderr",
     "output_type": "stream",
     "text": [
      "  6%|▌         | 59/1000 [01:05<14:18,  1.10it/s]"
     ]
    },
    {
     "name": "stdout",
     "output_type": "stream",
     "text": [
      "https://api.github.com/repos/apache/beam/actions/runs/6828900979/jobs\n",
      "\n"
     ]
    },
    {
     "name": "stderr",
     "output_type": "stream",
     "text": [
      "  6%|▌         | 60/1000 [01:07<17:47,  1.14s/it]"
     ]
    },
    {
     "name": "stdout",
     "output_type": "stream",
     "text": [
      "https://api.github.com/repos/apache/beam/actions/runs/8365619685/jobs\n",
      "\n"
     ]
    },
    {
     "name": "stderr",
     "output_type": "stream",
     "text": [
      "  6%|▌         | 61/1000 [01:08<19:14,  1.23s/it]"
     ]
    },
    {
     "name": "stdout",
     "output_type": "stream",
     "text": [
      "https://api.github.com/repos/apache/beam/actions/runs/8397176093/jobs\n",
      "\n"
     ]
    },
    {
     "name": "stderr",
     "output_type": "stream",
     "text": [
      "  6%|▌         | 62/1000 [01:10<19:30,  1.25s/it]"
     ]
    },
    {
     "name": "stdout",
     "output_type": "stream",
     "text": [
      "https://api.github.com/repos/apache/beam/actions/runs/7571793546/jobs\n",
      "\n"
     ]
    },
    {
     "name": "stderr",
     "output_type": "stream",
     "text": [
      "  6%|▋         | 64/1000 [01:11<13:58,  1.12it/s]"
     ]
    },
    {
     "name": "stdout",
     "output_type": "stream",
     "text": [
      "https://api.github.com/repos/apache/beam/actions/runs/7890698200/jobs\n",
      "\n"
     ]
    },
    {
     "name": "stderr",
     "output_type": "stream",
     "text": [
      "  7%|▋         | 66/1000 [01:12<11:46,  1.32it/s]"
     ]
    },
    {
     "name": "stdout",
     "output_type": "stream",
     "text": [
      "https://api.github.com/repos/apache/beam/actions/runs/7133156418/jobs\n",
      "\n"
     ]
    },
    {
     "name": "stderr",
     "output_type": "stream",
     "text": [
      "  7%|▋         | 67/1000 [01:13<12:22,  1.26it/s]"
     ]
    },
    {
     "name": "stdout",
     "output_type": "stream",
     "text": [
      "https://api.github.com/repos/apache/beam/actions/runs/7731342625/jobs\n",
      "\n"
     ]
    },
    {
     "name": "stderr",
     "output_type": "stream",
     "text": [
      "  7%|▋         | 68/1000 [01:13<11:43,  1.32it/s]"
     ]
    },
    {
     "name": "stdout",
     "output_type": "stream",
     "text": [
      "https://api.github.com/repos/apache/beam/actions/runs/7631691739/jobs\n",
      "\n"
     ]
    },
    {
     "name": "stderr",
     "output_type": "stream",
     "text": [
      "  7%|▋         | 69/1000 [01:14<12:25,  1.25it/s]"
     ]
    },
    {
     "name": "stdout",
     "output_type": "stream",
     "text": [
      "https://api.github.com/repos/apache/beam/actions/runs/6831599480/jobs\n",
      "\n"
     ]
    },
    {
     "name": "stderr",
     "output_type": "stream",
     "text": [
      "  7%|▋         | 70/1000 [01:15<14:27,  1.07it/s]"
     ]
    },
    {
     "name": "stdout",
     "output_type": "stream",
     "text": [
      "https://api.github.com/repos/apache/beam/actions/runs/6695365073/jobs\n",
      "\n"
     ]
    },
    {
     "name": "stderr",
     "output_type": "stream",
     "text": [
      "  7%|▋         | 71/1000 [01:17<15:55,  1.03s/it]"
     ]
    },
    {
     "name": "stdout",
     "output_type": "stream",
     "text": [
      "https://api.github.com/repos/apache/beam/actions/runs/7450803243/jobs\n",
      "\n"
     ]
    },
    {
     "name": "stderr",
     "output_type": "stream",
     "text": [
      "  7%|▋         | 72/1000 [01:18<16:09,  1.04s/it]"
     ]
    },
    {
     "name": "stdout",
     "output_type": "stream",
     "text": [
      "https://api.github.com/repos/apache/beam/actions/runs/6894491151/jobs\n",
      "\n"
     ]
    },
    {
     "name": "stderr",
     "output_type": "stream",
     "text": [
      "  7%|▋         | 73/1000 [01:19<17:04,  1.10s/it]"
     ]
    },
    {
     "name": "stdout",
     "output_type": "stream",
     "text": [
      "https://api.github.com/repos/apache/beam/actions/runs/7589350229/jobs\n",
      "\n"
     ]
    },
    {
     "name": "stderr",
     "output_type": "stream",
     "text": [
      "  8%|▊         | 75/1000 [01:20<14:06,  1.09it/s]"
     ]
    },
    {
     "name": "stdout",
     "output_type": "stream",
     "text": [
      "https://api.github.com/repos/apache/beam/actions/runs/7508773935/jobs\n",
      "\n"
     ]
    },
    {
     "name": "stderr",
     "output_type": "stream",
     "text": [
      "  8%|▊         | 76/1000 [01:22<15:42,  1.02s/it]"
     ]
    },
    {
     "name": "stdout",
     "output_type": "stream",
     "text": [
      "https://api.github.com/repos/apache/beam/actions/runs/7616609339/jobs\n",
      "\n"
     ]
    },
    {
     "name": "stderr",
     "output_type": "stream",
     "text": [
      "  8%|▊         | 77/1000 [01:23<16:36,  1.08s/it]"
     ]
    },
    {
     "name": "stdout",
     "output_type": "stream",
     "text": [
      "https://api.github.com/repos/apache/beam/actions/runs/6834189781/jobs\n",
      "\n"
     ]
    },
    {
     "name": "stderr",
     "output_type": "stream",
     "text": [
      "  8%|▊         | 78/1000 [01:24<16:49,  1.09s/it]"
     ]
    },
    {
     "name": "stdout",
     "output_type": "stream",
     "text": [
      "https://api.github.com/repos/apache/beam/actions/runs/8394443476/jobs\n",
      "\n"
     ]
    },
    {
     "name": "stderr",
     "output_type": "stream",
     "text": [
      "  8%|▊         | 80/1000 [01:26<15:53,  1.04s/it]"
     ]
    },
    {
     "name": "stdout",
     "output_type": "stream",
     "text": [
      "https://api.github.com/repos/apache/beam/actions/runs/7889937534/jobs\n",
      "\n"
     ]
    },
    {
     "name": "stderr",
     "output_type": "stream",
     "text": [
      "  8%|▊         | 81/1000 [01:27<18:55,  1.24s/it]"
     ]
    },
    {
     "name": "stdout",
     "output_type": "stream",
     "text": [
      "https://api.github.com/repos/apache/beam/actions/runs/7856184041/jobs\n",
      "\n"
     ]
    },
    {
     "name": "stderr",
     "output_type": "stream",
     "text": [
      "  8%|▊         | 82/1000 [01:29<18:43,  1.22s/it]"
     ]
    },
    {
     "name": "stdout",
     "output_type": "stream",
     "text": [
      "https://api.github.com/repos/apache/beam/actions/runs/7168863518/jobs\n",
      "\n"
     ]
    },
    {
     "name": "stderr",
     "output_type": "stream",
     "text": [
      "  8%|▊         | 83/1000 [01:29<16:58,  1.11s/it]"
     ]
    },
    {
     "name": "stdout",
     "output_type": "stream",
     "text": [
      "https://api.github.com/repos/apache/beam/actions/runs/7105709691/jobs\n",
      "\n"
     ]
    },
    {
     "name": "stderr",
     "output_type": "stream",
     "text": [
      "  8%|▊         | 83/1000 [01:31<16:46,  1.10s/it]\n"
     ]
    },
    {
     "ename": "KeyboardInterrupt",
     "evalue": "",
     "output_type": "error",
     "traceback": [
      "\u001b[1;31m---------------------------------------------------------------------------\u001b[0m",
      "\u001b[1;31mKeyboardInterrupt\u001b[0m                         Traceback (most recent call last)",
      "\u001b[1;32m~\\AppData\\Local\\Temp\\ipykernel_74928\\4205251654.py\u001b[0m in \u001b[0;36m<module>\u001b[1;34m\u001b[0m\n\u001b[0;32m     34\u001b[0m \u001b[1;32mfor\u001b[0m \u001b[0msha\u001b[0m \u001b[1;32min\u001b[0m \u001b[0mtqdm\u001b[0m\u001b[1;33m(\u001b[0m\u001b[0mcommit_shas\u001b[0m\u001b[1;33m[\u001b[0m\u001b[1;36m0\u001b[0m\u001b[1;33m:\u001b[0m\u001b[1;36m1000\u001b[0m\u001b[1;33m]\u001b[0m\u001b[1;33m)\u001b[0m\u001b[1;33m:\u001b[0m\u001b[1;33m\u001b[0m\u001b[1;33m\u001b[0m\u001b[0m\n\u001b[0;32m     35\u001b[0m     \u001b[0mpush_runs\u001b[0m \u001b[1;33m=\u001b[0m \u001b[0mapi\u001b[0m\u001b[1;33m.\u001b[0m\u001b[0mfetchData\u001b[0m\u001b[1;33m(\u001b[0m\u001b[1;34mf\"actions/runs?event=push&head_sha={sha}\"\u001b[0m\u001b[1;33m)\u001b[0m\u001b[1;33m\u001b[0m\u001b[1;33m\u001b[0m\u001b[0m\n\u001b[1;32m---> 36\u001b[1;33m     \u001b[0mschedule_runs\u001b[0m \u001b[1;33m=\u001b[0m \u001b[0mapi\u001b[0m\u001b[1;33m.\u001b[0m\u001b[0mfetchData\u001b[0m\u001b[1;33m(\u001b[0m\u001b[1;34mf\"actions/runs?event=schedule&head_sha={sha}\"\u001b[0m\u001b[1;33m)\u001b[0m\u001b[1;33m\u001b[0m\u001b[1;33m\u001b[0m\u001b[0m\n\u001b[0m\u001b[0;32m     37\u001b[0m     \u001b[0mfile\u001b[0m \u001b[1;33m=\u001b[0m \u001b[0mopen\u001b[0m\u001b[1;33m(\u001b[0m\u001b[1;34m\"jobs_urls.txt\"\u001b[0m\u001b[1;33m,\u001b[0m \u001b[1;34m\"a\"\u001b[0m\u001b[1;33m)\u001b[0m\u001b[1;33m\u001b[0m\u001b[1;33m\u001b[0m\u001b[0m\n\u001b[0;32m     38\u001b[0m     \u001b[1;32mfor\u001b[0m \u001b[0mrun\u001b[0m \u001b[1;32min\u001b[0m \u001b[1;33m(\u001b[0m\u001b[0mpush_runs\u001b[0m\u001b[1;33m[\u001b[0m\u001b[1;34m'workflow_runs'\u001b[0m\u001b[1;33m]\u001b[0m \u001b[1;33m+\u001b[0m \u001b[0mschedule_runs\u001b[0m\u001b[1;33m[\u001b[0m\u001b[1;34m'workflow_runs'\u001b[0m\u001b[1;33m]\u001b[0m\u001b[1;33m)\u001b[0m\u001b[1;33m:\u001b[0m\u001b[1;33m\u001b[0m\u001b[1;33m\u001b[0m\u001b[0m\n",
      "\u001b[1;32m~\\AppData\\Local\\Temp\\ipykernel_74928\\4205251654.py\u001b[0m in \u001b[0;36mfetchData\u001b[1;34m(self, suburl)\u001b[0m\n\u001b[0;32m     21\u001b[0m     \u001b[1;32mdef\u001b[0m \u001b[0mfetchData\u001b[0m\u001b[1;33m(\u001b[0m\u001b[0mself\u001b[0m\u001b[1;33m,\u001b[0m \u001b[0msuburl\u001b[0m\u001b[1;33m)\u001b[0m\u001b[1;33m:\u001b[0m\u001b[1;33m\u001b[0m\u001b[1;33m\u001b[0m\u001b[0m\n\u001b[0;32m     22\u001b[0m         \u001b[0murl\u001b[0m \u001b[1;33m=\u001b[0m \u001b[1;34mf\"{self.base_url}/{suburl}\"\u001b[0m\u001b[1;33m\u001b[0m\u001b[1;33m\u001b[0m\u001b[0m\n\u001b[1;32m---> 23\u001b[1;33m         \u001b[0mresponse\u001b[0m \u001b[1;33m=\u001b[0m \u001b[0mrequests\u001b[0m\u001b[1;33m.\u001b[0m\u001b[0mget\u001b[0m\u001b[1;33m(\u001b[0m\u001b[0murl\u001b[0m\u001b[1;33m,\u001b[0m \u001b[0mheaders\u001b[0m\u001b[1;33m=\u001b[0m\u001b[0mself\u001b[0m\u001b[1;33m.\u001b[0m\u001b[0mheaders\u001b[0m\u001b[1;33m)\u001b[0m\u001b[1;33m\u001b[0m\u001b[1;33m\u001b[0m\u001b[0m\n\u001b[0m\u001b[0;32m     24\u001b[0m         \u001b[1;32mreturn\u001b[0m \u001b[0mresponse\u001b[0m\u001b[1;33m.\u001b[0m\u001b[0mjson\u001b[0m\u001b[1;33m(\u001b[0m\u001b[1;33m)\u001b[0m\u001b[1;33m\u001b[0m\u001b[1;33m\u001b[0m\u001b[0m\n\u001b[0;32m     25\u001b[0m \u001b[1;33m\u001b[0m\u001b[0m\n",
      "\u001b[1;32mc:\\Users\\harry\\AppData\\Local\\Programs\\Python\\Python37\\lib\\site-packages\\requests\\api.py\u001b[0m in \u001b[0;36mget\u001b[1;34m(url, params, **kwargs)\u001b[0m\n\u001b[0;32m     71\u001b[0m     \"\"\"\n\u001b[0;32m     72\u001b[0m \u001b[1;33m\u001b[0m\u001b[0m\n\u001b[1;32m---> 73\u001b[1;33m     \u001b[1;32mreturn\u001b[0m \u001b[0mrequest\u001b[0m\u001b[1;33m(\u001b[0m\u001b[1;34m\"get\"\u001b[0m\u001b[1;33m,\u001b[0m \u001b[0murl\u001b[0m\u001b[1;33m,\u001b[0m \u001b[0mparams\u001b[0m\u001b[1;33m=\u001b[0m\u001b[0mparams\u001b[0m\u001b[1;33m,\u001b[0m \u001b[1;33m**\u001b[0m\u001b[0mkwargs\u001b[0m\u001b[1;33m)\u001b[0m\u001b[1;33m\u001b[0m\u001b[1;33m\u001b[0m\u001b[0m\n\u001b[0m\u001b[0;32m     74\u001b[0m \u001b[1;33m\u001b[0m\u001b[0m\n\u001b[0;32m     75\u001b[0m \u001b[1;33m\u001b[0m\u001b[0m\n",
      "\u001b[1;32mc:\\Users\\harry\\AppData\\Local\\Programs\\Python\\Python37\\lib\\site-packages\\requests\\api.py\u001b[0m in \u001b[0;36mrequest\u001b[1;34m(method, url, **kwargs)\u001b[0m\n\u001b[0;32m     57\u001b[0m     \u001b[1;31m# cases, and look like a memory leak in others.\u001b[0m\u001b[1;33m\u001b[0m\u001b[1;33m\u001b[0m\u001b[1;33m\u001b[0m\u001b[0m\n\u001b[0;32m     58\u001b[0m     \u001b[1;32mwith\u001b[0m \u001b[0msessions\u001b[0m\u001b[1;33m.\u001b[0m\u001b[0mSession\u001b[0m\u001b[1;33m(\u001b[0m\u001b[1;33m)\u001b[0m \u001b[1;32mas\u001b[0m \u001b[0msession\u001b[0m\u001b[1;33m:\u001b[0m\u001b[1;33m\u001b[0m\u001b[1;33m\u001b[0m\u001b[0m\n\u001b[1;32m---> 59\u001b[1;33m         \u001b[1;32mreturn\u001b[0m \u001b[0msession\u001b[0m\u001b[1;33m.\u001b[0m\u001b[0mrequest\u001b[0m\u001b[1;33m(\u001b[0m\u001b[0mmethod\u001b[0m\u001b[1;33m=\u001b[0m\u001b[0mmethod\u001b[0m\u001b[1;33m,\u001b[0m \u001b[0murl\u001b[0m\u001b[1;33m=\u001b[0m\u001b[0murl\u001b[0m\u001b[1;33m,\u001b[0m \u001b[1;33m**\u001b[0m\u001b[0mkwargs\u001b[0m\u001b[1;33m)\u001b[0m\u001b[1;33m\u001b[0m\u001b[1;33m\u001b[0m\u001b[0m\n\u001b[0m\u001b[0;32m     60\u001b[0m \u001b[1;33m\u001b[0m\u001b[0m\n\u001b[0;32m     61\u001b[0m \u001b[1;33m\u001b[0m\u001b[0m\n",
      "\u001b[1;32mc:\\Users\\harry\\AppData\\Local\\Programs\\Python\\Python37\\lib\\site-packages\\requests\\sessions.py\u001b[0m in \u001b[0;36mrequest\u001b[1;34m(self, method, url, params, data, headers, cookies, files, auth, timeout, allow_redirects, proxies, hooks, stream, verify, cert, json)\u001b[0m\n\u001b[0;32m    587\u001b[0m         }\n\u001b[0;32m    588\u001b[0m         \u001b[0msend_kwargs\u001b[0m\u001b[1;33m.\u001b[0m\u001b[0mupdate\u001b[0m\u001b[1;33m(\u001b[0m\u001b[0msettings\u001b[0m\u001b[1;33m)\u001b[0m\u001b[1;33m\u001b[0m\u001b[1;33m\u001b[0m\u001b[0m\n\u001b[1;32m--> 589\u001b[1;33m         \u001b[0mresp\u001b[0m \u001b[1;33m=\u001b[0m \u001b[0mself\u001b[0m\u001b[1;33m.\u001b[0m\u001b[0msend\u001b[0m\u001b[1;33m(\u001b[0m\u001b[0mprep\u001b[0m\u001b[1;33m,\u001b[0m \u001b[1;33m**\u001b[0m\u001b[0msend_kwargs\u001b[0m\u001b[1;33m)\u001b[0m\u001b[1;33m\u001b[0m\u001b[1;33m\u001b[0m\u001b[0m\n\u001b[0m\u001b[0;32m    590\u001b[0m \u001b[1;33m\u001b[0m\u001b[0m\n\u001b[0;32m    591\u001b[0m         \u001b[1;32mreturn\u001b[0m \u001b[0mresp\u001b[0m\u001b[1;33m\u001b[0m\u001b[1;33m\u001b[0m\u001b[0m\n",
      "\u001b[1;32mc:\\Users\\harry\\AppData\\Local\\Programs\\Python\\Python37\\lib\\site-packages\\requests\\sessions.py\u001b[0m in \u001b[0;36msend\u001b[1;34m(self, request, **kwargs)\u001b[0m\n\u001b[0;32m    701\u001b[0m \u001b[1;33m\u001b[0m\u001b[0m\n\u001b[0;32m    702\u001b[0m         \u001b[1;31m# Send the request\u001b[0m\u001b[1;33m\u001b[0m\u001b[1;33m\u001b[0m\u001b[1;33m\u001b[0m\u001b[0m\n\u001b[1;32m--> 703\u001b[1;33m         \u001b[0mr\u001b[0m \u001b[1;33m=\u001b[0m \u001b[0madapter\u001b[0m\u001b[1;33m.\u001b[0m\u001b[0msend\u001b[0m\u001b[1;33m(\u001b[0m\u001b[0mrequest\u001b[0m\u001b[1;33m,\u001b[0m \u001b[1;33m**\u001b[0m\u001b[0mkwargs\u001b[0m\u001b[1;33m)\u001b[0m\u001b[1;33m\u001b[0m\u001b[1;33m\u001b[0m\u001b[0m\n\u001b[0m\u001b[0;32m    704\u001b[0m \u001b[1;33m\u001b[0m\u001b[0m\n\u001b[0;32m    705\u001b[0m         \u001b[1;31m# Total elapsed time of the request (approximately)\u001b[0m\u001b[1;33m\u001b[0m\u001b[1;33m\u001b[0m\u001b[1;33m\u001b[0m\u001b[0m\n",
      "\u001b[1;32mc:\\Users\\harry\\AppData\\Local\\Programs\\Python\\Python37\\lib\\site-packages\\requests\\adapters.py\u001b[0m in \u001b[0;36msend\u001b[1;34m(self, request, stream, timeout, verify, cert, proxies)\u001b[0m\n\u001b[0;32m    495\u001b[0m                 \u001b[0mretries\u001b[0m\u001b[1;33m=\u001b[0m\u001b[0mself\u001b[0m\u001b[1;33m.\u001b[0m\u001b[0mmax_retries\u001b[0m\u001b[1;33m,\u001b[0m\u001b[1;33m\u001b[0m\u001b[1;33m\u001b[0m\u001b[0m\n\u001b[0;32m    496\u001b[0m                 \u001b[0mtimeout\u001b[0m\u001b[1;33m=\u001b[0m\u001b[0mtimeout\u001b[0m\u001b[1;33m,\u001b[0m\u001b[1;33m\u001b[0m\u001b[1;33m\u001b[0m\u001b[0m\n\u001b[1;32m--> 497\u001b[1;33m                 \u001b[0mchunked\u001b[0m\u001b[1;33m=\u001b[0m\u001b[0mchunked\u001b[0m\u001b[1;33m,\u001b[0m\u001b[1;33m\u001b[0m\u001b[1;33m\u001b[0m\u001b[0m\n\u001b[0m\u001b[0;32m    498\u001b[0m             )\n\u001b[0;32m    499\u001b[0m \u001b[1;33m\u001b[0m\u001b[0m\n",
      "\u001b[1;32mc:\\Users\\harry\\AppData\\Local\\Programs\\Python\\Python37\\lib\\site-packages\\urllib3\\connectionpool.py\u001b[0m in \u001b[0;36murlopen\u001b[1;34m(self, method, url, body, headers, retries, redirect, assert_same_host, timeout, pool_timeout, release_conn, chunked, body_pos, preload_content, decode_content, **response_kw)\u001b[0m\n\u001b[0;32m    801\u001b[0m                 \u001b[0mpreload_content\u001b[0m\u001b[1;33m=\u001b[0m\u001b[0mpreload_content\u001b[0m\u001b[1;33m,\u001b[0m\u001b[1;33m\u001b[0m\u001b[1;33m\u001b[0m\u001b[0m\n\u001b[0;32m    802\u001b[0m                 \u001b[0mdecode_content\u001b[0m\u001b[1;33m=\u001b[0m\u001b[0mdecode_content\u001b[0m\u001b[1;33m,\u001b[0m\u001b[1;33m\u001b[0m\u001b[1;33m\u001b[0m\u001b[0m\n\u001b[1;32m--> 803\u001b[1;33m                 \u001b[1;33m**\u001b[0m\u001b[0mresponse_kw\u001b[0m\u001b[1;33m,\u001b[0m\u001b[1;33m\u001b[0m\u001b[1;33m\u001b[0m\u001b[0m\n\u001b[0m\u001b[0;32m    804\u001b[0m             )\n\u001b[0;32m    805\u001b[0m \u001b[1;33m\u001b[0m\u001b[0m\n",
      "\u001b[1;32mc:\\Users\\harry\\AppData\\Local\\Programs\\Python\\Python37\\lib\\site-packages\\urllib3\\connectionpool.py\u001b[0m in \u001b[0;36m_make_request\u001b[1;34m(self, conn, method, url, body, headers, retries, timeout, chunked, response_conn, preload_content, decode_content, enforce_content_length)\u001b[0m\n\u001b[0;32m    535\u001b[0m         \u001b[1;31m# Receive the response from the server\u001b[0m\u001b[1;33m\u001b[0m\u001b[1;33m\u001b[0m\u001b[1;33m\u001b[0m\u001b[0m\n\u001b[0;32m    536\u001b[0m         \u001b[1;32mtry\u001b[0m\u001b[1;33m:\u001b[0m\u001b[1;33m\u001b[0m\u001b[1;33m\u001b[0m\u001b[0m\n\u001b[1;32m--> 537\u001b[1;33m             \u001b[0mresponse\u001b[0m \u001b[1;33m=\u001b[0m \u001b[0mconn\u001b[0m\u001b[1;33m.\u001b[0m\u001b[0mgetresponse\u001b[0m\u001b[1;33m(\u001b[0m\u001b[1;33m)\u001b[0m\u001b[1;33m\u001b[0m\u001b[1;33m\u001b[0m\u001b[0m\n\u001b[0m\u001b[0;32m    538\u001b[0m         \u001b[1;32mexcept\u001b[0m \u001b[1;33m(\u001b[0m\u001b[0mBaseSSLError\u001b[0m\u001b[1;33m,\u001b[0m \u001b[0mOSError\u001b[0m\u001b[1;33m)\u001b[0m \u001b[1;32mas\u001b[0m \u001b[0me\u001b[0m\u001b[1;33m:\u001b[0m\u001b[1;33m\u001b[0m\u001b[1;33m\u001b[0m\u001b[0m\n\u001b[0;32m    539\u001b[0m             \u001b[0mself\u001b[0m\u001b[1;33m.\u001b[0m\u001b[0m_raise_timeout\u001b[0m\u001b[1;33m(\u001b[0m\u001b[0merr\u001b[0m\u001b[1;33m=\u001b[0m\u001b[0me\u001b[0m\u001b[1;33m,\u001b[0m \u001b[0murl\u001b[0m\u001b[1;33m=\u001b[0m\u001b[0murl\u001b[0m\u001b[1;33m,\u001b[0m \u001b[0mtimeout_value\u001b[0m\u001b[1;33m=\u001b[0m\u001b[0mread_timeout\u001b[0m\u001b[1;33m)\u001b[0m\u001b[1;33m\u001b[0m\u001b[1;33m\u001b[0m\u001b[0m\n",
      "\u001b[1;32mc:\\Users\\harry\\AppData\\Local\\Programs\\Python\\Python37\\lib\\site-packages\\urllib3\\connection.py\u001b[0m in \u001b[0;36mgetresponse\u001b[1;34m(self)\u001b[0m\n\u001b[0;32m    459\u001b[0m \u001b[1;33m\u001b[0m\u001b[0m\n\u001b[0;32m    460\u001b[0m         \u001b[1;31m# Get the response from http.client.HTTPConnection\u001b[0m\u001b[1;33m\u001b[0m\u001b[1;33m\u001b[0m\u001b[1;33m\u001b[0m\u001b[0m\n\u001b[1;32m--> 461\u001b[1;33m         \u001b[0mhttplib_response\u001b[0m \u001b[1;33m=\u001b[0m \u001b[0msuper\u001b[0m\u001b[1;33m(\u001b[0m\u001b[1;33m)\u001b[0m\u001b[1;33m.\u001b[0m\u001b[0mgetresponse\u001b[0m\u001b[1;33m(\u001b[0m\u001b[1;33m)\u001b[0m\u001b[1;33m\u001b[0m\u001b[1;33m\u001b[0m\u001b[0m\n\u001b[0m\u001b[0;32m    462\u001b[0m \u001b[1;33m\u001b[0m\u001b[0m\n\u001b[0;32m    463\u001b[0m         \u001b[1;32mtry\u001b[0m\u001b[1;33m:\u001b[0m\u001b[1;33m\u001b[0m\u001b[1;33m\u001b[0m\u001b[0m\n",
      "\u001b[1;32mc:\\Users\\harry\\AppData\\Local\\Programs\\Python\\Python37\\lib\\http\\client.py\u001b[0m in \u001b[0;36mgetresponse\u001b[1;34m(self)\u001b[0m\n\u001b[0;32m   1334\u001b[0m         \u001b[1;32mtry\u001b[0m\u001b[1;33m:\u001b[0m\u001b[1;33m\u001b[0m\u001b[1;33m\u001b[0m\u001b[0m\n\u001b[0;32m   1335\u001b[0m             \u001b[1;32mtry\u001b[0m\u001b[1;33m:\u001b[0m\u001b[1;33m\u001b[0m\u001b[1;33m\u001b[0m\u001b[0m\n\u001b[1;32m-> 1336\u001b[1;33m                 \u001b[0mresponse\u001b[0m\u001b[1;33m.\u001b[0m\u001b[0mbegin\u001b[0m\u001b[1;33m(\u001b[0m\u001b[1;33m)\u001b[0m\u001b[1;33m\u001b[0m\u001b[1;33m\u001b[0m\u001b[0m\n\u001b[0m\u001b[0;32m   1337\u001b[0m             \u001b[1;32mexcept\u001b[0m \u001b[0mConnectionError\u001b[0m\u001b[1;33m:\u001b[0m\u001b[1;33m\u001b[0m\u001b[1;33m\u001b[0m\u001b[0m\n\u001b[0;32m   1338\u001b[0m                 \u001b[0mself\u001b[0m\u001b[1;33m.\u001b[0m\u001b[0mclose\u001b[0m\u001b[1;33m(\u001b[0m\u001b[1;33m)\u001b[0m\u001b[1;33m\u001b[0m\u001b[1;33m\u001b[0m\u001b[0m\n",
      "\u001b[1;32mc:\\Users\\harry\\AppData\\Local\\Programs\\Python\\Python37\\lib\\http\\client.py\u001b[0m in \u001b[0;36mbegin\u001b[1;34m(self)\u001b[0m\n\u001b[0;32m    304\u001b[0m         \u001b[1;31m# read until we get a non-100 response\u001b[0m\u001b[1;33m\u001b[0m\u001b[1;33m\u001b[0m\u001b[1;33m\u001b[0m\u001b[0m\n\u001b[0;32m    305\u001b[0m         \u001b[1;32mwhile\u001b[0m \u001b[1;32mTrue\u001b[0m\u001b[1;33m:\u001b[0m\u001b[1;33m\u001b[0m\u001b[1;33m\u001b[0m\u001b[0m\n\u001b[1;32m--> 306\u001b[1;33m             \u001b[0mversion\u001b[0m\u001b[1;33m,\u001b[0m \u001b[0mstatus\u001b[0m\u001b[1;33m,\u001b[0m \u001b[0mreason\u001b[0m \u001b[1;33m=\u001b[0m \u001b[0mself\u001b[0m\u001b[1;33m.\u001b[0m\u001b[0m_read_status\u001b[0m\u001b[1;33m(\u001b[0m\u001b[1;33m)\u001b[0m\u001b[1;33m\u001b[0m\u001b[1;33m\u001b[0m\u001b[0m\n\u001b[0m\u001b[0;32m    307\u001b[0m             \u001b[1;32mif\u001b[0m \u001b[0mstatus\u001b[0m \u001b[1;33m!=\u001b[0m \u001b[0mCONTINUE\u001b[0m\u001b[1;33m:\u001b[0m\u001b[1;33m\u001b[0m\u001b[1;33m\u001b[0m\u001b[0m\n\u001b[0;32m    308\u001b[0m                 \u001b[1;32mbreak\u001b[0m\u001b[1;33m\u001b[0m\u001b[1;33m\u001b[0m\u001b[0m\n",
      "\u001b[1;32mc:\\Users\\harry\\AppData\\Local\\Programs\\Python\\Python37\\lib\\http\\client.py\u001b[0m in \u001b[0;36m_read_status\u001b[1;34m(self)\u001b[0m\n\u001b[0;32m    265\u001b[0m \u001b[1;33m\u001b[0m\u001b[0m\n\u001b[0;32m    266\u001b[0m     \u001b[1;32mdef\u001b[0m \u001b[0m_read_status\u001b[0m\u001b[1;33m(\u001b[0m\u001b[0mself\u001b[0m\u001b[1;33m)\u001b[0m\u001b[1;33m:\u001b[0m\u001b[1;33m\u001b[0m\u001b[1;33m\u001b[0m\u001b[0m\n\u001b[1;32m--> 267\u001b[1;33m         \u001b[0mline\u001b[0m \u001b[1;33m=\u001b[0m \u001b[0mstr\u001b[0m\u001b[1;33m(\u001b[0m\u001b[0mself\u001b[0m\u001b[1;33m.\u001b[0m\u001b[0mfp\u001b[0m\u001b[1;33m.\u001b[0m\u001b[0mreadline\u001b[0m\u001b[1;33m(\u001b[0m\u001b[0m_MAXLINE\u001b[0m \u001b[1;33m+\u001b[0m \u001b[1;36m1\u001b[0m\u001b[1;33m)\u001b[0m\u001b[1;33m,\u001b[0m \u001b[1;34m\"iso-8859-1\"\u001b[0m\u001b[1;33m)\u001b[0m\u001b[1;33m\u001b[0m\u001b[1;33m\u001b[0m\u001b[0m\n\u001b[0m\u001b[0;32m    268\u001b[0m         \u001b[1;32mif\u001b[0m \u001b[0mlen\u001b[0m\u001b[1;33m(\u001b[0m\u001b[0mline\u001b[0m\u001b[1;33m)\u001b[0m \u001b[1;33m>\u001b[0m \u001b[0m_MAXLINE\u001b[0m\u001b[1;33m:\u001b[0m\u001b[1;33m\u001b[0m\u001b[1;33m\u001b[0m\u001b[0m\n\u001b[0;32m    269\u001b[0m             \u001b[1;32mraise\u001b[0m \u001b[0mLineTooLong\u001b[0m\u001b[1;33m(\u001b[0m\u001b[1;34m\"status line\"\u001b[0m\u001b[1;33m)\u001b[0m\u001b[1;33m\u001b[0m\u001b[1;33m\u001b[0m\u001b[0m\n",
      "\u001b[1;32mc:\\Users\\harry\\AppData\\Local\\Programs\\Python\\Python37\\lib\\socket.py\u001b[0m in \u001b[0;36mreadinto\u001b[1;34m(self, b)\u001b[0m\n\u001b[0;32m    587\u001b[0m         \u001b[1;32mwhile\u001b[0m \u001b[1;32mTrue\u001b[0m\u001b[1;33m:\u001b[0m\u001b[1;33m\u001b[0m\u001b[1;33m\u001b[0m\u001b[0m\n\u001b[0;32m    588\u001b[0m             \u001b[1;32mtry\u001b[0m\u001b[1;33m:\u001b[0m\u001b[1;33m\u001b[0m\u001b[1;33m\u001b[0m\u001b[0m\n\u001b[1;32m--> 589\u001b[1;33m                 \u001b[1;32mreturn\u001b[0m \u001b[0mself\u001b[0m\u001b[1;33m.\u001b[0m\u001b[0m_sock\u001b[0m\u001b[1;33m.\u001b[0m\u001b[0mrecv_into\u001b[0m\u001b[1;33m(\u001b[0m\u001b[0mb\u001b[0m\u001b[1;33m)\u001b[0m\u001b[1;33m\u001b[0m\u001b[1;33m\u001b[0m\u001b[0m\n\u001b[0m\u001b[0;32m    590\u001b[0m             \u001b[1;32mexcept\u001b[0m \u001b[0mtimeout\u001b[0m\u001b[1;33m:\u001b[0m\u001b[1;33m\u001b[0m\u001b[1;33m\u001b[0m\u001b[0m\n\u001b[0;32m    591\u001b[0m                 \u001b[0mself\u001b[0m\u001b[1;33m.\u001b[0m\u001b[0m_timeout_occurred\u001b[0m \u001b[1;33m=\u001b[0m \u001b[1;32mTrue\u001b[0m\u001b[1;33m\u001b[0m\u001b[1;33m\u001b[0m\u001b[0m\n",
      "\u001b[1;32mc:\\Users\\harry\\AppData\\Local\\Programs\\Python\\Python37\\lib\\ssl.py\u001b[0m in \u001b[0;36mrecv_into\u001b[1;34m(self, buffer, nbytes, flags)\u001b[0m\n\u001b[0;32m   1069\u001b[0m                   \u001b[1;34m\"non-zero flags not allowed in calls to recv_into() on %s\"\u001b[0m \u001b[1;33m%\u001b[0m\u001b[1;33m\u001b[0m\u001b[1;33m\u001b[0m\u001b[0m\n\u001b[0;32m   1070\u001b[0m                   self.__class__)\n\u001b[1;32m-> 1071\u001b[1;33m             \u001b[1;32mreturn\u001b[0m \u001b[0mself\u001b[0m\u001b[1;33m.\u001b[0m\u001b[0mread\u001b[0m\u001b[1;33m(\u001b[0m\u001b[0mnbytes\u001b[0m\u001b[1;33m,\u001b[0m \u001b[0mbuffer\u001b[0m\u001b[1;33m)\u001b[0m\u001b[1;33m\u001b[0m\u001b[1;33m\u001b[0m\u001b[0m\n\u001b[0m\u001b[0;32m   1072\u001b[0m         \u001b[1;32melse\u001b[0m\u001b[1;33m:\u001b[0m\u001b[1;33m\u001b[0m\u001b[1;33m\u001b[0m\u001b[0m\n\u001b[0;32m   1073\u001b[0m             \u001b[1;32mreturn\u001b[0m \u001b[0msuper\u001b[0m\u001b[1;33m(\u001b[0m\u001b[1;33m)\u001b[0m\u001b[1;33m.\u001b[0m\u001b[0mrecv_into\u001b[0m\u001b[1;33m(\u001b[0m\u001b[0mbuffer\u001b[0m\u001b[1;33m,\u001b[0m \u001b[0mnbytes\u001b[0m\u001b[1;33m,\u001b[0m \u001b[0mflags\u001b[0m\u001b[1;33m)\u001b[0m\u001b[1;33m\u001b[0m\u001b[1;33m\u001b[0m\u001b[0m\n",
      "\u001b[1;32mc:\\Users\\harry\\AppData\\Local\\Programs\\Python\\Python37\\lib\\ssl.py\u001b[0m in \u001b[0;36mread\u001b[1;34m(self, len, buffer)\u001b[0m\n\u001b[0;32m    927\u001b[0m         \u001b[1;32mtry\u001b[0m\u001b[1;33m:\u001b[0m\u001b[1;33m\u001b[0m\u001b[1;33m\u001b[0m\u001b[0m\n\u001b[0;32m    928\u001b[0m             \u001b[1;32mif\u001b[0m \u001b[0mbuffer\u001b[0m \u001b[1;32mis\u001b[0m \u001b[1;32mnot\u001b[0m \u001b[1;32mNone\u001b[0m\u001b[1;33m:\u001b[0m\u001b[1;33m\u001b[0m\u001b[1;33m\u001b[0m\u001b[0m\n\u001b[1;32m--> 929\u001b[1;33m                 \u001b[1;32mreturn\u001b[0m \u001b[0mself\u001b[0m\u001b[1;33m.\u001b[0m\u001b[0m_sslobj\u001b[0m\u001b[1;33m.\u001b[0m\u001b[0mread\u001b[0m\u001b[1;33m(\u001b[0m\u001b[0mlen\u001b[0m\u001b[1;33m,\u001b[0m \u001b[0mbuffer\u001b[0m\u001b[1;33m)\u001b[0m\u001b[1;33m\u001b[0m\u001b[1;33m\u001b[0m\u001b[0m\n\u001b[0m\u001b[0;32m    930\u001b[0m             \u001b[1;32melse\u001b[0m\u001b[1;33m:\u001b[0m\u001b[1;33m\u001b[0m\u001b[1;33m\u001b[0m\u001b[0m\n\u001b[0;32m    931\u001b[0m                 \u001b[1;32mreturn\u001b[0m \u001b[0mself\u001b[0m\u001b[1;33m.\u001b[0m\u001b[0m_sslobj\u001b[0m\u001b[1;33m.\u001b[0m\u001b[0mread\u001b[0m\u001b[1;33m(\u001b[0m\u001b[0mlen\u001b[0m\u001b[1;33m)\u001b[0m\u001b[1;33m\u001b[0m\u001b[1;33m\u001b[0m\u001b[0m\n",
      "\u001b[1;31mKeyboardInterrupt\u001b[0m: "
     ]
    }
   ],
   "source": [
    "import os\n",
    "import sys\n",
    "import logging\n",
    "from tqdm import tqdm\n",
    "from dotenv import load_dotenv\n",
    "import requests\n",
    "\n",
    "logging.basicConfig(stream=sys.stdout, level=logging.INFO)\n",
    "logger = logging.getLogger(__name__)\n",
    "\n",
    "class GithubAPI:\n",
    "    def __init__(self, token):\n",
    "        self.token = token\n",
    "        self.headers = {\n",
    "            \"Accept\": \"application/vnd.github.v3+json\",\n",
    "            \"Authorization\": f\"Bearer {self.token}\",\n",
    "            \"X-Github-Api-Version\": \"2022-11-28\",\n",
    "        }\n",
    "        self.base_url = \"https://api.github.com/repos/apache/beam\"\n",
    "\n",
    "    def fetchData(self, suburl):\n",
    "        url = f\"{self.base_url}/{suburl}\"\n",
    "        response = requests.get(url, headers=self.headers)\n",
    "        return response.json()\n",
    "\n",
    "load_dotenv()\n",
    "api = GithubAPI(os.getenv(\"GITHUB_TOKEN\"))\n",
    "\n",
    "logger.info(\"Fetching and uploading push and schedule workflow runs...\")\n",
    "workflow_runs = []\n",
    "with open('../merge-queues/commit_shas.txt', 'r') as file:\n",
    "    # Read all lines from the file into a list\n",
    "    commit_shas = file.readlines()\n",
    "for sha in tqdm(commit_shas[0:1000]):\n",
    "    push_runs = api.fetchData(f\"actions/runs?event=push&head_sha={sha}\")\n",
    "    schedule_runs = api.fetchData(f\"actions/runs?event=schedule&head_sha={sha}\")\n",
    "    file = open(\"jobs_urls.txt\", \"a\")\n",
    "    for run in (push_runs['workflow_runs'] + schedule_runs['workflow_runs']):\n",
    "        if run['name'] == 'Build python source distribution and wheels':\n",
    "            file.write(f\"{run['jobs_url']}\\n\")\n",
    "    file.close()"
   ]
  },
  {
   "cell_type": "code",
   "execution_count": 2,
   "metadata": {},
   "outputs": [
    {
     "name": "stderr",
     "output_type": "stream",
     "text": [
      " 11%|█▏        | 97/845 [01:08<06:51,  1.82it/s]"
     ]
    }
   ],
   "source": [
    "from datetime import datetime\n",
    "import numpy as np\n",
    "import matplotlib.pyplot as plt\n",
    "\n",
    "with open('jobs_urls.txt', 'r') as file:\n",
    "    # Read all lines into a list\n",
    "    jobs_urls = file.readlines()\n",
    "    \n",
    "load_dotenv()\n",
    "api = GithubAPI(os.getenv(\"GITHUB_TOKEN\"))\n",
    "\n",
    "def calculate_build_mins(job):\n",
    "    start = job['started_at']\n",
    "    complete = job['completed_at']\n",
    "    timestamp1 = datetime.fromisoformat(start.replace(\"Z\", \"+00:00\"))\n",
    "    timestamp2 = datetime.fromisoformat(complete.replace(\"Z\", \"+00:00\"))\n",
    "    difference_in_minutes = (timestamp2 - timestamp1).total_seconds() / 60\n",
    "    return difference_in_minutes\n",
    "\n",
    "python_wheel_build_jobs = [\n",
    "    'Build python wheels on auto for macos-latest',\n",
    "    'Build python wheels on auto for windows-latest',\n",
    "    'Build python wheels on aarch64 for ubuntu-latest',\n",
    "    'Build python wheels on auto for ubuntu-latest'\n",
    "]\n",
    "\n",
    "parallelized_build_times = []\n",
    "current_build_times = []\n",
    "for jobs in tqdm(jobs_urls):\n",
    "    sub_url = jobs.split('https://api.github.com/repos/apache/beam/')[1].rstrip('\\n')\n",
    "    run = api.fetchData(sub_url)\n",
    "    python_wheel_build_job_mins = []\n",
    "    for job in run['jobs']:\n",
    "        if job['name'] in python_wheel_build_jobs:\n",
    "            python_wheel_build_job_mins.append(calculate_build_mins(job))\n",
    "    if python_wheel_build_job_mins:\n",
    "        parallelized_build_time = max(python_wheel_build_job_mins)\n",
    "        current_build_time = sum(python_wheel_build_job_mins)\n",
    "        parallelized_build_times.append(parallelized_build_time)\n",
    "        current_build_times.append(current_build_time)\n",
    "\n",
    "hist, bins = np.histogram(parallelized_build_times, bins=20, range=(0, max(current_build_times)+1))\n",
    "plt.bar(bins[:-1], hist, width=bins[1]-bins[0], align='edge')\n",
    "plt.xlabel('Build Minutes')\n",
    "plt.ylabel('# of Jobs')\n",
    "plt.title('Histogram of Build Minutes With Parallelized Jobs')\n",
    "plt.show()\n",
    "hist, bins = np.histogram(current_build_times, bins=20, range=(0, max(current_build_times)+1))\n",
    "plt.bar(bins[:-1], hist, width=bins[1]-bins[0], align='edge')\n",
    "plt.xlabel('Build Minutes')\n",
    "plt.ylabel('# of Jobs')\n",
    "plt.title('Histogram of Build Minutes With Current Sequential Jobs')\n",
    "plt.show()\n"
   ]
  },
  {
   "cell_type": "code",
   "execution_count": 70,
   "metadata": {},
   "outputs": [
    {
     "name": "stdout",
     "output_type": "stream",
     "text": [
      "[13.05, 39.666666666666664, 34.68333333333333, 4.216666666666667, 89.66666666666667, 90.08333333333333, 87.41666666666667, 13.85, 43.61666666666667, 67.73333333333333, 70.51666666666667, 45.53333333333333, 9.15, 95.56666666666666, 44.1, 89.06666666666666, 66.71666666666667, 89.78333333333333, 10.45, 38.8, 14.866666666666667, 4.233333333333333, 90.53333333333333, 89.43333333333334, 33.38333333333333, 89.11666666666666, 91.85, 8.616666666666667, 48.31666666666667, 130.0, 0.4666666666666667, 93.36666666666666, 35.95, 88.38333333333334, 93.71666666666667, 88.73333333333333, 22.383333333333333, 15.816666666666666, 45.516666666666666, 13.516666666666667, 99.3, 126.3, 40.016666666666666, 92.53333333333333, 89.85, 10.65, 24.083333333333332, 30.5, 1.1666666666666667, 44.68333333333333, 92.8, 89.3, 93.83333333333333, 19.866666666666667, 15.216666666666667, 4.9, 13.116666666666667, 96.6, 89.08333333333333, 65.06666666666666, 19.183333333333334, 94.28333333333333, 89.35, 90.26666666666667, 2.1166666666666667, 54.11666666666667, 89.26666666666667, 77.05, 19.766666666666666, 88.65, 91.15, 51.28333333333333, 90.81666666666666, 90.81666666666666, 38.05, 15.316666666666666, 89.01666666666667, 35.38333333333333, 90.61666666666666, 13.35, 90.66666666666667, 92.08333333333333, 25.35, 93.55, 42.416666666666664, 92.86666666666666, 79.23333333333333, 17.066666666666666, 63.28333333333333, 23.316666666666666, 3.55, 91.96666666666667, 27.366666666666667, 0.5166666666666667, 2.7666666666666666, 89.43333333333334, 17.25, 91.38333333333334, 79.05, 92.9, 14.35, 89.0, 90.73333333333333, 49.483333333333334, 92.3, 148.88333333333333, 91.23333333333333, 93.18333333333334, 29.216666666666665, 91.5, 89.88333333333334, 91.01666666666667, 156.66666666666666, 43.18333333333333, 33.166666666666664, 5.316666666666666, 92.48333333333333, 27.516666666666666, 51.75, 89.0, 90.4, 28.166666666666668, 106.28333333333333, 50.68333333333333, 90.3, 88.86666666666666, 4.833333333333333, 91.43333333333334, 90.0, 47.5, 90.16666666666667, 96.58333333333333, 32.95, 21.15, 74.81666666666666, 91.95, 1.0833333333333333, 92.45, 1.5166666666666666, 6.333333333333333, 0.48333333333333334, 93.45, 54.85, 7.733333333333333, 0.4, 6.633333333333334, 0.08333333333333333, 55.68333333333333, 92.28333333333333, 91.7, 26.133333333333333, 58.0, 27.4, 17.633333333333333, 88.56666666666666, 21.933333333333334, 13.6, 46.8, 82.08333333333333, 129.21666666666667, 0.23333333333333334, 77.21666666666667, 8.733333333333333, 93.53333333333333, 89.86666666666666, 92.08333333333333, 92.58333333333333, 63.85, 155.01666666666668, 20.2, 89.41666666666667, 9.533333333333333, 18.95, 17.483333333333334, 6.883333333333334, 15.233333333333333, 0.08333333333333333, 59.96666666666667, 8.433333333333334, 9.066666666666666, 70.9, 18.4, 13.416666666666666, 88.43333333333334, 12.616666666666667, 26.716666666666665, 89.7, 1.5833333333333333, 88.4, 89.91666666666667, 141.58333333333334, 44.2, 54.3, 9.533333333333333, 89.4, 72.85, 91.83333333333333, 88.73333333333333, 1.8666666666666667, 11.566666666666666, 11.033333333333333, 0.5333333333333333, 91.73333333333333, 80.2, 91.05, 89.31666666666666, 86.83333333333333, 91.73333333333333, 29.983333333333334, 90.23333333333333, 92.63333333333334, 0.65, 93.51666666666667, 24.933333333333334, 32.88333333333333, 8.766666666666667, 26.25, 25.45, 83.31666666666666, 3.6166666666666667, 92.21666666666667, 63.18333333333333, 89.65, 43.483333333333334, 90.1, 93.61666666666666, 2.283333333333333, 81.66666666666667, 89.56666666666666, 8.616666666666667, 8.216666666666667, 90.05, 90.71666666666667, 52.81666666666667, 71.06666666666666, 4.9, 27.133333333333333, 89.45, 20.45, 28.516666666666666, 2.033333333333333, 13.083333333333334, 2.6166666666666667, 22.9, 89.7, 4.366666666666666, 125.0, 144.66666666666666, 92.4, 25.816666666666666, 88.01666666666667, 93.16666666666667, 90.01666666666667, 99.95, 91.2, 78.05, 93.08333333333333, 90.1, 17.533333333333335, 11.3, 14.15, 11.683333333333334, 88.5, 88.48333333333333, 89.63333333333334, 24.366666666666667, 24.55, 45.6, 60.95, 65.71666666666667, 12.033333333333333, 1.7833333333333334, 1.8333333333333333, 90.55, 48.016666666666666, 6.283333333333333, 88.78333333333333, 89.71666666666667, 129.6, 29.816666666666666, 90.61666666666666, 89.25, 88.76666666666667, 148.63333333333333, 18.45, 17.1, 44.06666666666667, 27.6, 95.75, 91.06666666666666, 59.7, 21.5, 20.416666666666668, 8.75, 0.1, 31.283333333333335, 91.5, 91.16666666666667, 12.433333333333334, 9.266666666666667, 7.966666666666667, 90.63333333333334, 0.85, 96.43333333333334, 91.33333333333333, 90.38333333333334, 89.41666666666667, 91.71666666666667, 49.63333333333333, 65.1, 5.883333333333334, 40.166666666666664, 94.0, 91.25, 19.933333333333334, 148.13333333333333, 89.95, 91.75, 69.06666666666666, 87.08333333333333, 59.166666666666664, 90.95, 90.98333333333333, 88.98333333333333, 90.25, 6.383333333333334, 5.833333333333333, 15.7, 63.333333333333336, 75.1, 30.533333333333335, 0.26666666666666666, 3.4166666666666665, 4.85, 42.86666666666667, 91.88333333333334, 91.86666666666666, 21.216666666666665, 42.083333333333336, 90.95, 117.88333333333334, 90.21666666666667, 14.583333333333334, 14.216666666666667, 71.88333333333334, 20.933333333333334, 1.05, 32.35, 89.83333333333333, 21.616666666666667, 45.96666666666667, 0.55, 91.55, 33.6, 5.366666666666666, 13.15, 93.3, 5.15, 88.88333333333334, 65.9, 92.13333333333334, 16.783333333333335, 93.71666666666667, 91.25, 90.78333333333333, 41.38333333333333, 42.81666666666667, 61.81666666666667, 92.46666666666667, 150.5, 3.3833333333333333, 35.75, 32.61666666666667, 4.033333333333333, 10.6, 91.66666666666667, 1.7166666666666666, 91.1, 61.3, 149.13333333333333, 92.58333333333333, 39.31666666666667, 88.9, 91.13333333333334, 25.833333333333332, 90.88333333333334, 1.55, 151.68333333333334, 91.23333333333333, 38.53333333333333, 76.48333333333333, 73.73333333333333, 92.88333333333334, 0.21666666666666667, 37.88333333333333, 93.61666666666666, 92.95, 48.75, 92.01666666666667, 13.2, 92.86666666666666, 1.1666666666666667, 90.98333333333333, 67.81666666666666, 21.133333333333333, 69.71666666666667, 90.75, 86.63333333333334, 9.8, 121.61666666666666, 5.516666666666667, 25.316666666666666, 90.36666666666666, 91.53333333333333, 50.35, 89.7, 1.9333333333333333, 1.8333333333333333, 11.566666666666666, 22.716666666666665, 73.33333333333333, 92.81666666666666, 89.66666666666667, 2.55, 92.35, 94.06666666666666, 18.05, 97.91666666666667, 5.85, 91.41666666666667, 122.41666666666667, 69.31666666666666, 93.25, 91.25, 19.8, 64.91666666666667, 68.75, 190.65, 26.333333333333332, 91.45, 39.85, 5.933333333333334, 89.85, 12.75, 93.15, 92.6, 39.06666666666667, 93.46666666666667, 84.48333333333333, 31.65, 5.433333333333334, 45.6, 11.466666666666667, 90.63333333333334, 56.85, 92.48333333333333, 16.866666666666667, 90.63333333333334, 34.233333333333334, 68.45, 4.25, 10.916666666666666, 90.46666666666667, 50.416666666666664, 29.9, 88.8, 90.56666666666666, 16.2, 7.683333333333334, 91.03333333333333, 90.53333333333333, 88.81666666666666, 117.65, 91.58333333333333, 77.1, 53.416666666666664, 81.55, 86.38333333333334, 89.86666666666666, 90.03333333333333, 9.683333333333334, 5.283333333333333, 1.8666666666666667, 93.63333333333334, 6.633333333333334, 90.65, 91.65, 158.78333333333333, 88.23333333333333, 90.86666666666666, 38.43333333333333, 22.233333333333334, 31.016666666666666, 90.28333333333333, 18.35, 89.86666666666666, 91.5, 1.7666666666666666, 94.55, 89.05, 19.483333333333334, 58.733333333333334, 88.4, 84.06666666666666, 40.833333333333336, 26.666666666666668, 90.68333333333334, 62.43333333333333, 88.95, 39.38333333333333, 17.233333333333334, 91.26666666666667, 10.366666666666667, 89.95, 0.4166666666666667, 9.083333333333334, 130.2, 91.38333333333334, 3.3, 31.433333333333334, 93.23333333333333, 91.13333333333334, 91.55, 9.683333333333334, 90.63333333333334, 20.6, 12.433333333333334, 15.3, 89.9, 91.78333333333333, 11.516666666666667, 46.8, 26.75, 90.61666666666666, 92.28333333333333, 65.78333333333333, 91.63333333333334, 14.133333333333333, 0.2833333333333333, 90.4, 89.46666666666667, 6.683333333333334, 73.71666666666667, 58.61666666666667, 24.8, 33.766666666666666, 92.28333333333333, 58.85, 91.13333333333334, 37.31666666666667, 41.7, 95.66666666666667, 88.05, 90.1, 90.18333333333334, 90.83333333333333, 92.31666666666666, 11.05, 72.11666666666666, 29.5, 90.78333333333333, 65.78333333333333, 90.1, 56.86666666666667, 44.63333333333333, 38.083333333333336, 92.5, 90.03333333333333, 0.95, 63.15, 89.75, 85.16666666666667, 91.0, 0.13333333333333333, 4.883333333333334, 0.13333333333333333, 36.95, 93.23333333333333, 31.466666666666665, 89.83333333333333, 0.4, 91.55, 9.733333333333333, 91.31666666666666, 89.56666666666666, 19.766666666666666, 12.05, 43.65, 0.16666666666666666, 90.45, 38.56666666666667, 94.31666666666666, 88.46666666666667, 89.75, 59.833333333333336, 125.76666666666667, 13.2, 23.483333333333334, 24.75, 0.65, 46.15, 91.78333333333333, 8.683333333333334, 34.083333333333336, 93.61666666666666, 89.06666666666666, 4.55, 63.45, 24.0, 0.9166666666666666, 89.26666666666667, 12.083333333333334, 93.93333333333334, 66.43333333333334, 88.86666666666666, 91.0, 90.68333333333334, 22.016666666666666, 14.066666666666666, 91.5, 14.083333333333334, 123.25, 81.86666666666666, 90.4, 1.4, 31.916666666666668, 91.11666666666666, 147.11666666666667, 42.1, 21.883333333333333, 90.51666666666667, 90.88333333333334, 36.5, 0.1, 54.75, 83.18333333333334, 9.583333333333334, 0.48333333333333334, 8.783333333333333, 93.8, 8.083333333333334, 64.38333333333334, 15.2, 75.7, 18.966666666666665, 77.98333333333333, 93.58333333333333, 8.2, 48.416666666666664, 87.01666666666667, 91.4, 39.666666666666664, 10.566666666666666, 4.85, 56.68333333333333, 90.6, 55.0, 11.483333333333333, 92.1, 90.46666666666667, 90.71666666666667, 92.38333333333334, 51.96666666666667, 92.36666666666666, 14.0, 26.683333333333334, 90.88333333333334, 47.45, 89.05, 92.35, 2.783333333333333, 26.716666666666665, 92.95, 89.33333333333333, 31.416666666666668, 89.71666666666667, 54.05, 93.43333333333334, 91.36666666666666, 1.25, 5.2, 23.716666666666665, 40.6, 35.25, 88.76666666666667, 91.8, 26.066666666666666, 90.75, 7.55, 90.08333333333333, 33.61666666666667, 23.533333333333335, 95.38333333333334, 47.1, 88.56666666666666, 61.11666666666667, 90.26666666666667, 69.26666666666667, 2.9833333333333334, 91.18333333333334, 89.6, 89.7, 79.01666666666667, 0.8666666666666667, 64.93333333333334, 59.56666666666667, 89.41666666666667, 90.18333333333334, 6.2, 91.08333333333333, 30.583333333333332, 92.86666666666666, 45.333333333333336, 14.133333333333333, 43.31666666666667, 89.65, 89.06666666666666, 16.833333333333332, 91.65, 90.25, 20.366666666666667, 103.68333333333334, 29.816666666666666, 92.63333333333334, 91.9, 38.46666666666667, 93.18333333333334, 26.883333333333333, 10.416666666666666, 0.21666666666666667, 93.66666666666667, 91.15, 1.7833333333333334, 12.116666666666667, 92.85, 27.283333333333335, 92.5, 90.65, 28.616666666666667, 71.95, 11.8, 88.95, 11.633333333333333, 91.1, 55.8, 90.48333333333333, 94.63333333333334, 12.633333333333333, 94.55, 3.45, 54.85, 53.46666666666667, 28.85, 90.03333333333333, 29.366666666666667, 89.18333333333334, 74.08333333333333, 4.433333333333334, 58.666666666666664, 0.11666666666666667, 45.86666666666667, 12.616666666666667, 89.2, 57.78333333333333, 24.15, 15.066666666666666, 9.666666666666666, 34.78333333333333, 9.283333333333333, 56.88333333333333, 22.283333333333335, 89.03333333333333, 93.28333333333333, 55.38333333333333, 89.0, 91.71666666666667, 90.93333333333334, 92.0, 92.1, 57.56666666666667, 57.0, 117.18333333333334, 61.8, 9.683333333333334, 0.25, 60.583333333333336, 89.85, 91.4, 94.6, 91.4, 92.1, 88.75, 92.98333333333333, 39.55, 91.7, 92.35, 0.05, 89.55]\n",
      "[51.93333333333333, 129.03333333333333, 117.36666666666665, 16.65, 177.86666666666667, 172.39999999999998, 173.35000000000002, 55.05, 123.55000000000001, 153.9, 166.73333333333335, 140.1, 36.333333333333336, 172.06666666666666, 132.05, 178.51666666666665, 166.68333333333334, 188.38333333333333, 41.3, 114.68333333333332, 58.16666666666667, 16.71666666666667, 172.48333333333332, 182.78333333333333, 107.28333333333333, 179.39999999999998, 181.96666666666667, 34.099999999999994, 128.43333333333334, 231.61666666666667, 1.6833333333333336, 169.8, 114.18333333333334, 168.86666666666667, 168.95, 182.93333333333334, 82.55000000000001, 61.1, 138.18333333333334, 53.766666666666666, 183.43333333333334, 227.76666666666665, 123.26666666666667, 181.23333333333335, 166.5, 42.3, 86.61666666666666, 101.58333333333333, 4.3, 138.56666666666666, 184.66666666666666, 166.05, 186.33333333333331, 75.41666666666666, 60.5, 19.46666666666667, 52.4, 222.85, 180.36666666666667, 158.01666666666665, 73.28333333333333, 182.66666666666666, 177.5, 198.58333333333334, 7.750000000000001, 141.68333333333334, 171.38333333333333, 172.79999999999998, 74.16666666666666, 174.56666666666666, 179.26666666666668, 137.18333333333334, 166.35, 164.85, 125.2, 61.133333333333326, 176.4, 115.88333333333333, 163.71666666666664, 53.21666666666667, 164.2, 220.75, 88.73333333333333, 192.75, 118.23333333333332, 176.89999999999998, 165.33333333333331, 66.21666666666667, 139.66666666666666, 86.76666666666667, 13.7, 170.88333333333333, 108.71666666666667, 2.05, 10.633333333333335, 165.78333333333333, 62.25, 173.88333333333333, 169.0, 171.38333333333333, 57.25, 166.11666666666667, 166.36666666666667, 145.26666666666665, 182.38333333333333, 253.98333333333332, 164.16666666666669, 182.36666666666667, 95.75, 177.33333333333331, 184.53333333333333, 177.33333333333331, 289.25, 150.65, 113.0, 21.116666666666667, 170.41666666666669, 96.5, 144.46666666666664, 181.48333333333332, 186.96666666666667, 98.08333333333334, 253.51666666666668, 137.53333333333333, 172.08333333333331, 173.95, 19.15, 185.43333333333334, 187.3, 133.95, 165.60000000000002, 185.0333333333333, 105.61666666666667, 76.68333333333334, 174.63333333333333, 181.8, 4.1, 167.48333333333335, 5.516666666666667, 25.083333333333332, 1.35, 179.23333333333335, 137.96666666666667, 30.700000000000003, 0.8166666666666667, 26.25, 0.26666666666666666, 133.48333333333335, 176.55, 181.96666666666667, 93.68333333333334, 155.21666666666667, 97.43333333333332, 70.35, 178.46666666666667, 77.83333333333333, 54.099999999999994, 125.53333333333333, 161.46666666666664, 227.86666666666667, 0.8333333333333333, 155.7, 34.766666666666666, 173.88333333333333, 168.63333333333333, 168.2, 182.01666666666665, 180.53333333333333, 262.23333333333335, 75.81666666666666, 172.08333333333334, 37.849999999999994, 72.86666666666666, 66.68333333333334, 27.15, 59.75, 0.21666666666666667, 154.6, 33.3, 36.06666666666667, 164.0, 69.83333333333334, 53.49999999999999, 167.9, 50.15, 95.25, 179.23333333333335, 5.683333333333333, 179.11666666666667, 165.66666666666669, 232.81666666666666, 127.76666666666668, 150.95, 37.81666666666666, 180.13333333333333, 164.61666666666667, 168.89999999999998, 164.48333333333335, 6.933333333333334, 45.91666666666667, 43.86666666666667, 2.033333333333333, 178.28333333333333, 170.08333333333337, 185.1, 178.29999999999998, 182.3, 173.46666666666667, 109.15, 171.26666666666665, 184.96666666666667, 2.45, 187.2, 96.60000000000001, 109.69999999999999, 34.86666666666667, 101.58333333333334, 91.26666666666667, 180.16666666666666, 14.016666666666666, 179.46666666666667, 158.75, 174.78333333333333, 136.95, 191.0, 181.68333333333334, 8.766666666666666, 172.15, 180.83333333333331, 34.016666666666666, 32.68333333333333, 176.55, 177.33333333333334, 141.18333333333334, 168.93333333333334, 19.183333333333334, 95.88333333333333, 172.86666666666667, 74.7, 105.55, 7.483333333333333, 51.96666666666667, 10.166666666666668, 45.8, 190.86666666666667, 17.333333333333332, 216.48333333333335, 240.01666666666665, 169.06666666666666, 88.23333333333333, 182.85000000000002, 180.35000000000002, 165.36666666666667, 175.66666666666669, 177.10000000000002, 175.93333333333334, 192.39999999999998, 182.21666666666667, 65.4, 45.03333333333333, 56.43333333333333, 46.3, 176.05, 163.78333333333336, 176.81666666666666, 87.81666666666666, 88.55, 131.45000000000002, 136.58333333333334, 181.36666666666667, 48.0, 5.916666666666667, 7.066666666666666, 166.6, 127.73333333333333, 24.85, 186.9, 171.5, 243.16666666666669, 99.73333333333333, 167.26666666666665, 184.03333333333336, 181.23333333333335, 269.18333333333334, 69.93333333333334, 65.23333333333333, 132.55, 106.78333333333333, 173.41666666666669, 189.2, 142.73333333333335, 78.9, 77.15, 34.78333333333333, 0.2833333333333333, 109.4, 170.46666666666667, 180.0, 49.58333333333334, 36.916666666666664, 31.71666666666667, 173.18333333333334, 3.066666666666667, 187.76666666666665, 168.86666666666667, 179.98333333333335, 171.90000000000003, 179.1, 144.65, 140.48333333333332, 23.283333333333335, 131.2, 184.35, 186.3, 79.56666666666668, 286.6333333333333, 180.36666666666667, 184.71666666666667, 156.95, 176.95, 147.98333333333332, 180.64999999999998, 167.81666666666666, 172.89999999999998, 177.93333333333334, 25.366666666666667, 23.166666666666668, 62.3, 144.68333333333334, 209.6, 108.91666666666667, 0.95, 13.483333333333333, 18.55, 126.79999999999998, 181.56666666666666, 176.66666666666666, 79.06666666666666, 136.53333333333333, 185.31666666666666, 241.36666666666667, 169.43333333333334, 57.0, 56.71666666666667, 152.60000000000002, 83.53333333333333, 3.5999999999999996, 110.63333333333335, 164.6, 79.98333333333335, 128.5, 2.1333333333333333, 182.96666666666664, 118.25, 21.05, 52.43333333333333, 197.61666666666667, 20.416666666666668, 184.70000000000002, 158.4, 175.90000000000003, 63.31666666666667, 175.25, 166.63333333333333, 176.23333333333335, 120.20000000000002, 126.83333333333334, 154.8, 186.08333333333331, 256.5333333333333, 13.0, 112.85, 105.80000000000001, 15.899999999999999, 35.7, 207.68333333333334, 6.249999999999999, 174.01666666666665, 157.88333333333333, 244.18333333333334, 171.7, 132.43333333333334, 176.83333333333334, 168.26666666666668, 90.93333333333332, 191.61666666666667, 5.633333333333333, 275.3833333333333, 183.51666666666665, 124.33333333333333, 164.9, 152.8, 168.28333333333333, 0.8166666666666667, 116.66666666666666, 184.05, 166.25, 141.21666666666667, 181.39999999999998, 52.41666666666667, 166.63333333333333, 4.25, 179.33333333333334, 190.98333333333332, 78.86666666666667, 153.95, 179.03333333333336, 173.53333333333336, 38.83333333333333, 247.56666666666666, 21.8, 92.03333333333333, 183.71666666666667, 166.96666666666667, 146.08333333333334, 178.11666666666667, 7.183333333333334, 7.05, 46.03333333333333, 82.26666666666667, 151.45, 183.51666666666665, 181.51666666666668, 9.466666666666665, 174.13333333333333, 177.76666666666665, 70.64999999999999, 193.06666666666666, 23.083333333333336, 187.88333333333333, 241.7, 162.25, 168.0, 181.64999999999998, 73.15, 157.8, 171.5, 302.8, 94.13333333333333, 181.10000000000002, 112.86666666666665, 23.383333333333333, 180.83333333333331, 50.55, 178.76666666666668, 172.3, 109.33333333333334, 187.68333333333334, 174.93333333333334, 122.18333333333334, 21.583333333333332, 139.26666666666665, 45.733333333333334, 184.08333333333334, 161.11666666666667, 175.03333333333333, 65.0, 170.28333333333336, 109.56666666666666, 161.51666666666665, 16.583333333333336, 43.233333333333334, 184.46666666666667, 148.9, 103.6, 168.91666666666669, 170.45, 64.53333333333333, 30.366666666666667, 172.11666666666667, 176.6, 184.23333333333332, 245.26666666666665, 181.53333333333333, 180.95, 149.85, 161.95, 166.31666666666666, 174.43333333333334, 169.91666666666669, 38.5, 20.950000000000003, 6.85, 178.75, 26.333333333333336, 178.58333333333334, 167.61666666666667, 280.3, 186.36666666666667, 181.59999999999997, 122.83333333333334, 85.15, 115.81666666666666, 179.01666666666665, 68.48333333333333, 177.51666666666665, 189.06666666666666, 6.616666666666666, 181.5, 167.75, 70.05000000000001, 144.48333333333335, 169.8, 168.36666666666667, 127.4, 93.88333333333334, 165.51666666666665, 155.96666666666667, 182.75, 130.75, 64.53333333333333, 168.23333333333335, 40.93333333333333, 167.86666666666667, 1.5666666666666664, 35.983333333333334, 263.01666666666665, 178.75, 12.933333333333334, 105.06666666666666, 183.7, 180.16666666666669, 164.31666666666666, 38.45, 168.7, 80.7, 49.55, 59.56666666666666, 176.35000000000002, 181.88333333333333, 45.766666666666666, 124.93333333333332, 89.26666666666668, 164.39999999999998, 172.06666666666666, 138.56666666666666, 187.35000000000002, 54.88333333333333, 1.0166666666666666, 179.31666666666666, 185.20000000000002, 26.450000000000003, 155.65, 165.0, 87.0, 111.33333333333333, 190.46666666666667, 148.31666666666666, 172.68333333333334, 126.51666666666667, 123.10000000000001, 176.5, 166.85000000000002, 165.75, 181.46666666666667, 169.31666666666666, 173.03333333333333, 43.43333333333334, 161.11666666666667, 100.55, 181.39999999999998, 166.78333333333336, 163.81666666666666, 149.13333333333333, 140.83333333333334, 123.11666666666667, 182.86666666666667, 213.71666666666664, 3.5166666666666666, 148.93333333333334, 184.23333333333332, 160.11666666666667, 180.76666666666665, 0.43333333333333335, 19.366666666666667, 0.43333333333333335, 113.53333333333335, 178.21666666666667, 108.03333333333333, 161.7, 0.7666666666666666, 181.63333333333333, 38.65, 164.48333333333335, 191.53333333333333, 75.53333333333333, 48.016666666666666, 134.35, 0.31666666666666665, 166.26666666666665, 117.38333333333333, 177.76666666666665, 172.46666666666667, 187.91666666666669, 135.15, 219.23333333333335, 52.63333333333334, 85.73333333333333, 89.36666666666666, 2.4, 141.3, 168.41666666666666, 34.55, 109.15, 182.15, 166.01666666666665, 18.049999999999997, 137.31666666666666, 86.85, 3.1499999999999995, 181.35000000000002, 48.133333333333326, 216.71666666666667, 155.53333333333336, 185.3, 165.53333333333333, 182.06666666666666, 84.58333333333334, 55.95, 186.78333333333333, 56.13333333333333, 262.41666666666663, 161.6, 174.73333333333335, 4.916666666666666, 116.06666666666668, 163.39999999999998, 269.0, 120.9, 80.66666666666666, 167.16666666666669, 186.3, 115.16666666666666, 0.26666666666666666, 166.51666666666668, 177.41666666666669, 38.05, 1.3333333333333333, 34.8, 175.66666666666669, 31.96666666666667, 154.01666666666665, 58.400000000000006, 166.43333333333334, 72.21666666666667, 167.71666666666667, 219.60000000000002, 32.56666666666667, 120.91666666666666, 214.96666666666664, 166.25, 119.43333333333334, 42.03333333333333, 19.25, 133.65, 189.15, 150.11666666666667, 45.75, 168.98333333333332, 184.55, 168.31666666666666, 170.26666666666665, 136.5, 170.2833333333333, 55.83333333333333, 89.7, 163.16666666666669, 148.95000000000002, 172.56666666666666, 167.36666666666667, 10.55, 95.21666666666667, 167.53333333333333, 169.98333333333332, 108.48333333333333, 176.03333333333333, 137.26666666666665, 195.4666666666667, 172.26666666666665, 4.5, 20.566666666666666, 61.31666666666666, 127.89999999999998, 107.36666666666667, 169.85000000000002, 175.68333333333334, 93.58333333333333, 165.5, 29.8, 175.23333333333332, 117.23333333333335, 93.93333333333334, 167.81666666666666, 154.26666666666665, 183.2, 154.35, 182.11666666666667, 193.7166666666667, 11.733333333333334, 170.60000000000002, 177.41666666666666, 171.13333333333333, 168.15, 2.85, 153.18333333333334, 140.25, 171.65000000000003, 190.86666666666667, 24.633333333333333, 178.26666666666665, 105.76666666666667, 191.7, 129.08333333333334, 56.31666666666667, 132.26666666666665, 177.15, 177.16666666666669, 67.16666666666666, 167.81666666666666, 175.2166666666667, 81.11666666666666, 208.88333333333333, 107.71666666666665, 190.38333333333333, 166.75, 128.96666666666667, 185.36666666666667, 96.28333333333333, 41.31666666666667, 0.75, 190.95, 182.85000000000002, 6.7, 48.31666666666667, 185.08333333333331, 95.78333333333333, 190.28333333333333, 175.03333333333333, 104.30000000000001, 153.25, 46.900000000000006, 169.63333333333333, 46.266666666666666, 171.41666666666666, 131.93333333333334, 168.23333333333335, 169.58333333333334, 50.36666666666667, 180.01666666666665, 13.316666666666666, 127.53333333333333, 128.65, 101.55, 175.93333333333334, 96.01666666666667, 209.81666666666666, 149.25, 17.483333333333334, 151.81666666666666, 0.3666666666666667, 134.0, 50.01666666666667, 177.73333333333335, 133.71666666666664, 87.16666666666666, 60.05, 38.46666666666666, 121.71666666666667, 36.75, 135.65, 82.25, 172.9, 168.31666666666666, 138.98333333333335, 172.03333333333333, 178.06666666666666, 181.06666666666666, 192.8, 167.03333333333333, 140.68333333333334, 149.01666666666665, 233.48333333333335, 153.35000000000002, 38.4, 0.7666666666666666, 180.23333333333335, 176.78333333333333, 183.8, 186.56666666666666, 193.48333333333335, 179.13333333333333, 180.64999999999998, 191.33333333333331, 127.35, 182.68333333333334, 177.43333333333334, 0.15000000000000002, 178.2833333333333]\n",
      "Mean: 57.603070175438596\n",
      "Standard Deviation: 38.08050264657778\n",
      "Mean: 127.68713450292398\n",
      "Standard Deviation: 65.77434789825615\n"
     ]
    }
   ],
   "source": [
    "print(parallelized_build_times)\n",
    "print(current_build_times)\n",
    "\n",
    "mean_value = np.mean(parallelized_build_times)\n",
    "std_deviation = np.std(parallelized_build_times)\n",
    "\n",
    "print(f\"Mean: {mean_value}\")\n",
    "print(f\"Standard Deviation: {std_deviation}\")\n",
    "\n",
    "mean_value = np.mean(current_build_times)\n",
    "std_deviation = np.std(current_build_times)\n",
    "\n",
    "print(f\"Mean: {mean_value}\")\n",
    "print(f\"Standard Deviation: {std_deviation}\")"
   ]
  },
  {
   "cell_type": "code",
   "execution_count": 71,
   "metadata": {},
   "outputs": [
    {
     "name": "stdout",
     "output_type": "stream",
     "text": [
      "KS Statistic: 0.6466165413533834\n",
      "P-value: 1.6240583186800187e-157\n",
      "Reject null hypothesis: Distributions are significantly different.\n"
     ]
    }
   ],
   "source": [
    "from scipy.stats import kstest\n",
    "\n",
    "ks_statistic, p_value = kstest(parallelized_build_times, current_build_times)\n",
    "\n",
    "print(f\"KS Statistic: {ks_statistic}\")\n",
    "print(f\"P-value: {p_value}\")\n",
    "\n",
    "if p_value < 0.05:\n",
    "    print(\"Reject null hypothesis: Distributions are significantly different.\")\n",
    "else:\n",
    "    print(\"Fail to reject null hypothesis: Distributions are not significantly different.\")"
   ]
  }
 ],
 "metadata": {
  "kernelspec": {
   "display_name": "Python 3",
   "language": "python",
   "name": "python3"
  },
  "language_info": {
   "codemirror_mode": {
    "name": "ipython",
    "version": 3
   },
   "file_extension": ".py",
   "mimetype": "text/x-python",
   "name": "python",
   "nbconvert_exporter": "python",
   "pygments_lexer": "ipython3",
   "version": "3.7.4"
  }
 },
 "nbformat": 4,
 "nbformat_minor": 2
}
