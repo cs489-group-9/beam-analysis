{
 "cells": [
  {
   "cell_type": "code",
   "execution_count": null,
   "metadata": {},
   "outputs": [],
   "source": [
    "import sys\n",
    "import logging\n",
    "import pandas as pd\n",
    "import numpy as np\n",
    "from typing import List\n",
    "from tqdm import tqdm\n",
    "from google.cloud import bigquery\n",
    "from collections import defaultdict\n",
    "import matplotlib.pyplot as plt\n",
    "from scipy import stats\n",
    "\n",
    "client = bigquery.Client()\n",
    "\n",
    "logging.basicConfig(stream=sys.stdout, level=logging.INFO)\n",
    "logger = logging.getLogger(__name__)"
   ]
  },
  {
   "cell_type": "code",
   "execution_count": null,
   "metadata": {},
   "outputs": [],
   "source": [
    "def batch_commits_for_commit_build_times(\n",
    "    commits: pd.DataFrame,\n",
    "    workflow_runs: pd.DataFrame,\n",
    "    batch_max_wait_time: int,\n",
    "    observations: List,\n",
    "):\n",
    "    \"\"\"\n",
    "    Given a DataFrame of commits, batch them into groups based on the time between commits\n",
    "    \"\"\"\n",
    "    current_batch_workflows = defaultdict(list)\n",
    "    current_batch_end_time = commits.iloc[0][\"date\"] + pd.Timedelta(\n",
    "        minutes=batch_max_wait_time\n",
    "    )\n",
    "    curr_commit_batch = [commits.iloc[0]]\n",
    "    curr_batch_build_time = 0\n",
    "\n",
    "    for i in range(1, len(commits)):\n",
    "        curr_commit = commits.iloc[i]\n",
    "\n",
    "        if curr_commit[\"date\"] > current_batch_end_time:\n",
    "            for _, build_times in current_batch_workflows.items():\n",
    "                curr_batch_build_time += np.mean(\n",
    "                    build_times\n",
    "                )  # Take the average of all builds for a certain workflow across the batch of commits\n",
    "\n",
    "            current_batch_end_time = curr_commit[\"date\"] + pd.Timedelta(\n",
    "                minutes=batch_max_wait_time\n",
    "            )\n",
    "\n",
    "            for c in curr_commit_batch:\n",
    "                observations.append({\"commit\": c[\"sha\"], \"build_minutes\": curr_batch_build_time / len(curr_commit_batch), \"delay\": batch_max_wait_time})\n",
    "\n",
    "            current_batch_workflows = defaultdict(list)\n",
    "            curr_commit_batch = []\n",
    "            curr_batch_build_time = 0\n",
    "\n",
    "        curr_commit_batch.append(curr_commit)\n",
    "        workflows_for_commit = workflow_runs.loc[\n",
    "            workflow_runs[\"head_sha\"] == curr_commit[\"sha\"]\n",
    "        ]\n",
    "        for _, workflow in workflows_for_commit.iterrows():\n",
    "            current_batch_workflows[workflow[\"workflow_id\"]].append(\n",
    "                workflow[\"build_minutes\"]\n",
    "            )\n",
    "\n",
    "    # Process the last batch\n",
    "    for _, build_times in current_batch_workflows.items():\n",
    "        curr_batch_build_time += np.mean(\n",
    "            build_times\n",
    "        )  # Take the average of all builds for a certain workflow across the batch of commits\n",
    "\n",
    "    for c in curr_commit_batch:\n",
    "        observations.append({\"commit\": c[\"sha\"], \"build_minutes\": curr_batch_build_time / len(curr_commit_batch), \"delay\": batch_max_wait_time})"
   ]
  },
  {
   "cell_type": "code",
   "execution_count": null,
   "metadata": {},
   "outputs": [],
   "source": [
    "def process_control(commits_df: pd.DataFrame, workflow_runs: pd.DataFrame):\n",
    "    control_data = {commits_df[\"sha\"]: 0 for _, commits_df in commits_df.iterrows()}\n",
    "    for _, workflow in workflow_runs.iterrows():\n",
    "        control_data[workflow[\"head_sha\"]] += workflow[\"build_minutes\"]\n",
    "    control_df = pd.DataFrame(list(control_data.items()), columns=[\"commit\", \"build_minutes\"])\n",
    "    control_df[\"delay\"] = 0\n",
    "    return control_df"
   ]
  },
  {
   "cell_type": "code",
   "execution_count": null,
   "metadata": {},
   "outputs": [],
   "source": [
    "def run_monte_carlo_simulation(\n",
    "    all_commits: pd.DataFrame, workflow_runs: pd.DataFrame, iterations: int = 10\n",
    "):\n",
    "    observations = []\n",
    "    for _ in tqdm(range(iterations)):\n",
    "        bootstrap_sample = all_commits.sample(\n",
    "            n=1000, replace=True\n",
    "        ).sort_index()  # retain original sorted order which which started at the earliest commit in range and is ascending by time\n",
    "\n",
    "        merge_queue_batch_delay = np.random.randint(1, 61)\n",
    "        batch_commits_for_commit_build_times(\n",
    "            bootstrap_sample, workflow_runs, merge_queue_batch_delay, observations\n",
    "        )\n",
    "    return pd.DataFrame(observations)"
   ]
  },
  {
   "cell_type": "code",
   "execution_count": null,
   "metadata": {},
   "outputs": [],
   "source": [
    "query_for_commit_shas = \"SELECT sha, commit.committer.date FROM `scientific-glow-417622.beam.commits` ORDER BY commit.committer.date ASC\"\n",
    "query_for_workflow_runs = \"\"\"\n",
    "    SELECT\n",
    "        workflow_run.head_sha,\n",
    "        workflow_run.name,\n",
    "        workflow_run.workflow_id,\n",
    "        workflow_run.run_started_at,\n",
    "        workflow_run.created_at,\n",
    "        workflow_run.updated_at,\n",
    "        TIMESTAMP_DIFF(workflow_run.updated_at, workflow_run.created_at, SECOND) / 60.0 AS build_minutes\n",
    "    FROM\n",
    "        `scientific-glow-417622.beam.commits` AS commits\n",
    "    CROSS JOIN\n",
    "        `scientific-glow-417622.beam.push_and_schedule_workflows`,\n",
    "        UNNEST(workflow_runs) AS workflow_run\n",
    "    WHERE\n",
    "        commits.sha = workflow_run.head_sha AND workflow_run.event = 'push'\n",
    "        \"\"\"\n",
    "logger.info(\"Fetching data from BigQuery...\")\n",
    "commits_df = client.query_and_wait(query_for_commit_shas).to_dataframe()\n",
    "workflow_runs_df = client.query_and_wait(query_for_workflow_runs).to_dataframe()"
   ]
  },
  {
   "cell_type": "code",
   "execution_count": null,
   "metadata": {},
   "outputs": [],
   "source": [
    "logger.info(\"Calculating control Build minutes...\")\n",
    "control_df = process_control(commits_df, workflow_runs_df)"
   ]
  },
  {
   "cell_type": "code",
   "execution_count": null,
   "metadata": {},
   "outputs": [],
   "source": [
    "logger.info(\"Running Monte Carlo Simulation...\")\n",
    "observations_df = run_monte_carlo_simulation(\n",
    "    commits_df, workflow_runs_df, iterations=10000\n",
    ")"
   ]
  },
  {
   "cell_type": "code",
   "execution_count": null,
   "metadata": {},
   "outputs": [],
   "source": [
    "observations_df"
   ]
  },
  {
   "cell_type": "code",
   "execution_count": null,
   "metadata": {},
   "outputs": [],
   "source": [
    "# Query for all rows matching commit in observations_df dataframe\n",
    "filtered_df = observations_df[observations_df['commit'] == \"7ca1a5ddffdc777a6831d2d4c1d3b6dcd9905219\"]\n",
    "filtered_df\n"
   ]
  },
  {
   "cell_type": "code",
   "execution_count": null,
   "metadata": {},
   "outputs": [],
   "source": [
    "control_df"
   ]
  },
  {
   "cell_type": "code",
   "execution_count": null,
   "metadata": {},
   "outputs": [],
   "source": [
    "# Citation: Data Aggregation step was assisted by ChatGPT\n",
    "aggregated_observations_df = observations_df.groupby(\"commit\").agg(\n",
    "    build_minutes_mean=(\"build_minutes\", 'mean'),\n",
    "    delay_mean=(\"delay\", 'mean'),\n",
    "    build_minutes_2_5_percentile=(\"build_minutes\", lambda x: np.percentile(x, 2.5)),\n",
    "    build_minutes_97_5_percentile=(\"build_minutes\", lambda x: np.percentile(x, 97.5)),\n",
    "    delay_2_5_percentile=(\"delay\", lambda x: np.percentile(x, 2.5)),\n",
    "    delay_97_5_percentile=(\"delay\", lambda x: np.percentile(x, 97.5)),\n",
    ").reset_index()\n",
    "aggregated_observations_df"
   ]
  },
  {
   "cell_type": "code",
   "execution_count": null,
   "metadata": {},
   "outputs": [],
   "source": [
    "# Drop outlier\n",
    "# control_df = control_df[\n",
    "#     control_df[\"build_minutes\"] < 3000\n",
    "# ]\n",
    "\n",
    "plt.scatter(control_df[\"delay\"], control_df[\"build_minutes\"],  label=\"Control\")\n",
    "plt.title(\"Mean Delay vs. Mean Build Minutes for Each Commit (Control)\")\n",
    "plt.xlabel(\"Mean Delay\")\n",
    "plt.ylabel(\"Mean Build Minutes\")\n",
    "plt.grid(True)\n",
    "plt.show()"
   ]
  },
  {
   "cell_type": "code",
   "execution_count": null,
   "metadata": {},
   "outputs": [],
   "source": [
    "# Find outlier\n",
    "aggregated_observations_df[aggregated_observations_df[\"build_minutes_mean\"] > 8000]"
   ]
  },
  {
   "cell_type": "code",
   "execution_count": null,
   "metadata": {},
   "outputs": [],
   "source": [
    "# Drop outliers (anything below 600 and anything equal to 0)\n",
    "# Commits with build minutes equal to 0 likely made very minimal code changes or failed right before they began\n",
    "# Commits with build minutes above 1000 are outliers because they likely represent commits that spent a very long time running or caused a hung CI job.\n",
    "aggregated_observations_df = aggregated_observations_df[aggregated_observations_df[\"build_minutes_mean\"] < 5000]\n",
    "control_df = control_df[control_df[\"build_minutes\"] < 5000]\n",
    "\n",
    "plt.scatter(aggregated_observations_df[\"delay_mean\"], aggregated_observations_df[\"build_minutes_mean\"])\n",
    "plt.title('Mean Build Minutes vs. Mean Delay for Each Commit (Monte Carlo Simulation)')\n",
    "plt.ylabel('Mean Build Minutes')\n",
    "plt.xlabel('Mean Delay')\n",
    "plt.grid(True)\n",
    "plt.show()"
   ]
  },
  {
   "cell_type": "markdown",
   "metadata": {},
   "source": [
    "#### Statistical test (One Tailed T Test) without error bars"
   ]
  },
  {
   "cell_type": "code",

   "execution_count": null,
   "metadata": {},
   "outputs": [],
   "source": [
    "merged_df = aggregated_observations_df.merge(control_df, on=\"commit\", how=\"inner\")\n",
    "\n",
    "merge_queue_build_minutes = merged_df[\"build_minutes_mean\"]\n",
    "control_build_minutes = merged_df[\"build_minutes\"]\n",
    "\n",
    "print(np.mean(merge_queue_build_minutes), np.mean(control_build_minutes))\n",
    "\n",
    "# We just want to know if the merge queue build minutes are less than the control build minutes\n",
    "statistic, p_value = stats.ttest_rel(merge_queue_build_minutes, control_build_minutes, alternative='less')\n",
    "statistic, p_value\n",
<<<<<<< HEAD
    "merged_df.to_csv(\"merged_df.csv\", index=False)"
=======
   "execution_count": null,
   "metadata": {},
   "outputs": [],
   "source": [
    "control_build_minutes = control_df[\"build_minutes\"]\n",
    "print(control_build_minutes)\n",
    "merge_queue_build_minutes = aggregated_observations_df[\"build_minutes_mean\"]\n",
    "print(merge_queue_build_minutes)\n",
    "\n",
    "# We just want to know if the merge queue build minutes are greater than the control build minutes\n",
    "u_statistic, p_value = stats.mannwhitneyu(merge_queue_build_minutes, control_build_minutes, alternative=\"less\")\n",
    "u_statistic, p_value"
>>>>>>> 4447bb3 (comit)
=======
    "# merged_df.to_csv(\"merged_df.csv\", index=False)"
>>>>>>> 7c9513cf1cc3800daea8c74c3303aff32d8e353d
   ]
  },
  {
   "cell_type": "markdown",
   "metadata": {},
   "source": [
    "# Overlay Control on Monte-Carlo Experiment"
   ]
  },
  {
   "cell_type": "code",
<<<<<<< HEAD
<<<<<<< HEAD
   "execution_count": 67,
   "metadata": {},
   "outputs": [
    {
     "data": {
      "image/png": "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",
      "text/plain": [
       "<Figure size 640x480 with 1 Axes>"
      ]
     },
     "metadata": {},
     "output_type": "display_data"
    }
   ],
=======
   "execution_count": null,
   "metadata": {},
   "outputs": [],
>>>>>>> 4447bb3 (comit)
=======
   "execution_count": null,
   "metadata": {},
   "outputs": [],
>>>>>>> 7c9513cf1cc3800daea8c74c3303aff32d8e353d
   "source": [
    "\n",
    "plt.scatter(aggregated_observations_df[\"delay_mean\"], aggregated_observations_df[\"build_minutes_mean\"], label=\"Merge Queue\")\n",
    "plt.scatter(control_df[\"delay\"], control_df[\"build_minutes\"], label=\"Control\")\n",
    "plt.title('Mean Build Minutes vs. Mean Delay for Each Commit (Monte Carlo Simulation)')\n",
    "plt.ylabel('Mean Build Minutes')\n",
    "plt.xlabel('Mean Delay')\n",
    "plt.grid(True)\n",
    "plt.show()"
   ]
<<<<<<< HEAD
<<<<<<< HEAD
=======
  },
  {
   "cell_type": "markdown",
   "metadata": {},
   "source": [
    "#### Error Bars attempt\n",
    "- Could we try to calculate p-value from how close they are to the error bars?\n",
    "- Previous statistical test just looks at mean, but there is sufficient variance"
   ]
  },
  {
   "cell_type": "code",
   "execution_count": null,
   "metadata": {},
   "outputs": [],
   "source": [
    "# Create error bars using 95% confidence interval\n",
    "aggregated_observations_df['build_minutes_error'] = aggregated_observations_df.apply(lambda row: [\n",
    "    row['build_minutes_mean'] - row['build_minutes_2_5_percentile'], \n",
    "    row['build_minutes_97_5_percentile'] - row['build_minutes_mean']\n",
    "], axis=1)\n",
    "\n",
    "aggregated_observations_df['delay_error'] = aggregated_observations_df.apply(lambda row: [\n",
    "    row['delay_mean'] - row['delay_2_5_percentile'], \n",
    "    row['delay_97_5_percentile'] - row['delay_mean']\n",
    "], axis=1)\n",
    "\n",
    "# Filter out negative error bars because I was getting an error about this (LOOK BACK AND SEE WHY THIS IS HAPPENING)\n",
    "# aggregated_observations_df = aggregated_observations_df[\n",
    "#     (aggregated_observations_df['build_minutes_error'].apply(lambda x: x[0] >= 0 and x[1] >= 0)) &\n",
    "#     (aggregated_observations_df['delay_error'].apply(lambda x: x[0] >= 0 and x[1] >= 0))\n",
    "# ]"
   ]
  },
  {
   "cell_type": "code",
   "execution_count": null,
   "metadata": {},
   "outputs": [],
   "source": [
    "build_minutes_errors = np.array(aggregated_observations_df['build_minutes_error'].tolist()).T  # Transposing to get correct shape\n",
    "delay_errors = np.array(aggregated_observations_df['delay_error'].tolist()).T  # Transposing to get correct shape\n",
    "print(build_minutes_errors)\n",
    "\n",
    "plt.errorbar(\n",
    "    x=aggregated_observations_df['delay_mean'],\n",
    "    y=aggregated_observations_df['build_minutes_mean'],\n",
    "    # yerr=delay_errors,  # Error bars for delay\n",
    "    yerr=build_minutes_errors,  # Error bars for build minutes\n",
    "    fmt='o', ecolor='r', capsize=5, linestyle='None', markersize=5,\n",
    "    label='Commit'\n",
    ")\n",
    "\n",
    "plt.xlabel('Mean Delay')\n",
    "plt.ylabel('Mean Build Minutes')\n",
    "plt.title('Scatter Plot of Build Minutes vs. Delay with 95% CI Error Bars')\n",
    "plt.grid(True)\n",
    "plt.legend()\n",
    "plt.show()"
   ]
  },
  {
   "cell_type": "code",
   "execution_count": null,
   "metadata": {},
   "outputs": [],
   "source": [
    "observations_df.to_csv(\"observations.csv\", index=False)"
   ]
>>>>>>> 4447bb3 (comit)
=======
>>>>>>> 7c9513cf1cc3800daea8c74c3303aff32d8e353d
  }
 ],
 "metadata": {
  "kernelspec": {
   "display_name": "Python 3",
   "language": "python",
   "name": "python3"
  },
  "language_info": {
   "codemirror_mode": {
    "name": "ipython",
    "version": 3
   },
   "file_extension": ".py",
   "mimetype": "text/x-python",
   "name": "python",
   "nbconvert_exporter": "python",
   "pygments_lexer": "ipython3",
   "version": "3.11.7"
  }
 },
 "nbformat": 4,
 "nbformat_minor": 2
}
