{
 "cells": [
  {
   "cell_type": "code",
   "execution_count": null,
   "metadata": {},
   "outputs": [],
   "source": [
    "import sys\n",
    "import logging\n",
    "import pandas as pd\n",
    "import numpy as np\n",
    "from typing import List\n",
    "from tqdm import tqdm\n",
    "from google.cloud import bigquery\n",
    "from collections import defaultdict\n",
    "import matplotlib.pyplot as plt\n",
    "from scipy import stats\n",
    "\n",
    "client = bigquery.Client()\n",
    "\n",
    "logging.basicConfig(stream=sys.stdout, level=logging.INFO)\n",
    "logger = logging.getLogger(__name__)"
   ]
  },
  {
   "cell_type": "code",
   "execution_count": null,
   "metadata": {},
   "outputs": [],
   "source": [
    "def batch_commits_for_commit_build_times(\n",
    "    commits: pd.DataFrame,\n",
    "    workflow_runs: pd.DataFrame,\n",
    "    batch_max_wait_time: int,\n",
    "    observations: List,\n",
    "):\n",
    "    \"\"\"\n",
    "    Given a DataFrame of commits, batch them into groups based on the time between commits\n",
    "    \"\"\"\n",
    "    current_batch_workflows = defaultdict(list)\n",
    "    current_batch_end_time = commits.iloc[0][\"date\"] + pd.Timedelta(\n",
    "        minutes=batch_max_wait_time\n",
    "    )\n",
    "    curr_commit_batch = [commits.iloc[0]]\n",
    "    curr_batch_build_time = 0\n",
    "\n",
    "    for i in range(1, len(commits)):\n",
    "        curr_commit = commits.iloc[i]\n",
    "\n",
    "        if curr_commit[\"date\"] > current_batch_end_time:\n",
    "            for _, build_times in current_batch_workflows.items():\n",
    "                curr_batch_build_time += np.mean(\n",
    "                    build_times\n",
    "                )  # Take the average of all builds for a certain workflow across the batch of commits\n",
    "\n",
    "            current_batch_end_time = curr_commit[\"date\"] + pd.Timedelta(\n",
    "                minutes=batch_max_wait_time\n",
    "            )\n",
    "\n",
    "            for c in curr_commit_batch:\n",
    "                observations.append({\"commit\": c[\"sha\"], \"build_minutes\": curr_batch_build_time / len(curr_commit_batch), \"delay\": batch_max_wait_time})\n",
    "\n",
    "            current_batch_workflows = defaultdict(list)\n",
    "            curr_commit_batch = []\n",
    "            curr_batch_build_time = 0\n",
    "\n",
    "        curr_commit_batch.append(curr_commit)\n",
    "        workflows_for_commit = workflow_runs.loc[\n",
    "            workflow_runs[\"head_sha\"] == curr_commit[\"sha\"]\n",
    "        ]\n",
    "        for _, workflow in workflows_for_commit.iterrows():\n",
    "            current_batch_workflows[workflow[\"workflow_id\"]].append(\n",
    "                workflow[\"build_minutes\"]\n",
    "            )\n",
    "\n",
    "    # Process the last batch\n",
    "    for _, build_times in current_batch_workflows.items():\n",
    "        curr_batch_build_time += np.mean(\n",
    "            build_times\n",
    "        )  # Take the average of all builds for a certain workflow across the batch of commits\n",
    "\n",
    "    for c in curr_commit_batch:\n",
    "        observations.append({\"commit\": c[\"sha\"], \"build_minutes\": curr_batch_build_time / len(curr_commit_batch), \"delay\": batch_max_wait_time})"
   ]
  },
  {
   "cell_type": "code",
   "execution_count": null,
   "metadata": {},
   "outputs": [],
   "source": [
    "def process_control(commits_df: pd.DataFrame, workflow_runs: pd.DataFrame):\n",
    "    control_data = {commits_df[\"sha\"]: 0 for _, commits_df in commits_df.iterrows()}\n",
    "    for _, workflow in workflow_runs.iterrows():\n",
    "        control_data[workflow[\"head_sha\"]] += workflow[\"build_minutes\"]\n",
    "    control_df = pd.DataFrame(list(control_data.items()), columns=[\"commit\", \"build_minutes\"])\n",
    "    control_df[\"delay\"] = 0\n",
    "    return control_df"
   ]
  },
  {
   "cell_type": "code",
   "execution_count": null,
   "metadata": {},
   "outputs": [],
   "source": [
    "def run_monte_carlo_simulation(\n",
    "    all_commits: pd.DataFrame, workflow_runs: pd.DataFrame, iterations: int = 10\n",
    "):\n",
    "    observations = []\n",
    "    for _ in tqdm(range(iterations)):\n",
    "        bootstrap_sample = all_commits.sample(\n",
    "            n=1000, replace=True\n",
    "        ).sort_index()  # retain original sorted order which which started at the earliest commit in range and is ascending by time\n",
    "\n",
    "        merge_queue_batch_delay = np.random.randint(1, 61)\n",
    "        batch_commits_for_commit_build_times(\n",
    "            bootstrap_sample, workflow_runs, merge_queue_batch_delay, observations\n",
    "        )\n",
    "    return pd.DataFrame(observations)"
   ]
  },
  {
   "cell_type": "code",
   "execution_count": null,
   "metadata": {},
   "outputs": [],
   "source": [
    "query_for_commit_shas = \"SELECT sha, commit.committer.date FROM `scientific-glow-417622.beam.commits` ORDER BY commit.committer.date ASC\"\n",
    "query_for_workflow_runs = \"\"\"\n",
    "    SELECT\n",
    "        workflow_run.head_sha,\n",
    "        workflow_run.name,\n",
    "        workflow_run.workflow_id,\n",
    "        workflow_run.run_started_at,\n",
    "        workflow_run.created_at,\n",
    "        workflow_run.updated_at,\n",
    "        TIMESTAMP_DIFF(workflow_run.updated_at, workflow_run.created_at, SECOND) / 60.0 AS build_minutes\n",
    "    FROM\n",
    "        `scientific-glow-417622.beam.commits` AS commits\n",
    "    CROSS JOIN\n",
    "        `scientific-glow-417622.beam.push_and_schedule_workflows`,\n",
    "        UNNEST(workflow_runs) AS workflow_run\n",
    "    WHERE\n",
    "        commits.sha = workflow_run.head_sha AND workflow_run.event = 'push'\n",
    "        \"\"\"\n",
    "logger.info(\"Fetching data from BigQuery...\")\n",
    "commits_df = client.query_and_wait(query_for_commit_shas).to_dataframe()\n",
    "workflow_runs_df = client.query_and_wait(query_for_workflow_runs).to_dataframe()"
   ]
  },
  {
   "cell_type": "code",
   "execution_count": null,
   "metadata": {},
   "outputs": [],
   "source": [
    "logger.info(\"Calculating control Build minutes...\")\n",
    "control_df = process_control(commits_df, workflow_runs_df)"
   ]
  },
  {
   "cell_type": "code",
   "execution_count": null,
   "metadata": {},
   "outputs": [],
   "source": [
<<<<<<< HEAD
=======
    "control_df = process_control(commits_df, workflow_runs_df)\n",
>>>>>>> 4447bb3 (comit)
=======
>>>>>>> 7c9513cf1cc3800daea8c74c3303aff32d8e353d
    "logger.info(\"Running Monte Carlo Simulation...\")\n",
    "observations_df = run_monte_carlo_simulation(\n",
    "    commits_df, workflow_runs_df, iterations=10000\n",
    ")"
   ]
  },
  {
   "cell_type": "code",
<<<<<<< HEAD
<<<<<<< HEAD
   "execution_count": 7,
   "metadata": {},
   "outputs": [
    {
     "data": {
      "text/html": [
       "<div>\n",
       "<style scoped>\n",
       "    .dataframe tbody tr th:only-of-type {\n",
       "        vertical-align: middle;\n",
       "    }\n",
       "\n",
       "    .dataframe tbody tr th {\n",
       "        vertical-align: top;\n",
       "    }\n",
       "\n",
       "    .dataframe thead th {\n",
       "        text-align: right;\n",
       "    }\n",
       "</style>\n",
       "<table border=\"1\" class=\"dataframe\">\n",
       "  <thead>\n",
       "    <tr style=\"text-align: right;\">\n",
       "      <th></th>\n",
       "      <th>commit</th>\n",
       "      <th>build_minutes</th>\n",
       "      <th>delay</th>\n",
       "    </tr>\n",
       "  </thead>\n",
       "  <tbody>\n",
       "    <tr>\n",
       "      <th>0</th>\n",
       "      <td>b5794fc27b89dd8c550fdac7879e798f155520ad</td>\n",
       "      <td>89.197222</td>\n",
       "      <td>26</td>\n",
       "    </tr>\n",
       "    <tr>\n",
       "      <th>1</th>\n",
       "      <td>b5794fc27b89dd8c550fdac7879e798f155520ad</td>\n",
       "      <td>89.197222</td>\n",
       "      <td>26</td>\n",
       "    </tr>\n",
       "    <tr>\n",
       "      <th>2</th>\n",
       "      <td>a93fa513181456f499e6d467f40da67fc42eda59</td>\n",
       "      <td>89.197222</td>\n",
       "      <td>26</td>\n",
       "    </tr>\n",
       "    <tr>\n",
       "      <th>3</th>\n",
       "      <td>472ed9f8d8645fea8aadace94ea561aa511b2d70</td>\n",
       "      <td>61.766667</td>\n",
       "      <td>26</td>\n",
       "    </tr>\n",
       "    <tr>\n",
       "      <th>4</th>\n",
       "      <td>8a28100c47b15cf04ec76aba2e1d00fd760aeebd</td>\n",
       "      <td>964.950000</td>\n",
       "      <td>26</td>\n",
       "    </tr>\n",
       "    <tr>\n",
       "      <th>...</th>\n",
       "      <td>...</td>\n",
       "      <td>...</td>\n",
       "      <td>...</td>\n",
       "    </tr>\n",
       "    <tr>\n",
       "      <th>9999995</th>\n",
       "      <td>33a0bfb5d374fae99b1f19405aba341a0716b1c0</td>\n",
       "      <td>224.287037</td>\n",
       "      <td>23</td>\n",
       "    </tr>\n",
       "    <tr>\n",
       "      <th>9999996</th>\n",
       "      <td>102e2886545936d9bf2caa3a7cc0a06b9ced7f40</td>\n",
       "      <td>524.650000</td>\n",
       "      <td>23</td>\n",
       "    </tr>\n",
       "    <tr>\n",
       "      <th>9999997</th>\n",
       "      <td>71a6c029ec75c54153c6466f28d50a439bdc5ff4</td>\n",
       "      <td>197.416667</td>\n",
       "      <td>23</td>\n",
       "    </tr>\n",
       "    <tr>\n",
       "      <th>9999998</th>\n",
       "      <td>cccdb4cd30ffae857849f99040c0e55b93372594</td>\n",
       "      <td>171.000000</td>\n",
       "      <td>23</td>\n",
       "    </tr>\n",
       "    <tr>\n",
       "      <th>9999999</th>\n",
       "      <td>cccdb4cd30ffae857849f99040c0e55b93372594</td>\n",
       "      <td>171.000000</td>\n",
       "      <td>23</td>\n",
       "    </tr>\n",
       "  </tbody>\n",
       "</table>\n",
       "<p>10000000 rows × 3 columns</p>\n",
       "</div>"
      ],
      "text/plain": [
       "                                           commit  build_minutes  delay\n",
       "0        b5794fc27b89dd8c550fdac7879e798f155520ad      89.197222     26\n",
       "1        b5794fc27b89dd8c550fdac7879e798f155520ad      89.197222     26\n",
       "2        a93fa513181456f499e6d467f40da67fc42eda59      89.197222     26\n",
       "3        472ed9f8d8645fea8aadace94ea561aa511b2d70      61.766667     26\n",
       "4        8a28100c47b15cf04ec76aba2e1d00fd760aeebd     964.950000     26\n",
       "...                                           ...            ...    ...\n",
       "9999995  33a0bfb5d374fae99b1f19405aba341a0716b1c0     224.287037     23\n",
       "9999996  102e2886545936d9bf2caa3a7cc0a06b9ced7f40     524.650000     23\n",
       "9999997  71a6c029ec75c54153c6466f28d50a439bdc5ff4     197.416667     23\n",
       "9999998  cccdb4cd30ffae857849f99040c0e55b93372594     171.000000     23\n",
       "9999999  cccdb4cd30ffae857849f99040c0e55b93372594     171.000000     23\n",
       "\n",
       "[10000000 rows x 3 columns]"
      ]
     },
     "execution_count": 7,
     "metadata": {},
     "output_type": "execute_result"
    }
   ],
=======
   "execution_count": null,
   "metadata": {},
   "outputs": [],
>>>>>>> 4447bb3 (comit)
=======
   "execution_count": null,
   "metadata": {},
   "outputs": [],
>>>>>>> 7c9513cf1cc3800daea8c74c3303aff32d8e353d
   "source": [
    "observations_df"
   ]
  },
  {
   "cell_type": "code",
<<<<<<< HEAD
<<<<<<< HEAD
   "execution_count": 8,
   "metadata": {},
   "outputs": [
    {
     "data": {
      "text/html": [
       "<div>\n",
       "<style scoped>\n",
       "    .dataframe tbody tr th:only-of-type {\n",
       "        vertical-align: middle;\n",
       "    }\n",
       "\n",
       "    .dataframe tbody tr th {\n",
       "        vertical-align: top;\n",
       "    }\n",
       "\n",
       "    .dataframe thead th {\n",
       "        text-align: right;\n",
       "    }\n",
       "</style>\n",
       "<table border=\"1\" class=\"dataframe\">\n",
       "  <thead>\n",
       "    <tr style=\"text-align: right;\">\n",
       "      <th></th>\n",
       "      <th>commit</th>\n",
       "      <th>build_minutes</th>\n",
       "      <th>delay</th>\n",
       "    </tr>\n",
       "  </thead>\n",
       "  <tbody>\n",
       "    <tr>\n",
       "      <th>990</th>\n",
       "      <td>7ca1a5ddffdc777a6831d2d4c1d3b6dcd9905219</td>\n",
       "      <td>169.038889</td>\n",
       "      <td>26</td>\n",
       "    </tr>\n",
       "    <tr>\n",
       "      <th>991</th>\n",
       "      <td>7ca1a5ddffdc777a6831d2d4c1d3b6dcd9905219</td>\n",
       "      <td>169.038889</td>\n",
       "      <td>26</td>\n",
       "    </tr>\n",
       "    <tr>\n",
       "      <th>992</th>\n",
       "      <td>7ca1a5ddffdc777a6831d2d4c1d3b6dcd9905219</td>\n",
       "      <td>169.038889</td>\n",
       "      <td>26</td>\n",
       "    </tr>\n",
       "    <tr>\n",
       "      <th>1993</th>\n",
       "      <td>7ca1a5ddffdc777a6831d2d4c1d3b6dcd9905219</td>\n",
       "      <td>169.038889</td>\n",
       "      <td>39</td>\n",
       "    </tr>\n",
       "    <tr>\n",
       "      <th>1994</th>\n",
       "      <td>7ca1a5ddffdc777a6831d2d4c1d3b6dcd9905219</td>\n",
       "      <td>169.038889</td>\n",
       "      <td>39</td>\n",
       "    </tr>\n",
       "    <tr>\n",
       "      <th>...</th>\n",
       "      <td>...</td>\n",
       "      <td>...</td>\n",
       "      <td>...</td>\n",
       "    </tr>\n",
       "    <tr>\n",
       "      <th>9995996</th>\n",
       "      <td>7ca1a5ddffdc777a6831d2d4c1d3b6dcd9905219</td>\n",
       "      <td>253.558333</td>\n",
       "      <td>14</td>\n",
       "    </tr>\n",
       "    <tr>\n",
       "      <th>9996989</th>\n",
       "      <td>7ca1a5ddffdc777a6831d2d4c1d3b6dcd9905219</td>\n",
       "      <td>507.116667</td>\n",
       "      <td>43</td>\n",
       "    </tr>\n",
       "    <tr>\n",
       "      <th>9997998</th>\n",
       "      <td>7ca1a5ddffdc777a6831d2d4c1d3b6dcd9905219</td>\n",
       "      <td>507.116667</td>\n",
       "      <td>43</td>\n",
       "    </tr>\n",
       "    <tr>\n",
       "      <th>9998993</th>\n",
       "      <td>7ca1a5ddffdc777a6831d2d4c1d3b6dcd9905219</td>\n",
       "      <td>253.558333</td>\n",
       "      <td>48</td>\n",
       "    </tr>\n",
       "    <tr>\n",
       "      <th>9998994</th>\n",
       "      <td>7ca1a5ddffdc777a6831d2d4c1d3b6dcd9905219</td>\n",
       "      <td>253.558333</td>\n",
       "      <td>48</td>\n",
       "    </tr>\n",
       "  </tbody>\n",
       "</table>\n",
       "<p>9860 rows × 3 columns</p>\n",
       "</div>"
      ],
      "text/plain": [
       "                                           commit  build_minutes  delay\n",
       "990      7ca1a5ddffdc777a6831d2d4c1d3b6dcd9905219     169.038889     26\n",
       "991      7ca1a5ddffdc777a6831d2d4c1d3b6dcd9905219     169.038889     26\n",
       "992      7ca1a5ddffdc777a6831d2d4c1d3b6dcd9905219     169.038889     26\n",
       "1993     7ca1a5ddffdc777a6831d2d4c1d3b6dcd9905219     169.038889     39\n",
       "1994     7ca1a5ddffdc777a6831d2d4c1d3b6dcd9905219     169.038889     39\n",
       "...                                           ...            ...    ...\n",
       "9995996  7ca1a5ddffdc777a6831d2d4c1d3b6dcd9905219     253.558333     14\n",
       "9996989  7ca1a5ddffdc777a6831d2d4c1d3b6dcd9905219     507.116667     43\n",
       "9997998  7ca1a5ddffdc777a6831d2d4c1d3b6dcd9905219     507.116667     43\n",
       "9998993  7ca1a5ddffdc777a6831d2d4c1d3b6dcd9905219     253.558333     48\n",
       "9998994  7ca1a5ddffdc777a6831d2d4c1d3b6dcd9905219     253.558333     48\n",
       "\n",
       "[9860 rows x 3 columns]"
      ]
     },
     "execution_count": 8,
     "metadata": {},
     "output_type": "execute_result"
    }
   ],
=======
   "execution_count": null,
   "metadata": {},
   "outputs": [],
>>>>>>> 4447bb3 (comit)
=======
   "execution_count": null,
   "metadata": {},
   "outputs": [],
>>>>>>> 7c9513cf1cc3800daea8c74c3303aff32d8e353d
   "source": [
    "# Query for all rows matching commit in observations_df dataframe\n",
    "filtered_df = observations_df[observations_df['commit'] == \"7ca1a5ddffdc777a6831d2d4c1d3b6dcd9905219\"]\n",
    "filtered_df\n"
   ]
  },
  {
   "cell_type": "code",
<<<<<<< HEAD
<<<<<<< HEAD
   "execution_count": 56,
   "metadata": {},
   "outputs": [
    {
     "data": {
      "text/html": [
       "<div>\n",
       "<style scoped>\n",
       "    .dataframe tbody tr th:only-of-type {\n",
       "        vertical-align: middle;\n",
       "    }\n",
       "\n",
       "    .dataframe tbody tr th {\n",
       "        vertical-align: top;\n",
       "    }\n",
       "\n",
       "    .dataframe thead th {\n",
       "        text-align: right;\n",
       "    }\n",
       "</style>\n",
       "<table border=\"1\" class=\"dataframe\">\n",
       "  <thead>\n",
       "    <tr style=\"text-align: right;\">\n",
       "      <th></th>\n",
       "      <th>commit</th>\n",
       "      <th>build_minutes</th>\n",
       "      <th>delay</th>\n",
       "    </tr>\n",
       "  </thead>\n",
       "  <tbody>\n",
       "    <tr>\n",
       "      <th>0</th>\n",
       "      <td>b5794fc27b89dd8c550fdac7879e798f155520ad</td>\n",
       "      <td>225.916667</td>\n",
       "      <td>0</td>\n",
       "    </tr>\n",
       "    <tr>\n",
       "      <th>1</th>\n",
       "      <td>a93fa513181456f499e6d467f40da67fc42eda59</td>\n",
       "      <td>132.400000</td>\n",
       "      <td>0</td>\n",
       "    </tr>\n",
       "    <tr>\n",
       "      <th>2</th>\n",
       "      <td>472ed9f8d8645fea8aadace94ea561aa511b2d70</td>\n",
       "      <td>61.766667</td>\n",
       "      <td>0</td>\n",
       "    </tr>\n",
       "    <tr>\n",
       "      <th>3</th>\n",
       "      <td>84e6ceb2f0c9906fc1d64f630a320ea7c2126e92</td>\n",
       "      <td>64.200000</td>\n",
       "      <td>0</td>\n",
       "    </tr>\n",
       "    <tr>\n",
       "      <th>4</th>\n",
       "      <td>2f8eebb7fa7a439eecba604eacaf3611ae6f5fb6</td>\n",
       "      <td>189.600000</td>\n",
       "      <td>0</td>\n",
       "    </tr>\n",
       "    <tr>\n",
       "      <th>...</th>\n",
       "      <td>...</td>\n",
       "      <td>...</td>\n",
       "      <td>...</td>\n",
       "    </tr>\n",
       "    <tr>\n",
       "      <th>995</th>\n",
       "      <td>7ca1a5ddffdc777a6831d2d4c1d3b6dcd9905219</td>\n",
       "      <td>507.116667</td>\n",
       "      <td>0</td>\n",
       "    </tr>\n",
       "    <tr>\n",
       "      <th>996</th>\n",
       "      <td>c00e347c731c5f37a0ec383879922f34b8256111</td>\n",
       "      <td>157.050000</td>\n",
       "      <td>0</td>\n",
       "    </tr>\n",
       "    <tr>\n",
       "      <th>997</th>\n",
       "      <td>71a6c029ec75c54153c6466f28d50a439bdc5ff4</td>\n",
       "      <td>197.416667</td>\n",
       "      <td>0</td>\n",
       "    </tr>\n",
       "    <tr>\n",
       "      <th>998</th>\n",
       "      <td>cccdb4cd30ffae857849f99040c0e55b93372594</td>\n",
       "      <td>342.000000</td>\n",
       "      <td>0</td>\n",
       "    </tr>\n",
       "    <tr>\n",
       "      <th>999</th>\n",
       "      <td>4208b86fdd117ed875973f4639293dc574ab15bb</td>\n",
       "      <td>563.216667</td>\n",
       "      <td>0</td>\n",
       "    </tr>\n",
       "  </tbody>\n",
       "</table>\n",
       "<p>998 rows × 3 columns</p>\n",
       "</div>"
      ],
      "text/plain": [
       "                                       commit  build_minutes  delay\n",
       "0    b5794fc27b89dd8c550fdac7879e798f155520ad     225.916667      0\n",
       "1    a93fa513181456f499e6d467f40da67fc42eda59     132.400000      0\n",
       "2    472ed9f8d8645fea8aadace94ea561aa511b2d70      61.766667      0\n",
       "3    84e6ceb2f0c9906fc1d64f630a320ea7c2126e92      64.200000      0\n",
       "4    2f8eebb7fa7a439eecba604eacaf3611ae6f5fb6     189.600000      0\n",
       "..                                        ...            ...    ...\n",
       "995  7ca1a5ddffdc777a6831d2d4c1d3b6dcd9905219     507.116667      0\n",
       "996  c00e347c731c5f37a0ec383879922f34b8256111     157.050000      0\n",
       "997  71a6c029ec75c54153c6466f28d50a439bdc5ff4     197.416667      0\n",
       "998  cccdb4cd30ffae857849f99040c0e55b93372594     342.000000      0\n",
       "999  4208b86fdd117ed875973f4639293dc574ab15bb     563.216667      0\n",
       "\n",
       "[998 rows x 3 columns]"
      ]
     },
     "execution_count": 56,
     "metadata": {},
     "output_type": "execute_result"
    }
   ],
=======
   "execution_count": null,
   "metadata": {},
   "outputs": [],
>>>>>>> 4447bb3 (comit)
=======
   "execution_count": null,
   "metadata": {},
   "outputs": [],
>>>>>>> 7c9513cf1cc3800daea8c74c3303aff32d8e353d
   "source": [
    "control_df"
   ]
  },
  {
   "cell_type": "code",
<<<<<<< HEAD
<<<<<<< HEAD
   "execution_count": 49,
   "metadata": {},
   "outputs": [
    {
     "data": {
      "text/html": [
       "<div>\n",
       "<style scoped>\n",
       "    .dataframe tbody tr th:only-of-type {\n",
       "        vertical-align: middle;\n",
       "    }\n",
       "\n",
       "    .dataframe tbody tr th {\n",
       "        vertical-align: top;\n",
       "    }\n",
       "\n",
       "    .dataframe thead th {\n",
       "        text-align: right;\n",
       "    }\n",
       "</style>\n",
       "<table border=\"1\" class=\"dataframe\">\n",
       "  <thead>\n",
       "    <tr style=\"text-align: right;\">\n",
       "      <th></th>\n",
       "      <th>commit</th>\n",
       "      <th>build_minutes_mean</th>\n",
       "      <th>delay_mean</th>\n",
       "      <th>build_minutes_2_5_percentile</th>\n",
       "      <th>build_minutes_97_5_percentile</th>\n",
       "      <th>delay_2_5_percentile</th>\n",
       "      <th>delay_97_5_percentile</th>\n",
       "    </tr>\n",
       "  </thead>\n",
       "  <tbody>\n",
       "    <tr>\n",
       "      <th>0</th>\n",
       "      <td>00462b13cc1eb36302013dea18b701e9e70b9058</td>\n",
       "      <td>116.683560</td>\n",
       "      <td>30.660766</td>\n",
       "      <td>26.825000</td>\n",
       "      <td>262.075000</td>\n",
       "      <td>2.0</td>\n",
       "      <td>59.0</td>\n",
       "    </tr>\n",
       "    <tr>\n",
       "      <th>1</th>\n",
       "      <td>00526dd3fa2a8fa9168cdb7f94c86af519f5c678</td>\n",
       "      <td>143.953399</td>\n",
       "      <td>30.586846</td>\n",
       "      <td>57.125000</td>\n",
       "      <td>228.500000</td>\n",
       "      <td>2.0</td>\n",
       "      <td>59.0</td>\n",
       "    </tr>\n",
       "    <tr>\n",
       "      <th>2</th>\n",
       "      <td>00a55272eaac451c3f364c4071e4af1ab56b88bd</td>\n",
       "      <td>82.017795</td>\n",
       "      <td>30.792329</td>\n",
       "      <td>21.952083</td>\n",
       "      <td>184.343056</td>\n",
       "      <td>2.0</td>\n",
       "      <td>59.0</td>\n",
       "    </tr>\n",
       "    <tr>\n",
       "      <th>3</th>\n",
       "      <td>00d5863551cc3e1f517b65d2f66eabb4c26fad95</td>\n",
       "      <td>45.369575</td>\n",
       "      <td>30.434034</td>\n",
       "      <td>17.620833</td>\n",
       "      <td>80.772222</td>\n",
       "      <td>2.0</td>\n",
       "      <td>59.0</td>\n",
       "    </tr>\n",
       "    <tr>\n",
       "      <th>4</th>\n",
       "      <td>00f07864784dc71b131244533abce4aaad48b5fa</td>\n",
       "      <td>6.697719</td>\n",
       "      <td>30.629029</td>\n",
       "      <td>0.000000</td>\n",
       "      <td>70.783333</td>\n",
       "      <td>2.0</td>\n",
       "      <td>59.0</td>\n",
       "    </tr>\n",
       "    <tr>\n",
       "      <th>...</th>\n",
       "      <td>...</td>\n",
       "      <td>...</td>\n",
       "      <td>...</td>\n",
       "      <td>...</td>\n",
       "      <td>...</td>\n",
       "      <td>...</td>\n",
       "      <td>...</td>\n",
       "    </tr>\n",
       "    <tr>\n",
       "      <th>995</th>\n",
       "      <td>fe262b630b3fd51854e667aa61a3ad0155f81634</td>\n",
       "      <td>173.084704</td>\n",
       "      <td>30.648716</td>\n",
       "      <td>33.583333</td>\n",
       "      <td>335.912500</td>\n",
       "      <td>2.0</td>\n",
       "      <td>59.0</td>\n",
       "    </tr>\n",
       "    <tr>\n",
       "      <th>996</th>\n",
       "      <td>fedca3ce18ea21424bd2381c75231e7399a8a6c2</td>\n",
       "      <td>140.535138</td>\n",
       "      <td>30.520445</td>\n",
       "      <td>55.541667</td>\n",
       "      <td>222.166667</td>\n",
       "      <td>2.0</td>\n",
       "      <td>59.0</td>\n",
       "    </tr>\n",
       "    <tr>\n",
       "      <th>997</th>\n",
       "      <td>ff03c129e07b9353a2005c76d91bdd12e4636565</td>\n",
       "      <td>100.766528</td>\n",
       "      <td>30.302849</td>\n",
       "      <td>34.856667</td>\n",
       "      <td>174.283333</td>\n",
       "      <td>2.0</td>\n",
       "      <td>59.0</td>\n",
       "    </tr>\n",
       "    <tr>\n",
       "      <th>998</th>\n",
       "      <td>ff272db75e685024dcae4cf84f3a979568c8ea62</td>\n",
       "      <td>244.764088</td>\n",
       "      <td>30.914352</td>\n",
       "      <td>103.840432</td>\n",
       "      <td>564.916667</td>\n",
       "      <td>2.0</td>\n",
       "      <td>59.0</td>\n",
       "    </tr>\n",
       "    <tr>\n",
       "      <th>999</th>\n",
       "      <td>ffe2dba532028cdbbb5bca9c374f0a2d756ee8bf</td>\n",
       "      <td>126.601194</td>\n",
       "      <td>30.729215</td>\n",
       "      <td>51.166667</td>\n",
       "      <td>204.666667</td>\n",
       "      <td>2.0</td>\n",
       "      <td>59.0</td>\n",
       "    </tr>\n",
       "  </tbody>\n",
       "</table>\n",
       "<p>1000 rows × 7 columns</p>\n",
       "</div>"
      ],
      "text/plain": [
       "                                       commit  build_minutes_mean  delay_mean  \\\n",
       "0    00462b13cc1eb36302013dea18b701e9e70b9058          116.683560   30.660766   \n",
       "1    00526dd3fa2a8fa9168cdb7f94c86af519f5c678          143.953399   30.586846   \n",
       "2    00a55272eaac451c3f364c4071e4af1ab56b88bd           82.017795   30.792329   \n",
       "3    00d5863551cc3e1f517b65d2f66eabb4c26fad95           45.369575   30.434034   \n",
       "4    00f07864784dc71b131244533abce4aaad48b5fa            6.697719   30.629029   \n",
       "..                                        ...                 ...         ...   \n",
       "995  fe262b630b3fd51854e667aa61a3ad0155f81634          173.084704   30.648716   \n",
       "996  fedca3ce18ea21424bd2381c75231e7399a8a6c2          140.535138   30.520445   \n",
       "997  ff03c129e07b9353a2005c76d91bdd12e4636565          100.766528   30.302849   \n",
       "998  ff272db75e685024dcae4cf84f3a979568c8ea62          244.764088   30.914352   \n",
       "999  ffe2dba532028cdbbb5bca9c374f0a2d756ee8bf          126.601194   30.729215   \n",
       "\n",
       "     build_minutes_2_5_percentile  build_minutes_97_5_percentile  \\\n",
       "0                       26.825000                     262.075000   \n",
       "1                       57.125000                     228.500000   \n",
       "2                       21.952083                     184.343056   \n",
       "3                       17.620833                      80.772222   \n",
       "4                        0.000000                      70.783333   \n",
       "..                            ...                            ...   \n",
       "995                     33.583333                     335.912500   \n",
       "996                     55.541667                     222.166667   \n",
       "997                     34.856667                     174.283333   \n",
       "998                    103.840432                     564.916667   \n",
       "999                     51.166667                     204.666667   \n",
       "\n",
       "     delay_2_5_percentile  delay_97_5_percentile  \n",
       "0                     2.0                   59.0  \n",
       "1                     2.0                   59.0  \n",
       "2                     2.0                   59.0  \n",
       "3                     2.0                   59.0  \n",
       "4                     2.0                   59.0  \n",
       "..                    ...                    ...  \n",
       "995                   2.0                   59.0  \n",
       "996                   2.0                   59.0  \n",
       "997                   2.0                   59.0  \n",
       "998                   2.0                   59.0  \n",
       "999                   2.0                   59.0  \n",
       "\n",
       "[1000 rows x 7 columns]"
      ]
     },
     "execution_count": 49,
     "metadata": {},
     "output_type": "execute_result"
    }
   ],
=======
   "execution_count": null,
   "metadata": {},
   "outputs": [],
>>>>>>> 4447bb3 (comit)
=======
   "execution_count": null,
   "metadata": {},
   "outputs": [],
>>>>>>> 7c9513cf1cc3800daea8c74c3303aff32d8e353d
   "source": [
    "# Citation: Data Aggregation step was assisted by ChatGPT\n",
    "aggregated_observations_df = observations_df.groupby(\"commit\").agg(\n",
    "    build_minutes_mean=(\"build_minutes\", 'mean'),\n",
    "    delay_mean=(\"delay\", 'mean'),\n",
    "    build_minutes_2_5_percentile=(\"build_minutes\", lambda x: np.percentile(x, 2.5)),\n",
    "    build_minutes_97_5_percentile=(\"build_minutes\", lambda x: np.percentile(x, 97.5)),\n",
    "    delay_2_5_percentile=(\"delay\", lambda x: np.percentile(x, 2.5)),\n",
    "    delay_97_5_percentile=(\"delay\", lambda x: np.percentile(x, 97.5)),\n",
    ").reset_index()\n",
    "aggregated_observations_df"
   ]
  },
  {
   "cell_type": "code",
<<<<<<< HEAD
<<<<<<< HEAD
   "execution_count": 48,
   "metadata": {},
   "outputs": [
    {
     "data": {
      "image/png": "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",
      "text/plain": [
       "<Figure size 640x480 with 1 Axes>"
      ]
     },
     "metadata": {},
     "output_type": "display_data"
    }
   ],
   "source": [
    "# Drop outlier\n",
    "# control_df = control_df[\n",
    "#     control_df[\"build_minutes\"] < 3000\n",
    "# ]\n",
=======
=======
>>>>>>> 7c9513cf1cc3800daea8c74c3303aff32d8e353d
   "execution_count": null,
   "metadata": {},
   "outputs": [],
   "source": [
    "# Drop outlier\n",
<<<<<<< HEAD
    "control_df = control_df[\n",
    "    control_df[\"build_minutes\"] < 3000\n",
    "]\n",
>>>>>>> 4447bb3 (comit)
=======
    "# control_df = control_df[\n",
    "#     control_df[\"build_minutes\"] < 3000\n",
    "# ]\n",
>>>>>>> 7c9513cf1cc3800daea8c74c3303aff32d8e353d
    "\n",
    "plt.scatter(control_df[\"delay\"], control_df[\"build_minutes\"],  label=\"Control\")\n",
    "plt.title(\"Mean Delay vs. Mean Build Minutes for Each Commit (Control)\")\n",
    "plt.xlabel(\"Mean Delay\")\n",
    "plt.ylabel(\"Mean Build Minutes\")\n",
    "plt.grid(True)\n",
    "plt.show()"
   ]
  },
  {
   "cell_type": "code",
<<<<<<< HEAD
<<<<<<< HEAD
   "execution_count": 50,
   "metadata": {},
   "outputs": [
    {
     "data": {
      "text/html": [
       "<div>\n",
       "<style scoped>\n",
       "    .dataframe tbody tr th:only-of-type {\n",
       "        vertical-align: middle;\n",
       "    }\n",
       "\n",
       "    .dataframe tbody tr th {\n",
       "        vertical-align: top;\n",
       "    }\n",
       "\n",
       "    .dataframe thead th {\n",
       "        text-align: right;\n",
       "    }\n",
       "</style>\n",
       "<table border=\"1\" class=\"dataframe\">\n",
       "  <thead>\n",
       "    <tr style=\"text-align: right;\">\n",
       "      <th></th>\n",
       "      <th>commit</th>\n",
       "      <th>build_minutes_mean</th>\n",
       "      <th>delay_mean</th>\n",
       "      <th>build_minutes_2_5_percentile</th>\n",
       "      <th>build_minutes_97_5_percentile</th>\n",
       "      <th>delay_2_5_percentile</th>\n",
       "      <th>delay_97_5_percentile</th>\n",
       "    </tr>\n",
       "  </thead>\n",
       "  <tbody>\n",
       "    <tr>\n",
       "      <th>324</th>\n",
       "      <td>539f04233c6b181ad59e952befab792768f23d5e</td>\n",
       "      <td>11144.374372</td>\n",
       "      <td>30.698714</td>\n",
       "      <td>4439.375</td>\n",
       "      <td>17757.5</td>\n",
       "      <td>2.0</td>\n",
       "      <td>59.0</td>\n",
       "    </tr>\n",
       "  </tbody>\n",
       "</table>\n",
       "</div>"
      ],
      "text/plain": [
       "                                       commit  build_minutes_mean  delay_mean  \\\n",
       "324  539f04233c6b181ad59e952befab792768f23d5e        11144.374372   30.698714   \n",
       "\n",
       "     build_minutes_2_5_percentile  build_minutes_97_5_percentile  \\\n",
       "324                      4439.375                        17757.5   \n",
       "\n",
       "     delay_2_5_percentile  delay_97_5_percentile  \n",
       "324                   2.0                   59.0  "
      ]
     },
     "execution_count": 50,
     "metadata": {},
     "output_type": "execute_result"
    }
   ],
=======
   "execution_count": null,
   "metadata": {},
   "outputs": [],
>>>>>>> 4447bb3 (comit)
=======
   "execution_count": null,
   "metadata": {},
   "outputs": [],
>>>>>>> 7c9513cf1cc3800daea8c74c3303aff32d8e353d
   "source": [
    "# Find outlier\n",
    "aggregated_observations_df[aggregated_observations_df[\"build_minutes_mean\"] > 8000]"
   ]
  },
  {
   "cell_type": "code",
<<<<<<< HEAD
<<<<<<< HEAD
   "execution_count": 66,
   "metadata": {},
   "outputs": [
    {
     "data": {
      "image/png": "iVBORw0KGgoAAAANSUhEUgAAAp8AAAHHCAYAAAD53TMPAAAAOXRFWHRTb2Z0d2FyZQBNYXRwbG90bGliIHZlcnNpb24zLjguMywgaHR0cHM6Ly9tYXRwbG90bGliLm9yZy/H5lhTAAAACXBIWXMAAA9hAAAPYQGoP6dpAACGFUlEQVR4nO3dd3hTZd8H8G9auncLHUApBZFSCkUqo7KhlLJFeGTIRlCEV0EZog+jgLJkCQiCAsoWRFkyiiyBArJEpowCKh3SSSkdNPf7R5/EphlN0uQ0bb+f6+oFOTnjPnfOOfnlnjIhhAARERERkQSsSjsBRERERFRxMPgkIiIiIskw+CQiIiIiyTD4JCIiIiLJMPgkIiIiIskw+CQiIiIiyTD4JCIiIiLJMPgkIiIiIskw+CQiIiIiyTD4NDGZTIYZM2YoX69fvx4ymQz3798vdtuaNWti6NChZkvb0KFDUbNmTbPtn0ibGTNmQCaTlcqxN2zYgKCgINjY2MDd3b1U0mBuMpkMY8eOLe1kWJyiz2NjdenSBSNHjix5gkintm3bom3btpIf99ixY5DJZDh27JjkxwbM890vxff9qlWrUKNGDeTk5Bi8rUHBpyKQkslkOHnypNr7Qgj4+/tDJpOhW7duBidGSjVr1lSei0wmg729PerUqYOJEyciJSWltJOnkyLNb775psb3P/74Y+U6jx8/ljRtWVlZmDFjRqndxFK7f/++Mq9nz56tcZ033ngDMpkMzs7OEqfOMEOHDlW5J5ydnVGrVi306dMH33//PeRyeWkn0WA3b97E0KFDUbt2baxZswarV6826/EUQba2v4SEBLMevyQyMjIQHR2N0NBQODs7w8HBASEhIZg8eTIePXpU2skzidOnT2PGjBlIS0vTe5tTp07h0KFDmDx5snKZIliRyWTYuHGjxu1atGgBmUyGkJCQkiZbp+vXr2PGjBl6FXAYIzExERMmTEBQUBAcHR3h5OSEsLAwzJ4926B8LA1yuRzffvstmjVrBk9PT7i4uODFF1/E4MGDcebMmdJOXok9evQIM2bMwOXLl0vl+EOHDkVubi6+/PJLg7etZMwB7e3tsXnzZrRs2VJl+fHjx/HXX3/Bzs7OmN1KrlGjRvjggw8AANnZ2bhw4QKWLFmC48eP49y5c0bt89mzZ6hUyahsNYi9vT2+//57fPHFF7C1tVV5b8uWLbC3t0d2drbK8jVr1pg9gMjKykJ0dDQAlMov2NJib2+PLVu24L///a/K8qdPn2LXrl2wt7cvpZQZxs7ODl999RWAgmv5wYMH2LNnD/r06YO2bdti165dcHV1LeVU6u/YsWOQy+VYunQpXnjhBcmOu3LlSo0/Niy15PXevXuIiIjAw4cP8Z///AejRo2Cra0trly5gq+//ho//PAD/vjjj9JOpsGKPo9Pnz6N6OhoDB06VO/PYsGCBejQoYPG60fxXThw4ECV5ffv38fp06clue+vX7+O6OhotG3b1uQlXb/++iu6dOmCzMxMDBw4EGFhYQCA8+fPY+7cuThx4gQOHTpk0mOa0rvvvosVK1agZ8+eeOONN1CpUiXcunUL+/fvR61atdC8eXMAQOvWrfHs2TO171JL9+jRI0RHR6NmzZpo1KiRyntSfN/b29tjyJAhWLRoEf7v//7PoNoto6KkLl26YPv27fj8889VbuzNmzcjLCxM8tI2Y1WrVk3lofHmm2/C2dkZn332GW7fvo06deoYvE+pgoyoqCjs3r0b+/fvR8+ePZXLT58+jbi4OPTu3Rvff/+9yjY2NjaSpK0i6tKlC3bu3InffvsNoaGhyuW7du1Cbm4uoqKicOTIkVJMoX4qVaqk9kU6e/ZszJ07F1OmTMHIkSOxbdu2Ukqd4ZKSkgCYNujLysqCo6OjznX69OmDypUrm+yY5vT8+XO89tprSExMxLFjx9QKFT755BPMmzevlFJXMiV9HiclJWHfvn1YtWqVxve7dOmC3bt34/Hjxyqf9+bNm+Hj44M6deogNTW1RGkoLWlpaejVqxesra1x6dIlBAUFqbz/ySefYM2aNSY5lj73lKESExPxxRdfYOTIkWo1HkuWLME///yjfG1lZVVmCgj0JdX3/euvv4758+fj6NGjaN++vd7bGdXms3///khOTkZMTIxyWW5uLnbs2IEBAwZo3EYul2PJkiWoX78+7O3t4ePjg7feekvtxty1axe6du2KqlWrws7ODrVr18asWbOQn5+vsl7btm0REhKC69evo127dnB0dES1atUwf/58Y05JydfXFwBUgmpt7VA0tanQp42REAKzZ89G9erV4ejoiHbt2uHatWsGpbNatWpo3bo1Nm/erLJ806ZNaNCggcaqnqLpVVQZf/bZZ1i9ejVq164NOzs7NGnSBL/++qvKtvrkwf3791GlShUAQHR0tLJaqnB+3Lx5E3369IGnpyfs7e3x8ssvY/fu3Sr7zMvLQ3R0NOrUqQN7e3t4eXmhZcuWKtdbUefPn4dMJsM333yj9t7Bgwchk8mwd+9eAMCTJ08wbtw41KxZE3Z2dvD29kbHjh1x8eJFrfsvTnh4OAIDAzV+HlFRUfD09NS43f79+9GqVSs4OTnBxcUFXbt2VbsWrly5gqFDh6JWrVqwt7eHr68vhg8fjuTkZJX1FFW+d+7cUZbsuLm5YdiwYcjKyjL63ADgww8/RGRkJLZv365WAqbPOWiybt06tG/fHt7e3rCzs0NwcDBWrlypss6QIUNQuXJl5OXlqW0fGRmJunXrat1/zZo1MX36dABAlSpV1K7FL774AvXr14ednR2qVq2KMWPGqFUjKp4zFy5cQOvWreHo6IiPPvqo2HMrTm5uLqZNm4awsDC4ubnByckJrVq1wtGjR9XWVZTcNmjQAPb29qhSpQqioqJw/vx5tXV//PFHhISEwM7ODvXr18eBAweKTcv333+P3377DR9//LFa4AkArq6u+OSTT1SWbd++HWFhYXBwcEDlypUxcOBA/P333yrrDB06FM7Oznj48CG6desGZ2dnVKtWDStWrAAA/P7772jfvj2cnJwQEBCgdu8omnmdPHkS7777LqpUqQJ3d3e89dZbyM3NRVpaGgYPHgwPDw94eHhg0qRJEEKo7KPwZz5jxgxMnDgRABAYGKh8Pumqrt63bx+eP3+OiIgIje/37NkTdnZ22L59u8ryzZs34/XXX4e1tbXaNs+fP8esWbOUz9uaNWvio48+Ums3V7NmTXTr1g0nT55E06ZNYW9vj1q1auHbb79VyaP//Oc/AIB27dopz6lwsydj788vv/wSf//9NxYtWqQWeAKAj4+PSk2Pod/d+t5TSUlJGDFiBHx8fGBvb4/Q0FCNz/mi4uLiIIRAixYt1N6TyWTw9vZWvtbU5lORzitXrqBNmzZwdHTECy+8gB07dgAoqOlt1qwZHBwcULduXRw+fFjlGNraXOrT/j0lJQUTJkxAgwYN4OzsDFdXV3Tu3Bm//fabSpqbNGkCABg2bJjys1+/fr3W4z99+hQffPAB/P39YWdnh7p16+Kzzz7TeN+MHTtWr+dJWFgYPD09sWvXLp3nVJRRwWfNmjURHh6OLVu2KJft378f6enp6Nevn8Zt3nrrLUycOBEtWrTA0qVLMWzYMGzatAmdOnVS+WJZv349nJ2d8f7772Pp0qUICwvDtGnT8OGHH6rtMzU1FVFRUQgNDcXChQsRFBSEyZMnY//+/XqdR15eHh4/fozHjx/jr7/+wp49e7Bo0SK0bt0agYGBBuaK/qZNm4apU6ciNDQUCxYsQK1atRAZGYmnT58atJ8BAwZgz549yMzMBFDwUNu+fbvWHwDabN68GQsWLMBbb72F2bNn4/79+3jttdc0fuHrUqVKFWXw0KtXL2zYsAEbNmzAa6+9BgC4du0amjdvjhs3buDDDz/EwoUL4eTkhFdffRU//PCDcj8zZsxAdHQ02rVrh+XLl+Pjjz9GjRo1dAaHL7/8MmrVqoXvvvtO7b1t27bBw8MDnTp1AgC8/fbbWLlyJXr37o0vvvgCEyZMgIODA27cuGHQ+RbVv39/bN26VXkjP378GIcOHdL6eWzYsAFdu3aFs7Mz5s2bh6lTp+L69eto2bKlyhdiTEwM7t27h2HDhmHZsmXo168ftm7dii5duqg9NICCX6JPnjzBnDlz8Prrr2P9+vXKphAlMWjQIAghVH4E6HsOmqxcuRIBAQH46KOPsHDhQvj7++Odd95RBieKYyYnJ+PgwYMq2yYkJODIkSNqpbSFLVmyBL169VIeq/C1OGPGDIwZMwZVq1bFwoUL0bt3b3z55ZeIjIxUu+6Tk5PRuXNnNGrUCEuWLEG7du2KzauUlBTls0XxVziwzcjIwFdffYW2bdti3rx5mDFjBv755x906tRJrf3WiBEjMG7cOPj7+2PevHn48MMPYW9vr9Zm7eTJk3jnnXfQr18/zJ8/H9nZ2ejdu7faj5SiFD/+Bg0aVOx5AQXPaEVgNWfOHIwcORI7d+5Ey5Yt1YL3/Px8dO7cGf7+/pg/fz5q1qyJsWPHYv369YiKisLLL7+MefPmwcXFBYMHD0ZcXJza8f7v//4Pt2/fRnR0NHr06IHVq1dj6tSp6N69O/Lz8/Hpp5+iZcuWWLBgATZs2KA13a+99hr69+8PAFi8eLHy+aT4wazJ6dOn4eXlhYCAAI3vOzo6omfPnirfhb/99huuXbum9b5/8803MW3aNDRu3BiLFy9GmzZtMGfOHI3fnXfu3EGfPn3QsWNHLFy4EB4eHhg6dKgyeGzdujXeffddAMBHH32kPKd69eoBKNn9uXv3bjg4OKBPnz4611Mw5Ltb33vq2bNnaNu2LTZs2IA33ngDCxYsgJubG4YOHYqlS5fqTI/iM9u+fbvRP75TU1PRrVs3NGvWDPPnz4ednR369euHbdu2oV+/fujSpQvmzp2Lp0+fok+fPnjy5IlRxynq3r17+PHHH9GtWzcsWrQIEydOxO+//442bdoo21/Xq1cPM2fOBACMGjVK+dm3bt1a4z6FEOjRowcWL16MqKgoLFq0CHXr1sXEiRPx/vvvq61vyPOkcePGOHXqlGEnKQywbt06AUD8+uuvYvny5cLFxUVkZWUJIYT4z3/+I9q1ayeEECIgIEB07dpVud0vv/wiAIhNmzap7O/AgQNqyxX7K+ytt94Sjo6OIjs7W7msTZs2AoD49ttvlctycnKEr6+v6N27d7HnEhAQIACo/bVo0UI8fvxYZd02bdqINm3aqO1jyJAhIiAgQGUZADF9+nTla0WexcXFCSGESEpKEra2tqJr165CLpcr1/voo48EADFkyJBi0w5AjBkzRqSkpAhbW1uxYcMGIYQQ+/btEzKZTNy/f19Mnz5dABD//POP1vTGxcUJAMLLy0ukpKQol+/atUsAEHv27DE4D/755x+1PFDo0KGDaNCggcrnKJfLxSuvvCLq1KmjXBYaGqpy/ehrypQpwsbGRuVccnJyhLu7uxg+fLhymZubmxgzZozB+9dEkYcLFiwQV69eFQDEL7/8IoQQYsWKFcLZ2Vk8ffpUDBkyRDg5OSm3e/LkiXB3dxcjR45U2V9CQoJwc3NTWa7pntiyZYsAIE6cOKFcpvjMC5+rEEL06tVLeHl5FXsuRdNY1KVLlwQAMX78eIPPQZG2wjSdV6dOnUStWrWUr/Pz80X16tVF3759VdZbtGiRkMlk4t69ezrPSdN9oLgHIyMjRX5+vnL58uXLBQCxdu1a5TLFc2bVqlU6j1P0eJr+6tatq1zv+fPnIicnR2Xb1NRU4ePjo/L5HTlyRAAQ7777rtqxCj8/AAhbW1tx584d5bLffvtNABDLli3TmeaXXnpJuLm56XV+ubm5wtvbW4SEhIhnz54pl+/du1cAENOmTVMuGzJkiAAgPv30U5VzdHBwEDKZTGzdulW5/ObNm1qfnZ06dVI51/DwcCGTycTbb7+tXPb8+XNRvXp1tWdU0X0uWLBA5XlcnJYtW4qwsDC15UePHhUAxPbt28XevXuFTCYTDx8+FEIIMXHiROU13KZNG1G/fn3ldpcvXxYAxJtvvqmyvwkTJggA4siRI8pliu+owvd4UlKSsLOzEx988IFy2fbt2wUAcfToUZV9GnJ/auLh4SFCQ0N1rlOYod/dmu6pot8zS5YsEQDExo0blctyc3NFeHi4cHZ2FhkZGTrTNHjwYAFAeHh4iF69eonPPvtM3LhxQ209xedZOA8V6dy8ebNymeI6tbKyEmfOnFEuP3jwoAAg1q1bp1ymKT4QQvOzMCAgQOW7Pzs7W+XZJETBd42dnZ2YOXOmctmvv/6qdlxtx//xxx8FADF79myV9fr06SNkMpnKs8PQ58moUaOEg4OD2nJdjB5q6fXXX8ezZ8+wd+9ePHnyBHv37tX6S2/79u1wc3NDx44dVUoCwsLC4OzsrFLV5ODgoPz/kydP8PjxY7Rq1QpZWVm4efOmyn6dnZ1VSj5sbW3RtGlT3Lt3T69zaNasGWJiYhATE4O9e/fik08+wbVr19CjRw88e/bMkOzQ2+HDh5Gbm6vWOHfcuHEG78vDwwNRUVHKX92bN2/GK6+8ovVXujZ9+/aFh4eH8nWrVq0AQO981EdKSgqOHDmiLJVTXAPJycno1KkTbt++ray2c3d3x7Vr13D79m2DzyMvLw87d+5ULjt06BDS0tLQt29f5TJ3d3ecPXvW5D1469evj4YNG6p8Hj179tTYlikmJgZpaWno37+/yj1hbW2NZs2aab0nsrOz8fjxY2VDeU2lwW+//bbK61atWiE5ORkZGRklOj9FBxrFr3tDzkGTwueVnp6Ox48fo02bNrh37x7S09MBFLTFeuONN7B7926VUoVNmzbhlVdeMaqGQnEPjhs3DlZW/z4CR44cCVdXV+zbt09lfTs7OwwbNsygY3z//ffKZ4vib926dcr3ra2tlZ0b5HI5UlJS8Pz5c7z88ssqn+n3338PmUymbD5QWNGqu4iICNSuXVv5umHDhnB1dS32Ps7IyICLi4te53X+/HkkJSXhnXfeUWkj17VrVwQFBanlHQCVUTnc3d1Rt25dODk54fXXX1cur1u3Ltzd3TWmdcSIESrn2qxZMwghMGLECOUya2trvPzyyyZ9ZgEFJXSFn42aREZGwtPTU1nrsXXrVmUJa1E//fQTAKiVNCk6vhbNv+DgYOXzGCioXapbt65e51nS+9OQ6wIw7Ltb33vqp59+gq+vr0p+2tjY4N1330VmZiaOHz+uc/t169Zh+fLlCAwMxA8//IAJEyagXr166NChg1ozEU2cnZ1VSqQV12m9evXQrFkz5XLF/011/dnZ2SmfTfn5+UhOToazszPq1q1rdPOwn376CdbW1sqScoUPPvgAQgi1GmNDniceHh549uyZQSXMRnfLrlKlCiIiIrB582ZkZWUhPz9fa/H87du3kZ6ertLGojBFpwCgoGr2v//9L44cOaL2Zan4QlKoXr262gPYw8MDV65c0escKleurNKWp2vXrqhbty769OmDr776Cv/3f/+n134M8eDBAwBQ68xUpUqVYh9ymgwYMACDBg3Cw4cP8eOPPxrV5rVGjRoqrxXpMGVD+Tt37kAIgalTp2Lq1Kka10lKSkK1atUwc+ZM9OzZEy+++CJCQkIQFRWFQYMGoWHDhjqPERoaiqCgIGzbtk35xbRt2zZUrlxZpSH0/PnzMWTIEPj7+yMsLAxdunTB4MGDUatWrRKf54ABA7Bw4UKMHz8ep0+f1tqWSRFYa2ugXbhHeUpKCqKjo7F161aVewVQvycA3Z9nSXqqK5p3KL6QDDkHTU6dOoXp06cjNjZW7aGVnp4ONzc3AMDgwYMxb948/PDDDxg8eDBu3bqFCxcuaO0EUhzFPVi0vaitrS1q1aqlfF+hWrVqBveCbd26dbEdjr755hssXLgQN2/eVKnqLxxQ3717F1WrVtXaZriwop87UPDZF3cf6xOgKmjLOwAICgpSG4JP0Ua1MDc3N43Pbjc3N41pLXpeiuvC399fr+1LSmho2lKYjY0N/vOf/2Dz5s1o2rQp/vzzT60FMQ8ePICVlZVaz3lfX1+4u7urXXvGfqZAye9PV1dXg6qRDfnu1veeevDgAerUqaPyIxGAsllB0fwqysrKCmPGjMGYMWOQnJyMU6dOYdWqVdi/fz/69euHX375Ref22q5TTdceYLrvTEU77y+++AJxcXEq7Wa9vLyM2ueDBw9QtWpVtR8U2vLSkGtPcY+Yvbe7woABAzBy5EgkJCSgc+fOWnuUyuVyeHt7Y9OmTRrfVzyc0tLS0KZNG7i6umLmzJmoXbs27O3tcfHiRUyePFlt2ABNjbmB4h8WunTo0AEAcOLECWXwKZPJNO6zaEPq0tCjRw/Y2dlhyJAhyMnJUSlN0Jc++VjSPFB8dhMmTFC2vSxK8UBu3bo17t69i127duHQoUP46quvsHjxYqxatUrr2KYKffv2xSeffILHjx/DxcUFu3fvRv/+/VU6kL3++uto1aoVfvjhBxw6dAgLFizAvHnzsHPnTnTu3Fmv89Gmf//+yl7hXl5eiIyM1LieIj82bNig7ORWWNH0nj59GhMnTkSjRo3g7OwMuVyOqKgojUNpmOO+AICrV68C+PdzMuQcirp79y46dOiAoKAgLFq0CP7+/rC1tcVPP/2ExYsXq5xXcHAwwsLCsHHjRgwePBgbN26Era2tUde6MQqX6JjKxo0bMXToULz66quYOHEivL29lW0o7969a9Q+jf3cg4KCcOnSJfz5559qX6olpS1NhqTVkH2U9BovysvLS6+AYsCAAVi1ahVmzJiB0NBQBAcH61xf3y/pktzLJbk/gYLr4vLly8jNzS02UDT0u9sc91RxvLy80KNHD/To0QNt27bF8ePH8eDBA501hSW5frV9xvp8Z3766aeYOnUqhg8fjlmzZsHT0xNWVlYYN26cZOMtG3LtpaamwtHR0aDPtUTBZ69evfDWW2/hzJkzOodfqV27Ng4fPowWLVroTNyxY8eQnJyMnTt3qjSa1dQI3VyeP38O4N9SHqAg2tdUMlDcry5NFBf67du3VUra/vnnH6N+NTk4OODVV1/Fxo0b0blzZ7MN76JvHmi74RTnamNjo7XnaGGenp4YNmwYhg0bhszMTLRu3RozZszQK/iMjo7G999/Dx8fH2RkZGhsyO/n54d33nkH77zzDpKSktC4cWN88sknJQ4+a9SogRYtWuDYsWMYPXq01ge8ojrD29tbZ36kpqbi559/RnR0NKZNm6ZcbmiTBFPYsGEDZDIZOnbsCED/c9Bkz549yMnJwe7du1V+YWurChw8eDDef/99xMfHY/PmzejatatRNQXAv/fgrVu3VO7B3NxcxMXFGXwuxtixYwdq1aqFnTt3qtwzRavXa9eujYMHDyIlJUWv0k9jdO/eHVu2bMHGjRsxZcoUnesWzruiJWq3bt0yuMmP1AydZSsoKEhtyDpNWrZsiRo1auDYsWM6h6UKCAiAXC7H7du3lSVOQMGwQGlpaUbln7ZzKsn9CRRcF7Gxsfj++++1NiNQMNd3d0BAAK5cuQK5XK5S+qmoxjf2env55Zdx/PhxxMfHm+2a9fDw0DgIvz5xw44dO9CuXTt8/fXXKsvT0tJUvuMNuZ4DAgJw+PBhPHnyRKX0s6R5CRR8zoWvZ32UaHpNZ2dnrFy5EjNmzED37t21rvf6668jPz8fs2bNUnvv+fPnyg9IEWkXjqxzc3PxxRdflCSZBtmzZw8AqIzVWLt2bdy8eVNlXLDffvvN8N5dKGhHYWNjg2XLlqmc55IlS4xO84QJEzB9+nSt1dmmoG8eKNo3Fr3pvL290bZtW3z55ZeIj49X23/h/RbtTefs7IwXXnhBrym86tWrhwYNGmDbtm3Ytm0b/Pz8VB6G+fn5alVA3t7eqFq1qsr+Hz9+jJs3bxrVS3L27NmYPn26zmYbnTp1gqurKz799FONowoo8kPTPQGU7Hoxxty5c3Ho0CH07dtX2WRE33PQRNN5paenq7SLLKx///6QyWR47733cO/ePZ293IsTEREBW1tbfP755yrH//rrr5Geno6uXbsavW99aTr/s2fPIjY2VmW93r17QwihcbQCU5Xy9enTBw0aNMAnn3yidnygoP3exx9/DKDgS9vb2xurVq1SuV/279+PGzduSJJ3JeHk5ARA/fmkTXh4OFJTU4ttliCTyfD5559j+vTpOkcN6NKlCwD1+3fRokUAYFT+aTunktyfQEHbcT8/P3zwwQcaJxhISkpSzupmru/uLl26ICEhQaVw6/nz51i2bBmcnZ3Rpk0brdsmJCTg+vXrastzc3Px888/a2z+YEq1a9dGenq6SjPA+Ph4lZFdtLG2tla7v7dv367WTtWQ67lLly7Iz8/H8uXLVZYvXrwYMpmsRAUvFy9exCuvvGLQNiWeimfIkCHFrtOmTRu89dZbmDNnDi5fvozIyEjY2Njg9u3b2L59O5YuXYo+ffrglVdegYeHB4YMGYJ3330XMpkMGzZsMHlVisLff/+tnBotNzcXv/32G7788ktUrlxZJXAYPnw4Fi1ahE6dOmHEiBFISkrCqlWrUL9+fYM7cVSpUgUTJkzAnDlz0K1bN3Tp0gWXLl3C/v37jS61DA0NVQmWzUHfPHBwcEBwcDC2bduGF198EZ6enggJCUFISAhWrFiBli1bokGDBhg5ciRq1aqFxMRExMbG4q+//lKOYRYcHIy2bdsqxw87f/48duzYoffc1X379sW0adNgb2+PESNGqPxifvLkCapXr44+ffoopxE8fPgwfv31VyxcuFC53vLlyxEdHY2jR48aPFNTmzZtdD4UgYL2VCtXrsSgQYPQuHFj9OvXD1WqVMHDhw+xb98+tGjRAsuXL4erqytat26N+fPnIy8vD9WqVcOhQ4fMVhvw/Plz5T2RnZ2NBw8eYPfu3bhy5QratWunMlizvuegSWRkJGxtbdG9e3e89dZbyMzMxJo1a+Dt7a3xx4libMvt27fD3d29REFOlSpVMGXKFERHRyMqKgo9evTArVu38MUXX6BJkyYlCmwVduzYoXGGo44dO8LHxwfdunXDzp070atXL3Tt2hVxcXFYtWoVgoODVWpd2rVrh0GDBuHzzz/H7du3lU0tfvnlF7Rr184k87nb2Nhg586diIiIQOvWrfH666+jRYsWsLGxwbVr17B582Z4eHjgk08+gY2NDebNm4dhw4ahTZs26N+/PxITE7F06VLUrFkT48ePL3F6zEkxQ8/HH3+Mfv36wcbGBt27d1d+iRfVtWtXVKpUCYcPH8aoUaN07rtnz54qE35oEhoaiiFDhmD16tXKqupz587hm2++wauvvqrXMF5FNWrUCNbW1pg3bx7S09NhZ2enHD/X2PsTKCi5++GHH9ClSxc0atRIZYajixcvYsuWLQgPDwcAs313jxo1Cl9++SWGDh2KCxcuoGbNmtixYwdOnTqFJUuW6OwQ9ddff6Fp06Zo3749OnToAF9fXyQlJWHLli347bffMG7cOLNOBNGvXz9MnjwZvXr1wrvvvousrCysXLkSL774YrGdhrp164aZM2di2LBheOWVV/D7779j06ZNav0SateuDXd3d6xatQouLi5wcnJCs2bNNHbE7N69O9q1a4ePP/4Y9+/fR2hoKA4dOoRdu3Zh3LhxKp2LDHHhwgWkpKQUe+2rMaRrfOGhlnQpOtSSwurVq0VYWJhwcHAQLi4uokGDBmLSpEni0aNHynVOnTolmjdvLhwcHETVqlXFpEmTlMMYFB0GofAQFgrahjfQlEYUGgbFyspKeHt7i/79+6sML6CwceNGUatWLWFraysaNWokDh48aNRQS0IUDB8THR0t/Pz8hIODg2jbtq24evWq2nAL2uB/Qy3pYshQSwsWLNB4jKLDJembB6dPnxZhYWHC1tZWbT93794VgwcPFr6+vsLGxkZUq1ZNdOvWTezYsUO5zuzZs0XTpk2Fu7u7cHBwEEFBQeKTTz4Rubm5xeaNEELcvn1b+bmePHlS5b2cnBwxceJEERoaKlxcXISTk5MIDQ0VX3zxhcb8Kzp8SVG68rAwbcMYHT16VHTq1Em4ubkJe3t7Ubt2bTF06FBx/vx55Tp//fWX6NWrl3B3dxdubm7iP//5j3j06JFa3mr6zIXQfA1qS2Phe8LR0VHUrFlT9O7dW+zYsUNt6A9DzkHT8CK7d+8WDRs2FPb29qJmzZpi3rx5Yu3atVrT+t133wkAYtSoUTrPozBteSJEwdBKQUFBwsbGRvj4+IjRo0eL1NRUlXW0PWeKO562P8X1JJfLxaeffioCAgKEnZ2deOmll8TevXs13k/Pnz8XCxYsEEFBQcLW1lZUqVJFdO7cWVy4cEG5jrZngr7PFCEKhkGaNm2aaNCggXB0dBT29vYiJCRETJkyRcTHx6usu23bNvHSSy8JOzs74enpKd544w3x119/qayj7ZrXlqdFvze0fd9o+0w1HU/Tc2zWrFmiWrVqwsrKSq/7okePHqJDhw4qywoPtaSLpnPNy8sT0dHRIjAwUNjY2Ah/f38xZcoUleGIhND+Papp2Ls1a9aIWrVqCWtra7Xnlj73py6PHj0S48ePFy+++KKwt7cXjo6OIiwsTHzyySciPT1duV5Jv7u1nVtiYqIYNmyYqFy5srC1tRUNGjTQOLRQURkZGWLp0qWiU6dOonr16sLGxka4uLiI8PBwsWbNGpXhu7QNtaTPdaqg6R48dOiQCAkJEba2tqJu3bpi48aNeg+19MEHHyhjhBYtWojY2FiN+bNr1y4RHBwsKlWqpDLskqZnyZMnT8T48eNF1apVhY2NjahTp45YsGCBSl5oOxdN6RRCiMmTJ4saNWqo7aM4sv8diIjIou3atQuvvvoqTpw4oTL8DJE5/fLLL2jbti1u3rxp1JTLROVVTk4OatasiQ8//BDvvfeeQdsy+CSiMqFbt264ceMG7ty5Y3DHEaKS6Ny5M6pXr26yucyJyoNVq1bh008/xe3bt2FnZ2fQtgw+iciibd26FVeuXMGcOXOwdOlStUGSiYiobGHwSUQWTSaTwdnZGX379sWqVauKHZ+QiIgsG5/iRGTR+PuYiKh8KdE4n0REREREhmDwSURERESSYbW7Gcnlcjx69AguLi7snUtERFRGCCHw5MkTVK1aVWWiEjINBp9m9OjRI/j7+5d2MoiIiMgIf/75J6pXr17aySh3GHyakWLqrz///BOurq6lnBrN8vLycOjQIeWUp1Q85pnhmGeGY54ZhvllOOaZdhkZGfD399c5hScZj8GnGSmq2l1dXS06+HR0dISrqysfPnpinhmOeWY45plhmF+GY54Vj03mzIMNGYiIiIhIMgw+iYiIiEgyDD6JiIiISDIMPomIiIhIMgw+iYiIiEgyDD6JiIiISDIMPomIiIhIMgw+iYiIiEgyDD6JiIiISDKc4YiIiMqsfLnAubgUJKU/Vb7mXD1Elo3BJxERlUkHrsYjes91xKdnw85aYH5ToNOSE5jStT6iQvxKO3lEpAWr3YmIqMw5cDUeozdeRHx6tsryxIxsjN54EQeuxpdSyoioOAw+iYioTMmXC0TvuQ6h4T3Fsug915Ev17QGEZU2Bp9ERFSmnItLUSvxLEwAiE/Pxrm4FOkSRUR6Y/BJRERlStIT7YGnMesRkbQYfBIRUZni7WJv0vWISFoMPomIqExpGugJPzd7yLS8LwPg52aPpoGeUiaLiPTE4JOIiMoUaysZpncPBgC1AFTxenr3YFhbaQtPiag0MfgkIqIyJyrEDysHNoavm2rVuo+rPVYObMxxPoksGAeZJyKiMikqxA8dg33/neHoz0s4OK417O1sSztpRKQDSz6JiKjMsraSIby2F7o08FO+JiLLxuCTiIiIiCTD4JOIiIiIJMPgk4iIiIgkw+CTiIiIiCTD4JOIiIiIJMPgk4iIiIgkw+CTiIiIiCTD4JOIiIiIJMPgk4iIiIgkw+CTiIiIiCTD4JOIiIiIJMPgk4iIiIgkw+CTiIiIiCTD4JOIiIiIJMPgk4iIiIgkw+CTiIiIiCTD4JOIiIiIJMPgk4iIiIgkw+CTiIiIiCTD4JOIiIiIJMPgk4iIiIgkw+CTiIiIiCTD4JOIiIiIJMPgk4iIiIgkw+CTiIiIiCTD4JOIiIiIJMPgk4iIiIgkw+CTiIiIiCTD4JOIiIiIJMPgk4iIiIgkw+CTiIiIiCTD4JOIiIiIJFPmgs85c+agSZMmcHFxgbe3N1599VXcunVLZZ3s7GyMGTMGXl5ecHZ2Ru/evZGYmKiyzsOHD9G1a1c4OjrC29sbEydOxPPnz1XWOXbsGBo3bgw7Ozu88MILWL9+vblPj4iIiKhcK3PB5/HjxzFmzBicOXMGMTExyMvLQ2RkJJ4+fapcZ/z48dizZw+2b9+O48eP49GjR3jttdeU7+fn56Nr167Izc3F6dOn8c0332D9+vWYNm2acp24uDh07doV7dq1w+XLlzFu3Di8+eabOHjwoKTnS0RERFSeVCrtBBjqwIEDKq/Xr18Pb29vXLhwAa1bt0Z6ejq+/vprbN68Ge3btwcArFu3DvXq1cOZM2fQvHlzHDp0CNevX8fhw4fh4+ODRo0aYdasWZg8eTJmzJgBW1tbrFq1CoGBgVi4cCEAoF69ejh58iQWL16MTp06SX7eREREROVBmQs+i0pPTwcAeHp6AgAuXLiAvLw8REREKNcJCgpCjRo1EBsbi+bNmyM2NhYNGjSAj4+Pcp1OnTph9OjRuHbtGl566SXExsaq7EOxzrhx47SmJScnBzk5OcrXGRkZAIC8vDzk5eWV+FzNQZEuS02fJWKeGY55ZjjmmWGYX4ZjnmnHPDGvMh18yuVyjBs3Di1atEBISAgAICEhAba2tnB3d1dZ18fHBwkJCcp1CgeeivcV7+laJyMjA8+ePYODg4NaeubMmYPo6Gi15YcOHYKjo6NxJymRmJiY0k5CmcM8MxzzzHDMM8MwvwzHPFOXlZVV2kko18p08DlmzBhcvXoVJ0+eLO2kAACmTJmC999/X/k6IyMD/v7+iIyMhKuraymmTLu8vDzExMSgY8eOsLGxKe3klAnMM8MxzwzHPDMM88twzDPtFDWXZB5lNvgcO3Ys9u7dixMnTqB69erK5b6+vsjNzUVaWppK6WdiYiJ8fX2V65w7d05lf4re8IXXKdpDPjExEa6urhpLPQHAzs4OdnZ2asttbGws/sYuC2m0NMwzwzHPDMc8Mwzzy3DMM3XMD/Mqc73dhRAYO3YsfvjhBxw5cgSBgYEq74eFhcHGxgY///yzctmtW7fw8OFDhIeHAwDCw8Px+++/IykpSblOTEwMXF1dERwcrFyn8D4U6yj2QURERESGK3Mln2PGjMHmzZuxa9cuuLi4KNtourm5wcHBAW5ubhgxYgTef/99eHp6wtXVFf/3f/+H8PBwNG/eHAAQGRmJ4OBgDBo0CPPnz0dCQgL++9//YsyYMcqSy7fffhvLly/HpEmTMHz4cBw5cgTfffcd9u3bV2rnTkRERFTWlbmSz5UrVyI9PR1t27aFn5+f8m/btm3KdRYvXoxu3bqhd+/eaN26NXx9fbFz507l+9bW1ti7dy+sra0RHh6OgQMHYvDgwZg5c6ZyncDAQOzbtw8xMTEIDQ3FwoUL8dVXX3GYJSIiIqISKHMln0KIYtext7fHihUrsGLFCq3rBAQE4KefftK5n7Zt2+LSpUsGp5GIiIiINCtzJZ9EREREVHYx+CQiIiIiyTD4JCIiIiLJMPgkIiIiIskw+CQiIiIiyTD4JCIiIiLJMPgkIiIiIskw+CQiIiIiyTD4JCIiIiLJMPgkIiIiIskw+CQiIiIiyTD4JCIiIiLJMPgkIiIiIskw+CQiIiIiyTD4JCIiIiLJMPgkIiIiIskw+CQiIiIiyTD4JCIiIiLJMPgkIiIiIskw+CQiIiIiyTD4JCIiIiLJMPgkIiIiIskw+CQiIiIiyTD4JCIiIiLJMPgkIiIiIskw+CQiIiIiyTD4JCIiIiLJMPgkIiIiIskw+CQiIiIiyTD4JCIiIiLJMPgkIiIiIskw+CQiIiIiyTD4JCIiIiLJMPgkIiIiIskw+CQiIiIiyTD4JCIiIiLJMPgkIiIiIskw+CQiIiIiyTD4JCIiIiLJMPgkIiIiIskw+CQiIiIiyTD4JCIiIiLJMPgkIiIiIskw+CQiIiIiyTD4JCIiIiLJMPgkIiIiIskw+CQiIiIiyTD4JCIiIiLJMPgkIiIiIskw+CQiIiIiyTD4JCIiIiLJSBJ8Pnv2DFlZWcrXDx48wJIlS3Do0CEpDk9EREREFkKS4LNnz5749ttvAQBpaWlo1qwZFi5ciJ49e2LlypVSJIGIiIiILIAkwefFixfRqlUrAMCOHTvg4+ODBw8e4Ntvv8Xnn38uRRKIiIiIyAJIEnxmZWXBxcUFAHDo0CG89tprsLKyQvPmzfHgwQMpkkBEREREFkCS4POFF17Ajz/+iD///BMHDx5EZGQkACApKQmurq5SJIGIiIiILIAkwee0adMwYcIE1KxZE02bNkV4eDiAglLQl156SYokEBEREZEFqCTFQfr06YOWLVsiPj4eoaGhyuUdOnRAr169pEgCEREREVkAycb59PX1hYuLC2JiYvDs2TMAQJMmTRAUFCRVEoiIiIiolEkSfCYnJ6NDhw548cUX0aVLF8THxwMARowYgQ8++ECKJBARERGRBZAk+Bw/fjxsbGzw8OFDODo6Kpf37dsXBw4ckCIJRERERGQBJGnzeejQIRw8eBDVq1dXWV6nTh0OtURERERUgUhS8vn06VOVEk+FlJQU2NnZGbSvEydOoHv37qhatSpkMhl+/PFHlfeHDh0KmUym8hcVFaV23DfeeAOurq5wd3fHiBEjkJmZqbLOlStX0KpVK9jb28Pf3x/z5883KJ1EREREpE6S4LNVq1bK6TUBQCaTQS6XY/78+WjXrp1B+3r69ClCQ0OxYsUKretERUUhPj5e+bdlyxaV99944w1cu3YNMTEx2Lt3L06cOIFRo0Yp38/IyEBkZCQCAgJw4cIFLFiwADNmzMDq1asNSisRERERqZKk2n3+/Pno0KEDzp8/j9zcXEyaNAnXrl1DSkoKTp06ZdC+OnfujM6dO+tcx87ODr6+vhrfu3HjBg4cOIBff/0VL7/8MgBg2bJl6NKlCz777DNUrVoVmzZtQm5uLtauXQtbW1vUr18fly9fxqJFi1SCVCIiIiIyjCTBZ0hICP744w8sX74cLi4uyMzMxGuvvYYxY8bAz8/P5Mc7duwYvL294eHhgfbt22P27Nnw8vICAMTGxsLd3V0ZeAJAREQErKyscPbsWfTq1QuxsbFo3bo1bG1tlet06tQJ8+bNQ2pqKjw8PDQeNycnBzk5OcrXGRkZAIC8vDzk5eWZ/DxNQZEuS02fJWKeGY55ZjjmmWGYX4ZjnmnHPDEvSYLPhw8fwt/fHx9//LHG92rUqGGyY0VFReG1115DYGAg7t69i48++gidO3dGbGwsrK2tkZCQAG9vb5VtKlWqBE9PTyQkJAAAEhISEBgYqLKOj4+P8j1tweecOXMQHR2ttvzQoUMa27xakpiYmNJOQpnDPDMc88xwzDPDML8MxzxTl5WVVdpJKNckCT4DAwMRHx+vFvQlJycjMDAQ+fn5JjtWv379lP9v0KABGjZsiNq1a+PYsWPo0KGDyY6jyZQpU/D+++8rX2dkZMDf3x+RkZEWO4d9Xl4eYmJi0LFjR9jY2JR2csoE5pnhmGeGY54ZhvllOOaZdoqaSzIPSYJPIQRkMpna8szMTNjb25v12LVq1ULlypVx584ddOjQAb6+vkhKSlJZ5/nz50hJSVG2E/X19UViYqLKOorX2tqSAgVtTTX13rexsbH4G7sspNHSMM8MxzwzHPPMMMwvwzHP1DE/zMuswaeiFFAmk2Hq1KkqVc/5+fk4e/YsGjVqZM4k4K+//kJycrKybWl4eDjS0tJw4cIFhIWFAQCOHDkCuVyOZs2aKdf5+OOPkZeXp7wAY2JiULduXa1V7kRERERUPLMGn5cuXQJQUPL5+++/q3TgsbW1RWhoKCZMmGDQPjMzM3Hnzh3l67i4OFy+fBmenp7w9PREdHQ0evfuDV9fX9y9exeTJk3CCy+8gE6dOgEA6tWrh6ioKIwcORKrVq1CXl4exo4di379+qFq1aoAgAEDBiA6OhojRozA5MmTcfXqVSxduhSLFy8uaZYQERERVWhmDT6PHj0KABg2bBiWLl1qknaP58+fVxkbVFG6OmTIEKxcuRJXrlzBN998g7S0NFStWhWRkZGYNWuWSnX4pk2bMHbsWHTo0AFWVlbo3bs3Pv/8c+X7bm5uOHToEMaMGYOwsDBUrlwZ06ZN4zBLRERERCUkSZvPdevWmWxfbdu2hRBC6/sHDx4sdh+enp7YvHmzznUaNmyIX375xeD0EREREZF2kgSf7du31/n+kSNHpEgGEREREZUySYLP0NBQldd5eXm4fPkyrl69iiFDhkiRBCIiIiKyAJIEn9o66syYMQOZmZlSJIGIiIiILIBVaR584MCBWLt2bWkmgYiIiIgkVKrBZ2xsrNkHmSciIiIiyyFJtftrr72m8loIgfj4eJw/fx5Tp06VIglEREREZAEkCT7d3NxUXltZWaFu3bqYOXMmIiMjpUgCEREREVmAMjfOJxERERGVXZIEnwq5ublISkqCXC5XWV6jRg0pk0FEREREpUSS4POPP/7AiBEjcPr0aZXlQgjIZDLk5+dLkQwiIiIiKmWSBJ/Dhg1DpUqVsHfvXvj5+UEmk0lxWCIiIiKyMJIEn5cvX8aFCxcQFBQkxeGIiIiIyEJJMs5ncHAwHj9+LMWhiIiIiMiCSRJ8zps3D5MmTcKxY8eQnJyMjIwMlT8iIiIiqhgkqXaPiIgAAHTo0EFlOTscEREREVUskgSfR48eleIwRERERGThJAk+27RpI8VhiIiIiMjCmS34vHLlCkJCQmBlZYUrV67oXLdhw4bmSgYRERERWRCzBZ+NGjVCQkICvL290ahRI8hkMggh1NZjm08iIiKiisNswWdcXByqVKmi/D8RERERkdmCz4CAAI3/JyIiIqKKy6wdjk6cOKHXeq1btzZnMoiIiIjIQpg1+Gzbtq1yHndN7T0BtvkkIiIiqkjMGnx6eHjAxcUFQ4cOxaBBg1C5cmVzHo6IiIiILJxZp9eMj4/HvHnzEBsbiwYNGmDEiBE4ffo0XF1d4ebmpvwjIiIioorBrMGnra0t+vbti4MHD+LmzZto2LAhxo4dC39/f3z88cd4/vy5OQ9PRERERBbGrMFnYTVq1MC0adNw+PBhvPjii5g7dy4yMjKkOjwRERERWQBJgs+cnBxs3rwZERERCAkJQeXKlbFv3z54enpKcXgiIiIishBm7XB07tw5rFu3Dlu3bkXNmjUxbNgwfPfddww6iYiIiCooswafzZs3R40aNfDuu+8iLCwMAHDy5Em19Xr06GHOZBARERGRhTBr8AkADx8+xKxZs7S+z3E+iYiIiCoOswafcrncnLsnIiIiojJGst7uREREREQMPomIiIhIMgw+iYiIiEgyDD6JiIiISDIMPomIiIhIMgw+iYiIiEgyZhtqycPDAzKZTK91U1JSzJUMIiIiIrIgZgs+lyxZovx/cnIyZs+ejU6dOiE8PBwAEBsbi4MHD2Lq1KnmSgIRERERWRizBZ9DhgxR/r93796YOXMmxo4dq1z27rvvYvny5Th8+DDGjx9vrmQQERERkQWRpM3nwYMHERUVpbY8KioKhw8fliIJRERERGQBJAk+vby8sGvXLrXlu3btgpeXlxRJICIiIiILYNa53RWio6Px5ptv4tixY2jWrBkA4OzZszhw4ADWrFkjRRKIiIiIyAJIEnwOHToU9erVw+eff46dO3cCAOrVq4eTJ08qg1EiIiIiKv8kCT4BoFmzZti0aZNUhyMiIiIiC2S24DMjI0PvdV1dXc2VDCIiIiKyIGYLPt3d3YsdZF4IAZlMhvz8fHMlg4iIiIgsiNmCz6NHj5pr10RERERURpkt+GzTpo25dk1EREREZZTZgs8rV64gJCQEVlZWuHLlis51GzZsaK5kEBEREZEFMVvw2ahRIyQkJMDb2xuNGjWCTCaDEEJtPbb5JCIiIqo4zBZ8xsXFoUqVKsr/ExERERGZLfgMCAjQ+H8iIiIiqrgkGWT+22+/1fn+4MGDpUgGEREREZUySYLP9957T+V1Xl4esrKyYGtrC0dHRwafRERERBWElRQHSU1NVfnLzMzErVu30LJlS2zZskWKJBARERGRBZAk+NSkTp06mDt3rlqpKBERERGVX6UWfAJApUqV8OjRo9JMAhERERFJSJI2n7t371Z5LYRAfHw8li9fjhYtWkiRBCIiIiKyAJIEn6+++qrKa5lMhipVqqB9+/ZYuHChFEkgIiIiIgsgSfApl8ulOAwRERERWbhSbfNpjBMnTqB79+6oWrUqZDIZfvzxR5X3hRCYNm0a/Pz84ODggIiICNy+fVtlnZSUFLzxxhtwdXWFu7s7RowYgczMTJV1rly5glatWsHe3h7+/v6YP3++uU+NiIiIqNwze/B5+/ZtfP/998opNvft24fWrVujSZMm+OSTTzTO967L06dPERoaihUrVmh8f/78+fj888+xatUqnD17Fk5OTujUqROys7OV67zxxhu4du0aYmJisHfvXpw4cQKjRo1Svp+RkYHIyEgEBATgwoULWLBgAWbMmIHVq1cbkQNEREREpGDWavcffvgBr7/+OqysrCCTybB69Wq89dZbaNu2LVxdXTFjxgxUqlQJkydP1nufnTt3RufOnTW+J4TAkiVL8N///hc9e/YEUDC7ko+PD3788Uf069cPN27cwIEDB/Drr7/i5ZdfBgAsW7YMXbp0wWeffYaqVati06ZNyM3Nxdq1a2Fra4v69evj8uXLWLRokUqQSkRERESGMWvw+cknn2DSpEmYPXs21q9fj7fffhtz5szBuHHjAACrV6/G4sWLDQo+dYmLi0NCQgIiIiKUy9zc3NCsWTPExsaiX79+iI2Nhbu7uzLwBICIiAhYWVnh7Nmz6NWrF2JjY9G6dWvY2toq1+nUqRPmzZuH1NRUeHh4aDx+Tk4OcnJylK8zMjIAFMzolJeXZ5JzNDVFuiw1fZaIeWY45pnhmGeGYX4ZjnmmHfPEvMwafN66dQvbtm2DTCbDkCFDMHLkSJXAMDIyUhmImkJCQgIAwMfHR2W5j4+P8r2EhAR4e3urvF+pUiV4enqqrBMYGKi2D8V72oLPOXPmIDo6Wm35oUOH4OjoaMQZSScmJqa0k1DmMM8MxzwzHPPMMMwvwzHP1GVlZZV2Eso1swafT58+hYuLCwDAysoKDg4OKkGYg4ODSklhWTdlyhS8//77ytcZGRnw9/dHZGQkXF1dSzFl2uXl5SEmJgYdO3aEjY1NaSenTGCeGSZfLvDrvX+Q8sd5eL74MprUqgJrK1lpJ8vi8TozDPPLcMwz7RQ1l2QeZg0+ZTIZZDKZ1tem5uvrCwBITEyEn5+fcnliYiIaNWqkXCcpKUllu+fPnyMlJUW5va+vLxITE1XWUbxWrKOJnZ0d7Ozs1Jbb2NhY/I1dFtJoaZhnxTtwNR7Re64jJfMZ5jcF3tx4CZ7ODpjePRhRIX7F74B4nRmI+WU45pk65od5mbW3uxACL774Ijw9PeHp6YnMzEy89NJLytdBQUEmPV5gYCB8fX3x888/K5dlZGTg7NmzCA8PBwCEh4cjLS0NFy5cUK5z5MgRyOVyNGvWTLnOiRMnVNp8xMTEoG7dulqr3IlI1YGr8Ri98SLi07NVliekZ2P0xos4cDW+lFJGRESlyawln+vWrTP5PjMzM3Hnzh3l67i4OFy+fBmenp6oUaMGxo0bh9mzZ6NOnToIDAzE1KlTUbVqVeUsS/Xq1UNUVBRGjhyJVatWIS8vD2PHjkW/fv1QtWpVAMCAAQMQHR2NESNGYPLkybh69SqWLl2KxYsXm/x8iMqjfLlA9J7r0DSQmgAgAxC95zo6BvuyCp6IqIIxa/A5ZMgQk+/z/PnzaNeunfK1oo3lkCFDsH79ekyaNAlPnz7FqFGjkJaWhpYtW+LAgQOwt7dXbrNp0yaMHTsWHTp0gJWVFXr37o3PP/9c+b6bmxsOHTqEMWPGICwsDJUrV8a0adM4zBKRns7FpaiVeBYmAMSnZ+NcXArCa3tJlzAiIip1kkyvaUpt27bVOTC9TCbDzJkzMXPmTK3reHp6YvPmzTqP07BhQ/zyyy9Gp5OoIkt6oj3wNGY9IiIqP8rc9JpEZPm8XeyLX8mA9YiIqPxg8ElEJtc00BN+bvbQ1ppTBsDPzR5NAz2lTBYREVkABp9EZHLWVjJM7x4MAGoBqOL19O7B7GxERFQBMfgkKkfy5QKxd5Ox6/LfiL2bjHy59vbR5hYV4oeVAxvD1021at3XzR4rBzbmOJ9ERBWUJB2O8vPzsX79evz8889ISkqCXC5Xef/IkSNSJIOoXFMM6F64l7mfm32pDugeFeKHjsG+OHMnCY9vnMHaIU3Q/AVvlngSEVVgkgSf7733HtavX4+uXbsiJCTErLMcEVVEigHdi5ZzKgZ0L82SRmsrGZoGeuKnGwVtQRl4EhFVbJIEn1u3bsV3332HLl26SHE4ogqFA7oTEVFZIkmbT1tbW7zwwgtSHIqowjFkQHciIqLSJknw+cEHH2Dp0qU6B4cnIuNwQHciIipLJKl2P3nyJI4ePYr9+/ejfv36sLGxUXl/586dUiSDqFzigO5ERFSWSBJ8uru7o1evXlIciqjCUQzonpCerbHdpwwFwxtxQHciIrIEkgSf69atk+IwRBWSYkD30RsvQgaoBKAc0J2IiCwNB5knKgc4oDsREZUVkpR8AsCOHTvw3Xff4eHDh8jNzVV57+LFi1Ilg6jcUgzofi4uBUlPsuHtYs9xNYmIyOJIUvL5+eefY9iwYfDx8cGlS5fQtGlTeHl54d69e+jcubMUSSCqEKytZAiv7YWejaohvLYXA08iIrI4kgSfX3zxBVavXo1ly5bB1tYWkyZNQkxMDN59912kp6dLkQQiIiIisgCSBJ8PHz7EK6+8AgBwcHDAkydPAACDBg3Cli1bpEgCEREREVkASYJPX19fpKQUzK5So0YNnDlzBgAQFxfHgeeJiIiIKhBJgs/27dtj9+7dAIBhw4Zh/Pjx6NixI/r27cvxP4mIiIgqEEl6u69evRpyuRwAMGbMGHh5eeH06dPo0aMH3nrrLSmSQEREREQWQJLg08rKClZW/xay9uvXD/369ZPi0ERERERkQSQbZP6XX37BwIEDER4ejr///hsAsGHDBpw8eVKqJBARERFRKZMk+Pz+++/RqVMnODg44NKlS8jJyQEApKen49NPP5UiCURE5Ua+XCD2bjJ2Xf4bsXeTkS9nx00iKjskqXafPXs2Vq1ahcGDB2Pr1q3K5S1atMDs2bOlSAIRUblw4Go8ovdcR3x6tnKZn5s9pncP5jSqRFQmSFLyeevWLbRu3VptuZubG9LS0qRIAhFRmXfgajxGb7yoEngCQEJ6NkZvvIgDV+NLKWVERPqTbJzPO3fuqC0/efIkatWqJUUSiIjKtHy5QPSe69BUwa5YFr3nOqvgicjiSRJ8jhw5Eu+99x7Onj0LmUyGR48eYdOmTZgwYQJGjx4tRRKIqAIoz20hz8WlqJV4FiYAxKdn41xcinSJIiIygiRtPj/88EPI5XJ06NABWVlZaN26Nezs7DBhwgT83//9nxRJIKJyrjy3hcyXC5y6849e6yY90R6gEhFZAkmCT5lMho8//hgTJ07EnTt3kJmZieDgYDg7O0txeCIq5xRtIYuWcyraQq4c2LjMBqCHbyRi5r5bOks9C/N2sTdzioiISkaS4FPB1tYWwcHBUh6SiMq54tpCylDQFrJjsC+srWQSp67kxm+7jOz84tMtA+DrZo+mgZ7mTxQRUQmYNfgcPny4XuutXbvWnMkgonLMkLaQ4bW9pEtYCSnaq+rTalURmk7vHlwmA2wiqljMGnyuX78eAQEBeOmllyBE+Wn4T0SWQ982jmWtLeSFB6l6r+tbTtq2ElHFYNbgc/To0diyZQvi4uIwbNgwDBw4EJ6erBIiItPRt41jWWsL+TgzR6/1xrZ7AeM7vsgSTyIqM8w61NKKFSsQHx+PSZMmYc+ePfD398frr7+OgwcPsiSUiEyiaaAn/NzsoS30kqGg13tZawtZ2dlOr/VavFCZgScRlSlmH+fTzs4O/fv3R0xMDK5fv4769evjnXfeQc2aNZGZmWnuwxNROWdtJcP07gUdGYuGYGW5LWRYgAcA9XNSKKtBNRGRJIPMKw9mZQWZTAYhBPLz86U8NBGVY1Ehflg5sDF83VSr1n3d7MvsMEuFg+XyFFQTEZl9qKWcnBzs3LkTa9euxcmTJ9GtWzcsX74cUVFRsLKSNPYlonIsKsQPHYN9cS4uBUlPsuHtUlAqWNaDs8V9G6mN88kORkRUlpk1+HznnXewdetW+Pv7Y/jw4diyZQsqV65szkMSUQVmbSUrU8Mp6SOing8iQ6qVu6CaiCouswafq1atQo0aNVCrVi0cP34cx48f17jezp07zZkMIqIyrTwG1URUcZk1+Bw8eDBkMv46JyIiIqICZh9knoiIiIhIgT1+iIiIiEgyDD6JiIiISDJmH2qJiKg8y5eLct0TXYrzK+95SESqGHwSERnpwNV4RO+5rjIGp185GoNTivMr73lIROpY7U5EZIQDV+MxeuNFlaAJABLSszF640UcuBpfSikzDSnOr7znIRFpxuCTiMqEfLlA7N1k7Lr8N2LvJiNfLko1LdF7rkNTChTLovdcL9U0loQU51fe85CItGO1OxFZPEurmj0Xl6JWWleYABCfno1zcSllcnB4Kc6vvOchEWnHkk8ismiWWDWb9ER70GTMepZGivMr73lIRNox+CQii2WpVbPeLvYmXc/SSHF+5T0PiUg7Bp9EZLEMqZqVUtNAT/i52UPbYEAyFDQLaBroKWWyTEaK8yvveUhE2jH4JCKLZalVs9ZWMkzvHgwAasGT4vX07sFldqxKKc6vvOchEWnH4JOILJYlV81Ghfhh5cDG8HVTPbavmz1WDmxc5seolOL8ynseEpFm7O1ORBZLUTWbkJ6tsd2nDAWBSmlVzUaF+KFjsG+5nZ1HivMr73lIROoYfBKRxVJUzY7eeBEyQCUAtZSqWWsrWbkeCkiK8yvveUhEqljtTkQWjVWzRETlC0s+icjisWqWiKj8YPBJRGUCq2aJiMoHVrsTERERkWQYfBIRERGRZBh8EhEREZFk2OaTiMhE8uWCnaKIiIpRLks+Z8yYAZlMpvIXFBSkfD87OxtjxoyBl5cXnJ2d0bt3byQmJqrs4+HDh+jatSscHR3h7e2NiRMn4vnz51KfChGVEQeuxqPlvCPov+YM3tt6Gf3XnEHLeUdw4Gp8aSeNiMiilMvgEwDq16+P+Ph45d/JkyeV740fPx579uzB9u3bcfz4cTx69Aivvfaa8v38/Hx07doVubm5OH36NL755husX78e06ZNK41TISILd+BqPEZvvIj4dNU55hPSszF640UGoFRh5csFYu8mY9flvxF7Nxn5ck1zlVFFU26r3StVqgRfX1+15enp6fj666+xefNmtG/fHgCwbt061KtXD2fOnEHz5s1x6NAhXL9+HYcPH4aPjw8aNWqEWbNmYfLkyZgxYwZsbW2lPh0igmVWa+fLBaL3XNc4/adAwUxM0Xuuo2Owb6mnlUhKB67GI3rPdZUfZX5u9pjePZiTQ1Rw5bbk8/bt26hatSpq1aqFN954Aw8fPgQAXLhwAXl5eYiIiFCuGxQUhBo1aiA2NhYAEBsbiwYNGsDHx0e5TqdOnZCRkYFr165JeyJEBKB0q7V1ld6ci0tRK/EsTACIT8/GubgUs6eTyFKwNoB0KZcln82aNcP69etRt25dxMfHIzo6Gq1atcLVq1eRkJAAW1tbuLu7q2zj4+ODhIQEAEBCQoJK4Kl4X/GeNjk5OcjJyVG+zsjIAADk5eUhLy/PFKdmcop0WWr6LBHzzHAlzbPDNxIxfttlCAB21v8uT818hnFbLmBx30aIqOejdfuSOHwjEXP330RCxr9for6u9viwcxAi6vkgKf0p7KyLr0pMSn+KvDxXvY/L68wwzC/DmSvP8uUCc/Zdg62W+0IGYM6+a2hbx8tiawN4HZmXTAhR7htgpKWlISAgAIsWLYKDgwOGDRumEiQCQNOmTdGuXTvMmzcPo0aNwoMHD3Dw4EHl+1lZWXBycsJPP/2Ezp07azzOjBkzEB0drbZ88+bNcHR0NO1JERERkVlkZWVhwIABSE9Ph6ur/j8aST/lsuSzKHd3d7z44ou4c+cOOnbsiNzcXKSlpamUfiYmJirbiPr6+uLcuXMq+1D0htfUjlRhypQpeP/995WvMzIy4O/vj8jISIu9ePPy8hATE4OOHTvCxsamtJNTJjDPDFeSPDsXl4Lh3/xa7HprhzRB00BPY5OoJl8u0GnJCZUSz8JkAHxc7fHTu63Q5fNfkJiRrbHdp2K9g+NaG1TKw+vMMMwvw5krz376PR6Tvr9S7HrzezdElwaW2fZTUXNJ5lEhgs/MzEzcvXsXgwYNQlhYGGxsbPDzzz+jd+/eAIBbt27h4cOHCA8PBwCEh4fjk08+QVJSEry9vQEAMTExcHV1RXBwsNbj2NnZwc7OTm25jY2NxT8My0IaLQ3zzHDG5NnjrOfIyS8+aHuc9dykn8f5u8l4kJqDgvBRswepObjyKBNTutbH6I0XAUAlAFVsOaVrfdjbGddR0dKuM0vs9FWYpeVXWWDqPPN2c9LrnvV2c7LYz8pS01VelMvgc8KECejevTsCAgLw6NEjTJ8+HdbW1ujfvz/c3NwwYsQIvP/++/D09ISrqyv+7//+D+Hh4WjevDkAIDIyEsHBwRg0aBDmz5+PhIQE/Pe//8WYMWM0BpdEZD7eLvYmXU9fSU+0dyIqul7PRtWwcmBjtZ69vuWsZy97L5M+mgZ6ws/NHgnp2msDfN3sTVpTQWVLuQw+//rrL/Tv3x/JycmoUqUKWrZsiTNnzqBKlSoAgMWLF8PKygq9e/dGTk4OOnXqhC+++EK5vbW1Nfbu3YvRo0cjPDwcTk5OGDJkCGbOnFlap0RUYZXWF5khQW++XMDNwRaTOtVFytNceDrbwdfV8koFS0LRe7noZ6DovbxyYGMGoAQAsLaSYXr3YIzeeBEyaK4NmN49uNzcG2S4chl8bt26Vef79vb2WLFiBVasWKF1nYCAAPz000+mThoRFaJPFW5pfZHpG/SmPs1Fy3lHNJYGFpcmS6/CVuBYpmSoqBC/ClEbQMYpl8EnEVk+Q6pwS+OLTJ+gt0eoH8ZsNq400NRV2OYMZA0ZyzS8tpdJjkmmU1o/cqJC/NAx2LdM/MAiaTH4JCLJGVOFa64vMl1fzLqC3qld62HWvhs6SwNn7L4GF3sbPM7MUdm3PuffoW5lvc/B3G0xDWn/qq+yUupb1um6Ngy5xoxlbSXjDxJSw+CTiCRVkipcU3+R6RO0aQt69SkNTMjIwRtfnVXZ99SuwZi1r/jzb1unld7nYO62mKbu9GXuYJmBbYHiro0vBoSWSrqIGHwSkaRMUYVriuDCkKBNU9BrSClf4X2/s/miznUU53/hQWqx+zMmkDcm70zZ6cvcwfLhG4mYue+W1sC2ogSm+lwbc/ffxPtBEieMCAw+iUhiJa3CNUWpmSk60BgztJMh08k9zswpdh1DA3lj885Unb6k6Lg0fttlZBcZY1IR2I5qHYjdv8VXiKGi9CuZN/wHFJEpWJV2AoiMkS8XiL2bjF2X/0bs3WTky8vfLLHl9RxLUoWrKDUr+qWqCC4OXI3Xa9+GBG3aKEoDzVVmVtm5+DGFDQnki8u7n6480nm9Kdq/+rqpfi6+bvZ6l1aaIt+13ReKf7UFtgLAlyfiSnztlBXGlMwTSYUln1TmVISBrsvzORpShVu4irSysx1m7L5mklIzU3Sg0VUaWBKK8w8L8MDBG7rX1TeQr+xshwnbf9OadwAwdsslFI43NV1vJe30Zc5Sbxdb48pSyutQUaaedIHIlFjySWWKqUq+LFl5P0dF0AaoT1xZuAo35noCWs47gv5rzuC9rZfxxldnkZChvSpaV6lZ0dKyyk76zVRW3Be4ttLAktJ33FJFIF+cX4spcQSAogXr2q43RfvXno2qIby2l0HBmjlLvY/eTNI7HUXpU+JamoypBSmuZF4GwNeVASqVDpZ8UplREQa6rgjnCBQ/bicAjZ1S9HHqzj8qpXGaSst8Xe2LLa20kgFhAR5qy4t2WOkY7IuOwb44cy8ZsXeTIRdybP31L6Q+zdVZstutoS++PnlfJeizkgEjWwUiKsQPeXl5xZ6rtZUMU7vWwzubL+lcb33s/WL3VZQ5rremgZ7wdbXT+iNCW8clfe6Lfb/Ho0FIydJniVXV5myn+2HnIOTGXTBLuol0YfBJZUZFGOi6IpyjgrYqXABoOe+I0dXYy4/exfcX/9YZxOrT0UIugAsPUlXyWVsg0CPUT60jizYCBYPTrz4Rp5YuuSholxha3QMd6+k3BqOHHqW4aVnFB7KaKK639afiMLRFYIkD0JjrCch+Ltf4XuFSbwCIvZusvC7kclHsfZGSlauyH2MoSlwtpUd8SUcGKO5HXoe6lfFTnGnTbCl5R5aNwSeVGeYY6NrSVIRzLEzTEEaxd5P1CuJ0SUjPxtsbL8Ld0aZEbTEL57O2QCA+PRtfnjDsG3zb+b90pmvslotY1rdhsfvJlwucuvNYr2M62lrjWW6+Ufkxa98NfHUyrkRtjg9cjcfbG7UPM+XmaIO5rzUAALXpSt0dbAw6lqFtcAuXuFpKe+viSnsB4MOdv8PFzgbNdTR/0NVOV5/SdUNYSt6R5WObTyozTD3QtSUq6+doih76pgisFUc1tsRPoXBJmLZAwBjFpUsugPe3/6ZznQNX49Fy3hEsP3pHr2Nm/S/wNLYMqiRtjvPlAh/u/F3nOjIAcjk0tutMe6b/57i4byO1Nrh+bvZ4q3UgZCi+nbGx7a1NPTpFcbUgQMF19MbXZ9Fy3hGdaStJO119lfe26mRaLPmkMsOUA11bqrJ8jqaaxs9SAmtPJxskZGQXtOMsptrXnHKfy2Fjo1qdef/xUyw+fNvgfXk42sCukpVKm0uZDBB6xEmKVT764Xc8y5PD11X/KtUz95KLDbhTs/Lw311XjQrw/+088xQR9XwQGVJNY0nfSzU8tFZBdwz21drco7hzN0eJnyE/wkw5m5UxKkpbdTIdBp9UZphqoGtLJsU56tsmS9d6Rd9LfZqLMZtNM41fcQG4VFKe5mH8tssADK/2NaXW84+iT5Maercp1SU1Kw+b3mwGK5nM6CC2cL7oG2Cdvqtf04CUp7kGpaWwwp1ntE3DqqiCVnQOAwTCa1VG89peepU0Fj53X1d7zOiho11xCQNCQ36ElXaAV5HaqpNpMPikMqW4BvTloV2ROc9R3xIaXesBUHvPSqZ9cG9Dp/ErHIBbCkOqfU0tM/e5wW1KdYm9m4zxHV8EUNC2siT0CbAOXI3H+lP3S3Sc4oxqHYiIej56dZ6JuZ6gcv0uP3oXfm726BLia9AxEzJ0tysuaUBo6I+w0gzwKlpbdSo5Bp9U5pR0oOuyoPA5JqQ/Q8rTXHg628HNwRb5cmHUuerbc1bXeto6jOhq3mbMNH6KAHzG7ms6x/Ykwy0/egffX/wL/Zr4l7gktbgAS9u1ZGq7f4vH+A4vFLuermv7ayMDZF3NCUoSEBo7iUFC+jODjmMKZb2tOkmPwSeVSdqq1cqS4qq/ra1kSH+Wi/kHb5W4LZm+bbLaB/kU28NWKooAfPmRO1h8+A+Jj16+JaRnG9VmVBNtAZahnbTcHCrBwaYSEjMMb24Rn56NCw9SVZYVvb/CAjyKvbat/tf+1dTXurElftpqQXSZte8GHGytjaohMXaYpNSnubCSaf8Raslt1al0MPgkKgX6VH+XdIy/wvRtk/XNafW5r0tb00BPDG9REz9eflSiNoGm4mRnjac5+aWdjBIxxw+JogGWPm0oC5vXu2BoKWOnK32c+W8Juab7y9PJttjrp4Qd1LWq7KzfjFqaFG6nOmbTxWKbgKQ+zTWqramxnaYOXI3X2N67qLLeHp9Mi0MtEZmBrmFX9BmSRJ8x/qL3XFfZr65j6lvyYqrSsMKMncZPMZRQ/zVnsPbUfaQ8zYV9pdJ/ZLWpUwWeTqXXAclSnb+fgh8u/qW89vS95twcKmHV/wKlkkxXqgjwDl1LxNsa7q9S/eFSwqDW2kqGFi9UxtzeDYodKkvb80GXwzcSjRomSZ/SbSsZsGLAS+WiPT6ZDks+iUxMVwlCx2Bfvaq/XextDOo9Wlyphb5trbJyTVuiZ+w0ftpKfbXNjiOln64moGF1V6Q81a8TkmIGJE0zGpUnG848xIYzDwEUnHO/JjX02m55v8aoVMkKuy7/rTJd6bm4FOy/Go9vYx8Uuw93BxuEBXjg4A1gwo7LKNk8R6b3+Klp2i0rgvOPfvhd5/VnaFvTuftvGtVpSp/SbbnQbxYuqlgYfBKZUHFV5eMi6ugVVBYMA1O8pCfZelXPdwz2hZ+bvdmr1Iu2+zJmGj9TD+huDlf+ytD5vkwGDAkPQKf6fipjTJq7A1XXBr7Y93uC2favr/j0bCw5/AfcHW2QnpWndcxaN0cbTPz+ikqHtKJVvfoEn8Na1MTRW0kAzFd1XhKm7GgTFeKHZ3ly5ZBPuuhb+lyQ/5oDdl2BLHu5k7EYfBKZiD6detbp3aNWv2/Qys52mLD9N71KLXqE+pl0yJ7CFF9by/u/BA8nO63T+J2LS8HjrOc6OzMY2lbQEgkBrD/9AM1r/TubTFSIH+Ry4J3N5htCKrK+L7o2qIrJO6/gSfZzsx1HH4rrr/C/CorXBT3FVUvwNP1o0jXckIejDUa3fQEdFx7RezgvKflp6GhT0vnP9W3GYsqgV1MAyV7uZCwGn2VMSR9aZD76dOrRd7zI8FqV8f3Fv4ud6QgCepWkLj9yB6tNGHh6OtmoVPsVNwbp4RuJAIDh3/yKnPyC61VbZ4byVEry8Q9X8Sw3H75uDggL8MCsfdfNerzHT3IwtEUgcp7nY/x3uqfn1Fc9XxeEBXjg0LUEJGUa1m4yNSsP4yPqYOuvf6pcpz6udsh+Ltc4TFHRH026hhuSAZjzWgNceJBq8HBeUina0cYUsyGVxkxomgLIsjwjG5UuBp9liDmmcCPT0TdocnewQfoz7VWRvm72aF7bS+eXrgDQr0kNvY+57pRp2xtO7VYfvq72ev0IOnA1HuO3Xca8pqrLtfXaL0+lJMlPc5VBYNGA3Rxm7buBr07G6d3eUh/vRdSBm4MtNp59aNT2NSs74eTk9io/muVC4I2vzmrdpnBVr7bhhgo/+3Zd/tuotEnNVCNYmHomNF9XezxMzTE4gKwIs86ReZR+11HSiz49pKl06Rs0DWsRqDUQFPj3YR0V4ocVAxrDw8lW47qLD/+BWftu6HVMU8/Q4+tqj/DaXujZqBrCa3tp/XIxpte+ojSlvH1dmTvwVFC0tzTFyACKEsiDJXi+eLvYK8flVVwvhYdF0kXx4yoqxA8nJ7fHlpHNsbRfI2wZ2RwnJ7dXBmqW/INFcX0bcy/oom1kAF83e4OHWfqwc0F7haL3nD4BpCnTQRUHSz7LAH0HCC+NOX3pX/pWQdXxdtZrfweuxmPWvus6h4hJLWb4GBkANwcbkwafXk62aBroqVcTEEVTBDtrzftSlHCtPxWHoS0CYW0lM3pmF/qXgGlGBlB+Pnp0+tHEy8kWCenPEHs3WeX6MKatoK6JJZoGev6vHeRTo9JpTooSXMX/tTFmNiRTzfYWUc+nRFP6VoRZ58i0GHyWAfoOEF4ac/rSv/SpgpratZ7Odn+KHxJyOfQauFnX+4pjDmtR06Tjd/ZsVFVtfmxAcxMQfZsFKKqLFdsbM7MLWZ7CzQ4KXx+mbitobSVTDudlieGOIe2YDW3zbKrZ3koaQJaHWedIOqx2LwM4nEXZUVwVlIeTnV4/JP6766rBJX5FBz5XHHNs+zpwdzTdoOhuDjZ6NwExpDpUMXf8zD3XEHs3GR2DfVWqWjeNaGbUYPVkGQpfH9ZWMkztGqw18AQMbysYUc8HAOBjgdeIt4s9Kus51mVpNiEo2jyCJZdkLiz5LAM4nEXZoqsEQd+OEcbMxqKtE5C+bcj04edmjy3nHurdBERRwpWa+azYfSv2ufbUfaw9dV9jSeqMHsF4e6NphirycKyEoa8EomZlJzx+kqN3+1kyTuHr40b8E6z55Z7G9dwcbTD3tQZGtxU8OK41Lv31BKfu/IPlR+8an2ATUJTgpj7Nxcy9xY904O5ow57hVCGw5LMMKK4Dhgyax5Kj0qOtBMGcPxC0dQI6F5eicUgbY/RrUkPnIOmFm4AA/zZFMIamktSoED+MaFHTqP0VNa17CN6LeBE9G1XD0BaB8HXlLCzmprg+lv58W+tsWiW9VhX33viOdUu945oAEOzngnc2X9RrKCiWM1JFweCzDCj8BW5Mb0SyHPr8kDBm3nBdPz70bY5hV0zvaA9HG1R31y94VhwzXy7g5mCLQc0C9NquMG09gCOCfQ3elybezv8GmzHXEyxi6k4q8NEPV1XmiTeGPs/N4S1qYmrXesYnVAfZ/w7y881/9N4mNStP+cONqDxj8FlGcDiL8kGfL8TZPUMMbtvYI9RP648PfUtbc4oJvlKz8vDxrqt67cvbxR4Hrsaj5bwj6L/mDL49W9Bb2sXOsJY+RUtSgX8D+BL7X3YphjHTVuJmV8kKJhi1iAyQ8r+OSv3XnEHYrBgsPfyHShCaLxeIvZuMXZf/1hmgantuejjZYESLmugY7ItB4TXNUkIqjGztYq62+/rmmTlZQhrIMrDNZxnC4SzKB209uRXDmgBA9nPNVZLa7P4tHpOi6mm8FvTpWazvcEzZeboD1MJt3DT11n+S8xzGVC4W/UJ+OcAde66UbA7zw9cLZl368PvfdXbuKi4oJ/NKe5aHxYdvY93p+5j7WgMA0DjSwrSudQEUBDjn7yYrn5Htg3zgYmeD2HuPcfefpzgbl4KUp7n4+tR9fP2/tsU9Qv2w+kSc1qG9PBxt8PrL1bH7t3izj75w/7Hph4vSNkGJIs+kwElSqDAGn2UMh7MoH7T9kIi5nqBxBpTiaBpqq/A4nP2a1MCSw39oHQLKlMMxKYaTMmWZxq34J5h6/3c8SH6KSw/T/xfElsy60/ex7vT9kieOJJGWlae1s1lCerZyFq1OS07gQeq/7ZKtZICuAraE9GysPhGHUa0DtQaXdpWs8FIND0yKqoczd5MxcsN5rW1WS2rx4duo6+tisoBM16xKmmYeMwdTzexE5QeDTyIjFS1hMbQUuugPCV2TCeijcOmgplIGxXBLhauXFaWtHYN9seXcnyWaH9vTyQaf9moANwdbk5cOfXG8dHstk2UT+PdHVcE1/O99WFzNruLt3b/F4+PO9TB26yW1dRIzcpRBkpuDrdkCT8C0k4boM6uSYj3TDcZmWBo4SUrFxJZMREbqtOQE+q85g/e2Xkb/NWfQct6REk1zWtxkAsVRtO3UNhVrWlaeWrtG8b+GadZWMvRvWrL5wKd2q4+oED+ON0tlUnx6Nib/cEXje4rg9sOdv+OX20lmTYemds7G0meCEgC48CC1xMcqSRri07Nx5l6y2dJAlofBJ5V7pm7kfvhGQVvBoqWEmoYGMoSxQVvhobYMLT1VlOgcuBqPmpUdjTq+wt2kTMTeTdZ7MG0qOypKgdTTHN0lmmlZefjimObxSU3NFD/i9N3H40ztw6dJlYYxm4x/dlLZw+CTyrXCPa5NUUKZLxeYu/+mxve0DQ2kL2PGAC061JahpaeKEp3oPddLHDQuP3oH/decwQfbf4O7ow3HLCxH5KKgLW9IVdfSTkqZ1zlEv6HCTDEmsL77qOxsvh+M+qYh7VleiX68U9nC4JPKLW3VzyUpoTwXl6KzXWRJqsyaBnrC3cGwlldFh9qKuW5cD/D49GxABpMMOZOQkY20rDyTdjii0vdXahauPsoo7WSUWX5u9lg1sDG6N/TTWZJsyklD9BlXGADCAjxKfCxj01CUsT/eqWxh8Enlkj4N7Y15yOlbhWRMlZm1lQzDWgTqte7YdrWxZWRznJzcXhl45ssFfrz8yODjKiSkZ2N6d83zbRurolTXVgQ7Luo3NSypGx9RBycntwcAjNl8qdhOUKaaNESfcYUV65mLIbOcmbK9K1k2Bp9ULunbyN3Qh5y+VUjGVpmNbf+Csle6Nl5Otni3w4sqU2gCBedszJzwCjP2XMOlh6bteKD4km1TpzIATh9YVtnbWOFJdsmHt6qIZAC2/vqnXu2xrWTAigGmHXZI1wQli/s2Mnh/xrShV6RB35oddlos/zjUEpVL5iqhbBro+b/ZhzQPBK0YZN3YKjNrKxnmvtZA63iGAJD8NBdtFhxVG5y5pA/sJ9nP8eWJuBLtQxMZgFuJmejqATjaWiP7GQdtL2uKm1yAtFP80N0Qe7/Y9thyAVyPz4CHk63yGWKKSUW0jSssz3+Onwy45UsyUHxUiB9c7Gzwxtdniz2OKdq7kmVj8EnlkrlKKK2tZPiwcxBy4y5ofF9A+1SXhQd9Vzz8AfUvl6gQP6zSMANSYZoGZzZnp4GSEPh3ZICnuflg+SdVRA9SsvRab/nRO1h+9I7mcXld7dG/aQ3UrOxocDCqaYISuQHDlZpioPjmtb2KnW2tJD/eqexg8EkWS1Owpu+DVp8pJY19yEXU89FZWrD6RBxequGh8iDWd9D3wqUI7YN80HzOYaQ8VZ/2sujgzDHXEzBj9zWDz4WIpBHgadhQZkXH5AUKfsQtPvyH8rVU01OaaqB4RfvP0Rsvap1tzVTtXcmysc0nWaSSDpFUXEN7gYIhT87FpRjc6Uif9Qt3ZjJk0PfCPfEvPEjVGHgqKKrzlh+5jdEbLyIhw3xj9RFVZIaOQqFp+xe9XeDrWvLRJAor6djC+jJlG3pdbVA5zWbFwZJPsjjGVO9oKiVVPOSKljjKZIAQwNpT97H21H2DSw+Kmw2k8IO4aaCnQYO+Fy5FmNSprl7brDt1v9wNa+RsZ43+TWtgzS+mb4NKZKgVAxoDMuD0ncdYf/r+/5qP6C/tWR4GrTsHd0cb5T1uintWsY+Pfvgd7YN8YFup5OVJmp6lpm5Dr60NKks8Kw4Gn2RRjKneKa4RvOIhd/h6Ar4+dV9tmJP49Gy8vfEixkfUwdj2dYp9AOo7G0jSk2yjpsxUBK/69lxPe6a9dLSsepqTj9BqbnB3tNFY/UgkpXWn43DtUUaJpr8F/q1Kd3WohPRnphs9IOVpHprP+Rmf9gopUcmhtmdpvyb6Tb1rSBt6TW1QqeJgtTtZFEOrd/QZSN7aSoamgZ746aruAdgXH76NFnOLr9rXt2OPt4t9iXqg/3o/FW4lrO4rqwSAsVsvM/Aki3D4RlKJA8/CnmQ/x7gOdTC2XW2T7TPlaW6JquB1PUuXHP5D56xlphwYnyoGBp9kUQyp3jFkIHl9SyATMopvQ1XcbCCFH8QlGTLkwLUEpJfDUk2iik4ugCU/30awn6tJZhUrzJjJM/R5liqaCmgbrJ4dhcgQDD7JohgyRJIhpaSGlkDqeoAfvZWkdbuiD2JDp5Yjoopj1r4bmNpVc8dIYxg7ecaFB6nFPktTs/IwPqKOxXQUMmawe7IcbPNJFsWQIZL2XtFvKklFg3Z9FX6AF22TdOBqPMZvu4x5TTVv6+Zog7mvNVA+iHUNLUJEFVt8ejY8nGw1dowsiaI/tosbtk7fduw1Kzvh5OT2pd5RqCSD3ZNlYPBJFsWQceAMKSUtLqjVRNMDvLie6w421ugY7KuyjZuDLYa3qIkfLv+tc+gkIqp4kp5ko2ejaiq9v+8/forFh28bvc/Cz0ZdgVqHugXT3hrSjr24jkIlGZ9ZH6YY7J5KH4NPsjjahkjyLfLL1pBS0sJBrb6KBreKan47a+3bxKdn48zdZFhZyRBzPQE/Xn6k0mvd08kWrzaqig71fPDBd5c5NidRBad4zhQN6ur6uhhVGlq4409xgdoXA0IBFLRjN8WkHOYukTTVYPdU+hh8kkXSZxw4Q2fLUAS1M3Zf0xn0aXvQ6ttudMzmi1qHP0p9mot1p+7j5QBP9G8aoDJbCRFVHLoCOkWNyaSoIKRk5sDd0Raf/HS92JoTGf595ukTqM3dfxPvB5lm5iEpSiQNaefPYZwsG4NPslj6jAOnbylp4fU7Bvti+ZE7GgM/XQ9afav5dY27qXgwj91yUW280bLIxkqGvPJwIkQmpquNt67njLbSw/+EVcfqEwWTLmjar4ejDeYUam+uT6CWkPHv+4Y+SwuTqkTS1IPdU+lh8EllnqGzZVhbyfBeRB3U9XU26EGrqOZPzXxW4jRri9e6N/TFniu6xyO1JMNb1cSXxzkLEREAONtVQpOaHjh66x+dbcO1PWd0lR6uPhGHUa0Dsfu3eJVnlruDDYa1qKk2QYYxAZixMw9JVSJpSDt/smwMPqlcMGa2DGOC1undgzFuywVTJFmNDMD5B2kY2SqwTEwr6edmj8pOfMgTKQLAQE8nvPfdZZ3rejrZ4PjEdmpTYepTerj7t3gcn9gOFx6kFvvMMjYAM+ZZKlWJpCHt/MmyMfikCs3QB21UiB8W922E3DjVANTRxhpZeYbN91yUonTg+4t/l2g/+ijpsE+KtmXP8uQmShFR2TO2XW20eKEKmgZ6Yv6BG3i3mMATKJgK88KDVLXnjr6lh5q21USfET5M1SdHqhJJU7RNJcvAQeaJDBRRzwcAMKbtC3D/3/SXJQ08C9N3TveSeLfDC0Zv6+lko+w84OvKkk+quOr4uCC8thcOXk3Alyf0r61QlAAWHij91J3HBm1bHEWgpoui+c/hG4l67VOb4ibTKG76TUMGjFe0TbWUwe7JOCz5JDLSF8fuIDu/7P3C7tO4Gmp6OcHTydaoQHdqt/pqw13pKrGRlb0sItKLt4s98uUC/9111aDt7j/O0tixSN9t9RUV4ocVA17C2C2XdHZwnLv/JiJDqhldYliSEkljhmcytm0qWQ6WfBIZSPGr3NR9vGUoKFXUR7eGxv+633Hxb4z/7jejS1i9iwxI3a9JDY3ryf73F1LV1ajjEFkyJ1srNA30xLm4FIPvpfWn4/D2xotGzWi05PAfOHA1Xu/1PZzsih1ZIyHD8Ck5izKmRFLRwapoPiiGZ9J1noomUz0bVUN4bS8GnmUMSz6JDHThQarJ96l4bM7uGYJZ+27obFDv42qH8/dNnwa9/S+xxZbcyIAOQd44fCNJ58D8RKXJ08kWy/q9hMdPc1DZyQ4fbP9NZQgibZ7myhFzPQE5zw1v95yaZfxMZwKGDVsk5fBEhpRIcsD4io3BJ1UYxk77VnS7pIzsElcZWMlUh1sqPPSKlZVMZ/VV/6Y1SjT1XkmdvvsY6Vm5GLP5ks7SXyGAwzeSJEsXkTGie9QHZMDtxEzcxhP0a+KPJT/rd3999MPv6K+l5N+cDBm2SN9OPpWd7RB7N1n5nAsL8NCrV31R+nbi5IDxFRuDz2KsWLECCxYsQEJCAkJDQ7Fs2TI0bdq0tJNFBjJ22jdN2/m62GBKiH7H1RZALu/fGB5Othof7MUN9mxMSYsprTh6FzKZ6ZsdEEmtY7A3pu66ijQjSyJTnuZhxbG7Jk6VfvQtqdSn17uHg43adL9FfyCbcppMgAPGV3QMPnXYtm0b3n//faxatQrNmjXDkiVL0KlTJ9y6dQve3t6lnTzSk7HTvmnbLi1Ld/suxVhzU7sGY9Y+w2cLAXRXX8XeTda5rRQEI08qw5ztrNG/qT/W/HK/tJNiNH1LNPXpDJT6LA85+c9VtivaTtSU02QCHDC+omPwqcOiRYswcuRIDBs2DACwatUq7Nu3D2vXrsWHH35YyqkjfRjbrqi47bQp3LMzKsQPnUKM75GprfpKn4GWfVztsPD1RnicmYPHT3Iwa98NvY5JVN59FBWEoS0D0Xr+UcmPrbjz3RxtkJ6VZ3TtgZeTrUEDqWurTfFxtQfwVK99mLodJgeMr9gYfGqRm5uLCxcuYMqUKcplVlZWiIiIQGxsrMZtcnJykJPzb7VFRkYGACAvLw95ecY3MDcnRbosNX0ldS4uBSmZz3R2eEnJfIYzd5JUHnK6trOzEsp/PRxtVDoP+Lra48POQehQt7IyT1+u4QqgoMe3PP855CYYEnRa17oYv+0yAC3DmnQLQtMANwAFgfS3p+8hMUN7tVtRLnaV8CTnefEr6qlwnlVUodXcsG5YU1z+Mw3fnI7D8du6x3VknhlG3/yq5+eEX+/9g9Snup8LJfFWq0BUsrbGjgt/IbFQtbHi+QBA4/2rr5nd6xn8LOlQtzLa1mmFCw9S8TgzB5Wd7ZCfl4fUOxcMusY0PS+NVdxzbFrXuiZ7ZhqqvH4nWgqZEKxA0+TRo0eoVq0aTp8+jfDwcOXySZMm4fjx4zh79qzaNjNmzEB0dLTa8s2bN8PR0dGs6SUiIiLTyMrKwoABA5Ceng5XVw4XZ2os+TShKVOm4P3331e+zsjIgL+/PyIjIy324s3Ly0NMTAw6duwIGxv9xpgsS87FpWD4N78Wu97aIU3USj61bWdnJTDrZTmmnrfCykFNS7VaKF8uVEoywgI8tFaHHb6RiOg91/Qa5mVyp7qYd/CWydJZOM9y5GVz2BQPBxt0qOeNHQZOf1rQDMIeB8e1VvtsCn9+no62gAx4nJmLeQduICs7t8znmZT0vcbWDmkCAHo9F4xV9Hmijbb79/CNRMzdf1NlyCcPRxtM7RqMyPq+JkvnmTtJSPnjvMHXmL7npy9DnmNSUdRcknkw+NSicuXKsLa2RmKi6rRjiYmJ8PXVfPPb2dnBzs5ObbmNjY3FB3ZlIY3GaP6CNzydHYptV9T8BW+Vh11x2wGAh7OD2nZSswHQ4kUfvdbt3LA6OgRXRfM5P2sdFFuRHwNfqY3VJx+o9H41hehXQ+Ht5ogPvruMxIwck/aYl+HftnSAaXvjywDMeLUh2rzojU2/PjJoOwCY0rU+7O1s1d7X9vk52Nlg3JYLAIAcuQw5ZXAmLakpckhbfhW+1wHAw8lBr/E8DU2DpueJNto+/84NqyMypJrZZ/BpUqsKDv4B5Op5jRl6fvoy5DkmlfL4fWhJOMORFra2tggLC8PPP/+sXCaXy/Hzzz+rVMOTZSs8v3HRR6Wuad/02e7DzkGl/uvcULaVrPBprxDl7EOFFc4P20pWmNGjvsmOq9h3t4Z+aPFCZeW+TZV7iv3Mfa2BxllWSsKv0AwtDrbW6Bis/0gXxs43HRXih8V9GxmY0rLJFNeArMj/i7vXra1kmNFD97znxqZB2zSShpJiBp/C+yxu76Y+P6rYGHzq8P7772PNmjX45ptvcOPGDYwePRpPnz5V9n6nssGYad90bVfQQxSIqGdZv9T1pW9+RIX4YdXAxnB3VC8B8HC0wVutA+FXZB9uDpXgVKQXh5+bvVogpS0N7o42ascr+j3noWGdwmmPCvHDycntsWVkcyzt1wjjI+rAzcGwSh4vJ1sMb1ETW0Y2x8nJ7VWukTWDm2gNQCPqVVEeV9O2hlBcX2uHNFGeh6+ras2Kn5s9vhjQuNC5vghfV3u1dd5qHai2XBNX+0oY0VL9cy2cHyNb1VT7TArTJyxxtquELwY0xioN14AivZquO218C11ji/s20ute13V9F0cGwMlW9To39oeGJdCUZ0U/47J8fmR52OGoGMuXL1cOMt+oUSN8/vnnaNasmV7bZmRkwM3NzaIbLOfl5eGnn35Cly5dyn01g6lmOHqpugsOHthf5vNM3/zIlwucuZuM2HuPARSUxjSvVVASo2kfANSWyfOfa7zO9Nle00wrmo6h67MsfA5yAXg42sLLyRapWbnwdLKFt6s9IIDHT3P0vjae5ebj05+u435yFmp6OeKjLsFwsDVd92lN96Y+n5m2dRTLEzKykZKZU3DeLvb/a2eao3FdbcfJfS7Hhtj7eJCSBX8PRwT5uiAlK1f5ef0al6K8XpoFegICOHs/GUWvn+LSe+ZeMk7ffYy/U5/B29UWWTlyyGQy1PBUPWbRa8zKupLe14fiOAXj5wqE16qMJoGeKufQpKYH/kh8gj9TnyHA0xGDwmvC2kpm9mpxcyt8jRXNM2NnOCovysL3d1nG4NOMysLFW5GCT1NhnhmOeWY45plhmF+GY55pVxa+v8syVrsTERERkWQYfBIRERGRZBh8EhEREZFkGHwSERERkWQYfBIRERGRZBh8EhEREZFkGHwSERERkWQYfBIRERGRZBh8EhEREZFkDJvwmAyimDwqIyOjlFOiXV5eHrKyspCRkcEZLvTEPDMc88xwzDPDML8MxzzTTvG9zUkgzYPBpxk9efIEAODv71/KKSEiIiJDPXnyBG5ubqWdjHKHc7ubkVwux6NHj+Di4gKZTFbaydEoIyMD/v7++PPPPzl/rZ6YZ4ZjnhmOeWYY5pfhmGfaCSHw5MkTVK1aFVZWbKFoaiz5NCMrKytUr169tJOhF1dXVz58DMQ8MxzzzHDMM8MwvwzHPNOMJZ7mw3CeiIiIiCTD4JOIiIiIJMPgs4Kzs7PD9OnTYWdnV9pJKTOYZ4ZjnhmOeWYY5pfhmGdUWtjhiIiIiIgkw5JPIiIiIpIMg08iIiIikgyDTyIiIiKSDINPIiIiIpIMg89yZOXKlWjYsKFywODw8HDs379f+X52djbGjBkDLy8vODs7o3fv3khMTNS5TyEEpk2bBj8/Pzg4OCAiIgK3b98296lIxtR5lpeXh8mTJ6NBgwZwcnJC1apVMXjwYDx69EiK05GEOa6zwt5++23IZDIsWbLEDKmXnrny68aNG+jRowfc3Nzg5OSEJk2a4OHDh+Y8FcmYI88yMzMxduxYVK9eHQ4ODggODsaqVavMfSqSKS7PVq9ejbZt28LV1RUymQxpaWl67XfFihWoWbMm7O3t0axZM5w7d85MZ0AViqByY/fu3WLfvn3ijz/+ELdu3RIfffSRsLGxEVevXhVCCPH2228Lf39/8fPPP4vz58+L5s2bi1deeUXnPufOnSvc3NzEjz/+KH777TfRo0cPERgYKJ49eybFKZmdqfMsLS1NREREiG3btombN2+K2NhY0bRpUxEWFibVKZmdOa4zhZ07d4rQ0FBRtWpVsXjxYjOehXTMkV937twRnp6eYuLEieLixYvizp07YteuXSIxMVGKUzI7c+TZyJEjRe3atcXRo0dFXFyc+PLLL4W1tbXYtWuXFKdkdsXl2eLFi8WcOXPEnDlzBACRmppa7D63bt0qbG1txdq1a8W1a9fEyJEjhbu7e7m5zqj0MPgs5zw8PMRXX30l0tLShI2Njdi+fbvyvRs3bggAIjY2VuO2crlc+Pr6igULFiiXpaWlCTs7O7Flyxazp720lCTPNDl37pwAIB48eGCO5FoEU+TZX3/9JapVqyauXr0qAgICyk3wqUlJ86tv375i4MCBUiTVYpQ0z+rXry9mzpypsqxx48bi448/NluaS5sizwo7evSo3sFn06ZNxZgxY5Sv8/PzRdWqVcWcOXNMnVSqYFjtXk7l5+dj69atePr0KcLDw3HhwgXk5eUhIiJCuU5QUBBq1KiB2NhYjfuIi4tDQkKCyjZubm5o1qyZ1m3KMlPkmSbp6emQyWRwd3c3Q6pLl6nyTC6XY9CgQZg4cSLq168vRdJLhSnySy6XY9++fXjxxRfRqVMneHt7o1mzZvjxxx8lOgtpmeoae+WVV7B79278/fffEELg6NGj+OOPPxAZGSnFaUiqaJ4ZIzc3FxcuXFDJZysrK0RERJTL5z9Jq1JpJ4BM6/fff0d4eDiys7Ph7OyMH374AcHBwbh8+TJsbW3VAiAfHx8kJCRo3JdiuY+Pj97blEWmzLOisrOzMXnyZPTv3x+urq5mSH3pMHWezZs3D5UqVcK7775r5pSXDlPmV1JSEjIzMzF37lzMnj0b8+bNw4EDB/Daa6/h6NGjaNOmjQRnZH6mvsaWLVuGUaNGoXr16qhUqRKsrKywZs0atG7d2sxnIh1teWaMx48fIz8/X+Pz/+bNm6ZILlVgDD7Lmbp16+Ly5ctIT0/Hjh07MGTIEBw/fry0k2XRzJVneXl5eP311yGEwMqVK02QUsthyjy7cOECli5diosXL0Imk5k4pZbBlPkll8sBAD179sT48eMBAI0aNcLp06exatWqchN8mvq+XLZsGc6cOYPdu3cjICAAJ06cwJgxY1C1alWV0r2yTFueGRuAEpkLg89yxtbWFi+88AIAICwsDL/++iuWLl2Kvn37Ijc3F2lpaSolBomJifD19dW4L8XyxMRE+Pn5qWzTqFEjs52D1EyZZwqKwPPBgwc4cuRIuSr1BEybZ7/88guSkpJQo0YN5bL8/Hx88MEHWLJkCe7fv2/OU5GEKfOrcuXKqFSpklpAUa9ePZw8edJs5yA1U+bZs2fP8NFHH+GHH35A165dAQANGzbE5cuX8dlnn5Wb4FNbnn355ZcG76ty5cqwtrZWG0VAn+cfUXHY5rOck8vlyMnJQVhYGGxsbPDzzz8r37t16xYePnyotU1QYGAgfH19VbbJyMjA2bNnjW5HVBaUJM+AfwPP27dv4/Dhw/Dy8pIi2aWqJHk2aNAgXLlyBZcvX1b+Va1aFRMnTsTBgwelOgVJlSS/bG1t0aRJE9y6dUtl+R9//IGAgACzprs0lSTP8vLykJeXBysr1a88a2trZUlyeaTIM2PY2toiLCxMJZ/lcjl+/vnncv38J4mUdo8nMp0PP/xQHD9+XMTFxYkrV66IDz/8UMhkMnHo0CEhRMHwJDVq1BBHjhwR58+fF+Hh4SI8PFxlH3Xr1hU7d+5Uvp47d65wd3cXu3btEleuXBE9e/YsV0MtmTrPcnNzRY8ePUT16tXF5cuXRXx8vPIvJydH8vMzB3NcZ0WVp97u5sivnTt3ChsbG7F69Wpx+/ZtsWzZMmFtbS1++eUXSc/NXMyRZ23atBH169cXR48eFffu3RPr1q0T9vb24osvvpD03MyluDyLj48Xly5dEmvWrBEAxIkTJ8SlS5dEcnKych/t27cXy5YtU77eunWrsLOzE+vXrxfXr18Xo0aNEu7u7iIhIUHy86PyhcFnOTJ8+HAREBAgbG1tRZUqVUSHDh2UDx4hhHj27Jl45513hIeHh3B0dBS9evUS8fHxKvsAINatW6d8LZfLxdSpU4WPj4+ws7MTHTp0ELdu3ZLqlMzO1HkWFxcnAGj8O3r0qIRnZj7muM6KKk/Bp7ny6+uvvxYvvPCCsLe3F6GhoeLHH3+U4nQkYY48i4+PF0OHDhVVq1YV9vb2om7dumLhwoVCLpdLdVpmVVyeTZ8+XeNzqXAeBQQEiOnTp6vsd9myZaJGjRrC1tZWNG3aVJw5c0aiM6LyTCaEEJIXtxIRERFRhcQ2n0REREQkGQafRERERCQZBp9EREREJBkGn0REREQkGQafRERERCQZBp9EREREJBkGn0REREQkGQafREQW5NixY5DJZEhLSyvtpBARmQWDTyKyWEOHDoVMJsPbb7+t9t6YMWMgk8kwdOhQ6RNWxPr16yGTySCTyWBtbQ0PDw80a9YMM2fORHp6emknj4jIojD4JCKL5u/vj61bt+LZs2fKZdnZ2di8eTNq1KhRiilT5erqivj4ePz11184ffo0Ro0ahW+//RaNGjXCo0ePSjt5REQWg8EnEVm0xo0bw9/fHzt37lQu27lzJ2rUqIGXXnpJZV25XI45c+YgMDAQDg4OCA0NxY4dO5Tv5+fnY8SIEcr369ati6VLl6rsY+jQoXj11Vfx2Wefwc/PD15eXhgzZgzy8vJ0plMmk8HX1xd+fn6oV68eRowYgdOnTyMzMxOTJk3SO41FJScno3///qhWrRocHR3RoEEDbNmyRfn+t99+Cy8vL+Tk5Khs9+qrr2LQoEE600xEVBoYfBKRxRs+fDjWrVunfL127VoMGzZMbb05c+bg22+/xapVq3Dt2jWMHz8eAwcOxPHjxwEUBH7Vq1fH9u3bcf36dUybNg0fffQRvvvuO5X9HD16FHfv3sXRo0fxzTffYP369Vi/fr3B6fb29sYbb7yB3bt3Iz8/X680FpWdnY2wsDDs27cPV69exahRozBo0CCcO3cOAPCf//wH+fn52L17t3KbpKQk7Nu3D8OHDzc4zURE5iYTQojSTgQRkSZDhw5FWloa1qxZA39/f9y6dQsAEBQUhD///BNvvvkm3N3dsX79euTk5MDT0xOHDx9GeHi4ch9vvvkmsrKysHnzZo3HGDt2LBISEpSlj0OHDsWxY8dw9+5dWFtbAwBef/11WFlZYevWrRr3sX79eowbN05jJ6FVq1Zh9OjRSExMhJubW7FpPHbsGNq1a4fU1FS4u7trPF63bt0QFBSEzz77DADwzjvv4P79+/jpp58AAIsWLcKKFStw584dyGQyHTlMRCS9SqWdACKi4lSpUgVdu3bF+vXrIYRA165dUblyZZV17ty5g6ysLHTs2FFleW5urkr1/IoVK7B27Vo8fPgQz549Q25uLho1aqSyTf369ZWBJwD4+fnh999/Nyrtit/3MplM7zQWlp+fj08//RTfffcd/v77b+Tm5iInJweOjo7KdUaOHIkmTZrg77//RrVq1bB+/XplZy0iIkvD4JOIyoThw4dj7NixAAoCyKIyMzMBAPv27UO1atVU3rOzswMAbN26FRMmTMDChQsRHh4OFxcXLFiwAGfPnlVZ38bGRuW1TCaDXC43Kt03btyAq6srvLy8cO/evWLTWNSCBQuwdOlSLFmyBA0aNICTkxPGjRuH3Nxc5TovvfQSQkND8e233yIyMhLXrl3Dvn37jEovEZG5MfgkojIhKioKubm5kMlk6NSpk9r7wcHBsLOzw8OHD9GmTRuN+zh16hReeeUVvPPOO8pld+/eNVuak5KSsHnzZrz66quwsrLSK41FnTp1Cj179sTAgQMBFLRb/eOPPxAcHKyy3ptvvoklS5bg77//RkREBPz9/U1+PkREpsDgk4jKBGtra9y4cUP5/6JcXFwwYcIEjB8/HnK5HC1btkR6ejpOnToFV1dXDBkyBHXq1MG3336LgwcPIjAwEBs2bMCvv/6KwMDAEqdPCIGEhAQIIZCWlobY2Fh8+umncHNzw9y5c/VOY1F16tTBjh07cPr0aXh4eGDRokVITExUCz4HDBiACRMmYM2aNfj2229LfD5ERObC4JOIygxXV1ed78+aNQtVqlTBnDlzcO/ePbi7u6Nx48b46KOPAABvvfUWLl26hL59+0Imk6F///545513sH///hKnLSMjA35+fpDJZHB1dUXdunUxZMgQvPfeeyrpLi6NRf33v//FvXv30KlTJzg6OmLUqFF49dVX1Qavd3NzQ+/evbFv3z68+uqrJT4fIiJzYW93IqJyokOHDqhfvz4+//zz0k4KEZFWDD6JiMq41NRUHDt2DH369MH169dRt27d0k4SEZFWrHYnIirjXnrpJaSmpmLevHkMPInI4rHkk4iIiIgkw+k1iYiIiEgyDD6JiIiISDIMPomIiIhIMgw+iYiIiEgyDD6JiIiISDIMPomIiIhIMgw+iYiIiEgyDD6JiIiISDIMPomIiIhIMv8PMIJ+Oqpae6cAAAAASUVORK5CYII=",
      "text/plain": [
       "<Figure size 640x480 with 1 Axes>"
      ]
     },
     "metadata": {},
     "output_type": "display_data"
    }
   ],
=======
   "execution_count": null,
   "metadata": {},
   "outputs": [],
>>>>>>> 4447bb3 (comit)
=======
   "execution_count": null,
   "metadata": {},
   "outputs": [],
>>>>>>> 7c9513cf1cc3800daea8c74c3303aff32d8e353d
   "source": [
    "# Drop outliers (anything below 600 and anything equal to 0)\n",
    "# Commits with build minutes equal to 0 likely made very minimal code changes or failed right before they began\n",
    "# Commits with build minutes above 1000 are outliers because they likely represent commits that spent a very long time running or caused a hung CI job.\n",
<<<<<<< HEAD
<<<<<<< HEAD
    "aggregated_observations_df = aggregated_observations_df[aggregated_observations_df[\"build_minutes_mean\"] < 5000]\n",
    "control_df = control_df[control_df[\"build_minutes\"] < 5000]\n",
=======
    "aggregated_observations_df = aggregated_observations_df[aggregated_observations_df[\"build_minutes_mean\"] < 600]\n",
    "aggregated_observations_df = aggregated_observations_df[aggregated_observations_df[\"build_minutes_mean\"] > 0]\n",
>>>>>>> 4447bb3 (comit)
=======
    "aggregated_observations_df = aggregated_observations_df[aggregated_observations_df[\"build_minutes_mean\"] < 5000]\n",
    "control_df = control_df[control_df[\"build_minutes\"] < 5000]\n",
>>>>>>> 7c9513cf1cc3800daea8c74c3303aff32d8e353d
    "\n",
    "plt.scatter(aggregated_observations_df[\"delay_mean\"], aggregated_observations_df[\"build_minutes_mean\"])\n",
    "plt.title('Mean Build Minutes vs. Mean Delay for Each Commit (Monte Carlo Simulation)')\n",
    "plt.ylabel('Mean Build Minutes')\n",
    "plt.xlabel('Mean Delay')\n",
    "plt.grid(True)\n",
    "plt.show()"
   ]
  },
  {
   "cell_type": "markdown",
   "metadata": {},
   "source": [
<<<<<<< HEAD
<<<<<<< HEAD
    "#### Statistical test (One Tailed T Test) without error bars"
=======
    "#### Statistical test (Mann-Whitney-U / Wilcoxon) without error bars"
>>>>>>> 4447bb3 (comit)
=======
    "#### Statistical test (One Tailed T Test) without error bars"
>>>>>>> 7c9513cf1cc3800daea8c74c3303aff32d8e353d
   ]
  },
  {
   "cell_type": "code",
<<<<<<< HEAD
<<<<<<< HEAD
   "execution_count": 83,
   "metadata": {},
   "outputs": [
    {
     "name": "stdout",
     "output_type": "stream",
     "text": [
      "154.81217411812773 275.8051051051051\n"
     ]
    },
    {
     "data": {
      "text/plain": [
       "(-23.812376419926114, 6.612470135078422e-100)"
      ]
     },
     "execution_count": 83,
     "metadata": {},
     "output_type": "execute_result"
    }
   ],
=======
   "execution_count": null,
   "metadata": {},
   "outputs": [],
>>>>>>> 7c9513cf1cc3800daea8c74c3303aff32d8e353d
   "source": [
    "merged_df = aggregated_observations_df.merge(control_df, on=\"commit\", how=\"inner\")\n",
    "\n",
    "merge_queue_build_minutes = merged_df[\"build_minutes_mean\"]\n",
    "control_build_minutes = merged_df[\"build_minutes\"]\n",
    "\n",
    "print(np.mean(merge_queue_build_minutes), np.mean(control_build_minutes))\n",
    "\n",
    "# We just want to know if the merge queue build minutes are less than the control build minutes\n",
    "statistic, p_value = stats.ttest_rel(merge_queue_build_minutes, control_build_minutes, alternative='less')\n",
    "statistic, p_value\n",
<<<<<<< HEAD
    "merged_df.to_csv(\"merged_df.csv\", index=False)"
=======
   "execution_count": null,
   "metadata": {},
   "outputs": [],
   "source": [
    "control_build_minutes = control_df[\"build_minutes\"]\n",
    "print(control_build_minutes)\n",
    "merge_queue_build_minutes = aggregated_observations_df[\"build_minutes_mean\"]\n",
    "print(merge_queue_build_minutes)\n",
    "\n",
    "# We just want to know if the merge queue build minutes are greater than the control build minutes\n",
    "u_statistic, p_value = stats.mannwhitneyu(merge_queue_build_minutes, control_build_minutes, alternative=\"less\")\n",
    "u_statistic, p_value"
>>>>>>> 4447bb3 (comit)
=======
    "# merged_df.to_csv(\"merged_df.csv\", index=False)"
>>>>>>> 7c9513cf1cc3800daea8c74c3303aff32d8e353d
   ]
  },
  {
   "cell_type": "markdown",
   "metadata": {},
   "source": [
    "# Overlay Control on Monte-Carlo Experiment"
   ]
  },
  {
   "cell_type": "code",
<<<<<<< HEAD
<<<<<<< HEAD
   "execution_count": 67,
   "metadata": {},
   "outputs": [
    {
     "data": {
      "image/png": "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",
      "text/plain": [
       "<Figure size 640x480 with 1 Axes>"
      ]
     },
     "metadata": {},
     "output_type": "display_data"
    }
   ],
=======
   "execution_count": null,
   "metadata": {},
   "outputs": [],
>>>>>>> 4447bb3 (comit)
=======
   "execution_count": null,
   "metadata": {},
   "outputs": [],
>>>>>>> 7c9513cf1cc3800daea8c74c3303aff32d8e353d
   "source": [
    "\n",
    "plt.scatter(aggregated_observations_df[\"delay_mean\"], aggregated_observations_df[\"build_minutes_mean\"], label=\"Merge Queue\")\n",
    "plt.scatter(control_df[\"delay\"], control_df[\"build_minutes\"], label=\"Control\")\n",
    "plt.title('Mean Build Minutes vs. Mean Delay for Each Commit (Monte Carlo Simulation)')\n",
    "plt.ylabel('Mean Build Minutes')\n",
    "plt.xlabel('Mean Delay')\n",
    "plt.grid(True)\n",
    "plt.show()"
   ]
<<<<<<< HEAD
<<<<<<< HEAD
=======
  },
  {
   "cell_type": "markdown",
   "metadata": {},
   "source": [
    "#### Error Bars attempt\n",
    "- Could we try to calculate p-value from how close they are to the error bars?\n",
    "- Previous statistical test just looks at mean, but there is sufficient variance"
   ]
  },
  {
   "cell_type": "code",
   "execution_count": null,
   "metadata": {},
   "outputs": [],
   "source": [
    "# Create error bars using 95% confidence interval\n",
    "aggregated_observations_df['build_minutes_error'] = aggregated_observations_df.apply(lambda row: [\n",
    "    row['build_minutes_mean'] - row['build_minutes_2_5_percentile'], \n",
    "    row['build_minutes_97_5_percentile'] - row['build_minutes_mean']\n",
    "], axis=1)\n",
    "\n",
    "aggregated_observations_df['delay_error'] = aggregated_observations_df.apply(lambda row: [\n",
    "    row['delay_mean'] - row['delay_2_5_percentile'], \n",
    "    row['delay_97_5_percentile'] - row['delay_mean']\n",
    "], axis=1)\n",
    "\n",
    "# Filter out negative error bars because I was getting an error about this (LOOK BACK AND SEE WHY THIS IS HAPPENING)\n",
    "# aggregated_observations_df = aggregated_observations_df[\n",
    "#     (aggregated_observations_df['build_minutes_error'].apply(lambda x: x[0] >= 0 and x[1] >= 0)) &\n",
    "#     (aggregated_observations_df['delay_error'].apply(lambda x: x[0] >= 0 and x[1] >= 0))\n",
    "# ]"
   ]
  },
  {
   "cell_type": "code",
   "execution_count": null,
   "metadata": {},
   "outputs": [],
   "source": [
    "build_minutes_errors = np.array(aggregated_observations_df['build_minutes_error'].tolist()).T  # Transposing to get correct shape\n",
    "delay_errors = np.array(aggregated_observations_df['delay_error'].tolist()).T  # Transposing to get correct shape\n",
    "print(build_minutes_errors)\n",
    "\n",
    "plt.errorbar(\n",
    "    x=aggregated_observations_df['delay_mean'],\n",
    "    y=aggregated_observations_df['build_minutes_mean'],\n",
    "    # yerr=delay_errors,  # Error bars for delay\n",
    "    yerr=build_minutes_errors,  # Error bars for build minutes\n",
    "    fmt='o', ecolor='r', capsize=5, linestyle='None', markersize=5,\n",
    "    label='Commit'\n",
    ")\n",
    "\n",
    "plt.xlabel('Mean Delay')\n",
    "plt.ylabel('Mean Build Minutes')\n",
    "plt.title('Scatter Plot of Build Minutes vs. Delay with 95% CI Error Bars')\n",
    "plt.grid(True)\n",
    "plt.legend()\n",
    "plt.show()"
   ]
  },
  {
   "cell_type": "code",
   "execution_count": null,
   "metadata": {},
   "outputs": [],
   "source": [
    "observations_df.to_csv(\"observations.csv\", index=False)"
   ]
>>>>>>> 4447bb3 (comit)
=======
>>>>>>> 7c9513cf1cc3800daea8c74c3303aff32d8e353d
  }
 ],
 "metadata": {
  "kernelspec": {
   "display_name": "Python 3",
   "language": "python",
   "name": "python3"
  },
  "language_info": {
   "codemirror_mode": {
    "name": "ipython",
    "version": 3
   },
   "file_extension": ".py",
   "mimetype": "text/x-python",
   "name": "python",
   "nbconvert_exporter": "python",
   "pygments_lexer": "ipython3",
   "version": "3.11.7"
  }
 },
 "nbformat": 4,
 "nbformat_minor": 2
}
