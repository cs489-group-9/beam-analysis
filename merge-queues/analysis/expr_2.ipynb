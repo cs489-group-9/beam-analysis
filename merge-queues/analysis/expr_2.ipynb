{
 "cells": [
  {
   "cell_type": "markdown",
   "metadata": {},
   "source": [
    "### Setup all the functions required"
   ]
  },
  {
   "cell_type": "code",
   "execution_count": 21,
   "metadata": {},
   "outputs": [],
   "source": [
    "import sys\n",
    "import logging\n",
    "import pandas as pd\n",
    "import numpy as np\n",
    "from tqdm import tqdm\n",
    "from google.cloud import bigquery\n",
    "from collections import defaultdict\n",
    "import matplotlib.pyplot as plt\n",
    "\n",
    "client = bigquery.Client()\n",
    "\n",
    "logging.basicConfig(stream=sys.stdout, level=logging.INFO)\n",
    "logger = logging.getLogger(__name__)\n",
    "\n",
    "\n",
    "def batch_commits_and_sum_build_times(\n",
    "    commits: pd.DataFrame, workflow_runs: pd.DataFrame, batch_max_wait_time: int\n",
    "):\n",
    "    \"\"\"\n",
    "    Given a DataFrame of commits, batch them into groups based on the time between commits\n",
    "    \"\"\"\n",
    "    total_build_time = 0\n",
    "    total_batches = 0\n",
    "    total_delay = 0\n",
    "    current_batch_workflows = defaultdict(list)\n",
    "    current_batch_end_time = commits.iloc[0][\"date\"] + pd.Timedelta(\n",
    "        minutes=batch_max_wait_time\n",
    "    )\n",
    "\n",
    "    for i in range(len(commits)):\n",
    "        curr_commit = commits.iloc[i]\n",
    "\n",
    "        if curr_commit[\"date\"] > current_batch_end_time:\n",
    "            for _, build_times in current_batch_workflows.items():\n",
    "                total_build_time += np.mean(build_times)\n",
    "\n",
    "            current_batch_end_time = curr_commit[\"date\"] + pd.Timedelta(\n",
    "                minutes=batch_max_wait_time\n",
    "            )\n",
    "            current_batch_workflows = defaultdict(list)\n",
    "            total_delay += batch_max_wait_time\n",
    "            total_batches += 1\n",
    "\n",
    "        workflows_for_commit = workflow_runs.loc[\n",
    "            workflow_runs[\"head_sha\"] == curr_commit[\"sha\"]\n",
    "        ]\n",
    "        for _, workflow in workflows_for_commit.iterrows():\n",
    "            current_batch_workflows[workflow[\"workflow_id\"]].append(\n",
    "                workflow[\"build_minutes\"]\n",
    "            )\n",
    "\n",
    "    # Process the last batch\n",
    "    for _, build_times in current_batch_workflows.items():\n",
    "        total_build_time += np.mean(build_times)\n",
    "    total_delay += batch_max_wait_time\n",
    "    total_batches += 1\n",
    "\n",
    "    return (total_build_time, total_delay, total_delay / total_batches)\n",
    "\n",
    "\n",
    "def run_monte_carlo_simulation(\n",
    "    all_commits: pd.DataFrame, workflow_runs: pd.DataFrame, iterations: int = 10\n",
    "):\n",
    "    simulation_results = []\n",
    "    for _ in tqdm(range(iterations)):\n",
    "        bootstrap_sample = all_commits.sample(\n",
    "            n=1000, replace=True\n",
    "        ).sort_index()  # retain original sorted order which which started at the earliest commit in range and is ascending by time\n",
    "\n",
    "        merge_queue_batch_delay = np.random.randint(1, 61)\n",
    "        build_time, total_delay, mean_delay = batch_commits_and_sum_build_times(\n",
    "            bootstrap_sample, workflow_runs, merge_queue_batch_delay\n",
    "        )\n",
    "\n",
    "        simulation_results.append(\n",
    "            {\n",
    "                \"merge_queue_batch_delay\": merge_queue_batch_delay,\n",
    "                \"total_ci_minutes\": build_time,\n",
    "                \"total_delay\": total_delay,\n",
    "                \"mean_delay\": mean_delay,\n",
    "            }\n",
    "        )\n",
    "\n",
    "    simulation_results_df = pd.DataFrame(simulation_results)\n",
    "\n",
    "    return simulation_results_df\n",
    "\n",
    "\n",
    "def run_control(workflow_runs: pd.DataFrame):\n",
    "    return workflow_runs[\"build_minutes\"].sum()"
   ]
  },
  {
   "cell_type": "markdown",
   "metadata": {},
   "source": [
    "### Pull the data from BigQuery"
   ]
  },
  {
   "cell_type": "code",
   "execution_count": 22,
   "metadata": {},
   "outputs": [
    {
     "name": "stdout",
     "output_type": "stream",
     "text": [
      "INFO:__main__:Fetching data from BigQuery...\n"
     ]
    }
   ],
   "source": [
    "query_for_commit_shas = \"SELECT sha, commit.committer.date FROM `scientific-glow-417622.beam.commits` ORDER BY commit.committer.date ASC\"\n",
    "query_for_workflow_runs = \"\"\"\n",
    "    SELECT\n",
    "        workflow_run.head_sha,\n",
    "        workflow_run.name,\n",
    "        workflow_run.workflow_id,\n",
    "        workflow_run.run_started_at,\n",
    "        workflow_run.created_at,\n",
    "        workflow_run.updated_at,\n",
    "        TIMESTAMP_DIFF(workflow_run.updated_at, workflow_run.created_at, SECOND) / 60.0 AS build_minutes\n",
    "    FROM\n",
    "        `scientific-glow-417622.beam.commits` AS commits\n",
    "    CROSS JOIN\n",
    "        `scientific-glow-417622.beam.push_and_schedule_workflows`,\n",
    "        UNNEST(workflow_runs) AS workflow_run\n",
    "    WHERE\n",
    "        commits.sha = workflow_run.head_sha AND workflow_run.event = 'push'\n",
    "        \"\"\"\n",
    "logger.info(\"Fetching data from BigQuery...\")\n",
    "commits_df = client.query_and_wait(query_for_commit_shas).to_dataframe()\n",
    "workflow_runs_df = client.query_and_wait(query_for_workflow_runs).to_dataframe()\n"
   ]
  },
  {
   "cell_type": "markdown",
   "metadata": {},
   "source": [
    "### Run Control"
   ]
  },
  {
   "cell_type": "code",
   "execution_count": 23,
   "metadata": {},
   "outputs": [
    {
     "name": "stdout",
     "output_type": "stream",
     "text": [
      "INFO:__main__:Calculating control Build minutes...\n",
      "INFO:__main__:Total Build Time for Control is: 293286.8\n",
      "293286.8\n"
     ]
    }
   ],
   "source": [
    "logger.info(\"Calculating control Build minutes...\")\n",
    "control_build_minutes = run_control(workflow_runs_df)\n",
    "logger.info(f\"Total Build Time for Control is: {control_build_minutes}\")\n",
    "print(control_build_minutes)"
   ]
  },
  {
   "cell_type": "markdown",
   "metadata": {},
   "source": [
    "### Run Monte Carlo Simulation"
   ]
  },
  {
   "cell_type": "code",
   "execution_count": 24,
   "metadata": {},
   "outputs": [
    {
     "name": "stdout",
     "output_type": "stream",
     "text": [
      "INFO:__main__:Running Monte Carlo Simulation...\n"
     ]
    },
    {
     "name": "stderr",
     "output_type": "stream",
     "text": [
      "100%|██████████| 10000/10000 [3:00:45<00:00,  1.08s/it]  "
     ]
    },
    {
     "name": "stdout",
     "output_type": "stream",
     "text": [
      "      merge_queue_batch_delay  total_ci_minutes  total_delay  mean_delay\n",
      "0                          46     143797.034345        19182        46.0\n",
      "1                          26     177870.009385        12636        26.0\n",
      "2                          43     167499.501865        18834        43.0\n",
      "3                          58     155380.176178        23084        58.0\n",
      "4                          54     149009.315873        22140        54.0\n",
      "...                       ...               ...          ...         ...\n",
      "9995                        5     183976.317222         2950         5.0\n",
      "9996                       16     180466.735595         8224        16.0\n",
      "9997                       55     143016.469199        22825        55.0\n",
      "9998                       46     166866.838115        20332        46.0\n",
      "9999                       42     159761.929345        18522        42.0\n",
      "\n",
      "[10000 rows x 4 columns]\n"
     ]
    },
    {
     "name": "stderr",
     "output_type": "stream",
     "text": [
      "\n"
     ]
    }
   ],
   "source": [
    "logger.info(\"Running Monte Carlo Simulation...\")\n",
    "simulation_results_df = run_monte_carlo_simulation(\n",
    "    commits_df, workflow_runs_df, iterations=10000\n",
    ")\n",
    "print(simulation_results_df)"
   ]
  },
  {
   "cell_type": "markdown",
   "metadata": {},
   "source": [
    "### Plot results"
   ]
  },
  {
   "cell_type": "code",
   "execution_count": 29,
   "metadata": {},
   "outputs": [
    {
     "data": {
      "image/png": "[encoded data removed]",
      "text/plain": [
       "<Figure size 640x480 with 1 Axes>"
      ]
     },
     "metadata": {},
     "output_type": "display_data"
    }
   ],
   "source": [
    "# Plot a scatterplot comparing total_ci_minutes vs total_delay\n",
    "plt.scatter(\n",
    "    simulation_results_df[\"total_ci_minutes\"],\n",
    "    simulation_results_df[\"total_delay\"],\n",
    "    label=\"Monte Carlo Simulation Results\",\n",
    ")\n",
    "\n",
    "plt.xlabel(\"Total CI Minutes\")\n",
    "plt.ylabel(\"Total Delay (minutes)\")\n",
    "plt.title(\"Total CI Minutes vs Total Delay\")\n",
    "plt.show()"
   ]
  },
  {
   "cell_type": "code",
   "execution_count": 27,
   "metadata": {},
   "outputs": [],
   "source": [
    "simulation_results_df.to_csv(\"simulations.csv\", index=False)"
   ]
  }
 ],
 "metadata": {
  "kernelspec": {
   "display_name": "Python 3",
   "language": "python",
   "name": "python3"
  },
  "language_info": {
   "codemirror_mode": {
    "name": "ipython",
    "version": 3
   },
   "file_extension": ".py",
   "mimetype": "text/x-python",
   "name": "python",
   "nbconvert_exporter": "python",
   "pygments_lexer": "ipython3",
   "version": "3.11.7"
  }
 },
 "nbformat": 4,
 "nbformat_minor": 2
}
